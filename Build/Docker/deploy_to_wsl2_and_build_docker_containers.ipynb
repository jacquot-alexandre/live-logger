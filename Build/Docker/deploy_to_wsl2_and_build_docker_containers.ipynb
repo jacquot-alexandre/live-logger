{
 "cells": [
  {
   "cell_type": "markdown",
   "metadata": {},
   "source": [
    "# Introduction\n",
    "Development of the Angular front end and nodejs/typescript server is done in the Windows environment. Thus the source code is on the windows machine. Building the front and back end is also done on Windows. Nevertheless to build docker containers for respectively the front and back end, it is necesarry to copy the distributions folder, the list of dependencies (package.json and package-lock.json) and the docker files into a distibution runing on Windows Subsystem for Linux. Then the container can be build, run / stop or deleted."
   ]
  },
  {
   "cell_type": "markdown",
   "metadata": {},
   "source": [
    "# Front-end\n",
    "### Deploy front-end in WSL2\n",
    "**Note**<br>\n",
    "Restart kernel before executing cell"
   ]
  },
  {
   "cell_type": "code",
   "execution_count": 1,
   "metadata": {
    "dotnet_interactive": {
     "language": "pwsh"
    },
    "polyglot_notebook": {
     "kernelName": "pwsh"
    },
    "vscode": {
     "languageId": "polyglot-notebook"
    }
   },
   "outputs": [
    {
     "name": "stdout",
     "output_type": "stream",
     "text": [
      "All child items in '\\\\wsl.localhost\\Ubuntu-24.04\\home\\ajacquot\\Documents\\LiveLogger\\Docker\\Front-end\\dist' have been deleted.\r\n"
     ]
    },
    {
     "data": {
      "text/plain": []
     },
     "metadata": {},
     "output_type": "display_data"
    },
    {
     "name": "stdout",
     "output_type": "stream",
     "text": [
      "Files copied successfully from C:\\Users\\Ich\\Documents\\0000_Github\\live-logger\\LiveLogger-Net-TypeScript_NodeJs-Angular\\NxtStp-LiveLogger-Frontend\\dist\\NxtStp-LiveLogger-front\\browser to \\\\wsl.localhost\\Ubuntu-24.04\\home\\ajacquot\\Documents\\LiveLogger\\Docker\\Front-end\\dist\n",
      "Dockerfile copied successfully from C:\\Users\\Ich\\Documents\\0000_Github\\live-logger\\Build\\Docker\\Front-end to \\\\wsl.localhost\\Ubuntu-24.04\\home\\ajacquot\\Documents\\LiveLogger\\Docker\\Front-end\n",
      "package*.json copied successfully from C:\\Users\\Ich\\Documents\\0000_Github\\live-logger\\LiveLogger-Net-TypeScript_NodeJs-Angular\\NxtStp-LiveLogger-Frontend to \\\\wsl.localhost\\Ubuntu-24.04\\home\\ajacquot\\Documents\\LiveLogger\\Docker\\Front-end\n"
     ]
    }
   ],
   "source": [
    "./Scripts/delploy_front_end_to_wsl2.ps1"
   ]
  },
  {
   "cell_type": "markdown",
   "metadata": {},
   "source": [
    "### Build docker image of the front-end and start the server\n",
    "http://localhost:4200<br>\n",
    "**Note**<br> \n",
    "Restart kernel before executing cell"
   ]
  },
  {
   "cell_type": "code",
   "execution_count": null,
   "metadata": {
    "dotnet_interactive": {
     "language": "pwsh"
    },
    "polyglot_notebook": {
     "kernelName": "pwsh"
    },
    "vscode": {
     "languageId": "polyglot-notebook"
    }
   },
   "outputs": [
    {
     "name": "stdout",
     "output_type": "stream",
     "text": [
      "\u001b[31;1m#0 building with \"desktop-linux\" instance using docker driver\u001b[0m\n",
      "\u001b[31;1m\u001b[0m\n",
      "\u001b[31;1m#1 [internal] load build definition from Dockerfile\u001b[0m\n",
      "\u001b[31;1m#1 transferring dockerfile: 619B 0.1s done\u001b[0m\n",
      "\u001b[31;1m#1 DONE 0.1s\u001b[0m\n",
      "\u001b[31;1m\u001b[0m\n",
      "\u001b[31;1m#2 [internal] load metadata for docker.io/library/node:23-alpine3.21\u001b[0m\n",
      "\u001b[31;1m#2 DONE 1.8s\u001b[0m\n",
      "\u001b[31;1m\u001b[0m\n",
      "\u001b[31;1m#3 [internal] load .dockerignore\u001b[0m\n",
      "\u001b[31;1m#3 transferring context: 2B 0.0s done\u001b[0m\n",
      "\u001b[31;1m#3 DONE 0.1s\u001b[0m\n",
      "\u001b[31;1m\u001b[0m\n",
      "\u001b[31;1m#4 [internal] load build context\u001b[0m\n",
      "\u001b[31;1m#4 DONE 0.0s\u001b[0m\n",
      "\u001b[31;1m\u001b[0m\n",
      "\u001b[31;1m#5 [1/6] FROM docker.io/library/node:23-alpine3.21@sha256:c61b6b12a3c96373673cd52d7ecee2314e82bca5d541eecf0bc6aee870c8c6f7\u001b[0m\n",
      "\u001b[31;1m#5 resolve docker.io/library/node:23-alpine3.21@sha256:c61b6b12a3c96373673cd52d7ecee2314e82bca5d541eecf0bc6aee870c8c6f7 0.1s done\u001b[0m\n",
      "\u001b[31;1m#5 DONE 0.2s\u001b[0m\n",
      "\u001b[31;1m\u001b[0m\n",
      "\u001b[31;1m#4 [internal] load build context\u001b[0m\n",
      "\u001b[31;1m#4 transferring context: 433B 0.1s done\u001b[0m\n",
      "\u001b[31;1m#4 DONE 0.1s\u001b[0m\n",
      "\u001b[31;1m\u001b[0m\n",
      "\u001b[31;1m#6 [5/6] ADD /dist  /app\u001b[0m\n",
      "\u001b[31;1m#6 CACHED\u001b[0m\n",
      "\u001b[31;1m\u001b[0m\n",
      "\u001b[31;1m#7 [2/6] WORKDIR /app\u001b[0m\n",
      "\u001b[31;1m#7 CACHED\u001b[0m\n",
      "\u001b[31;1m\u001b[0m\n",
      "\u001b[31;1m#8 [3/6] COPY package*.json ./\u001b[0m\n",
      "\u001b[31;1m#8 CACHED\u001b[0m\n",
      "\u001b[31;1m\u001b[0m\n",
      "\u001b[31;1m#9 [4/6] RUN npm install\u001b[0m\n",
      "\u001b[31;1m#9 CACHED\u001b[0m\n",
      "\u001b[31;1m\u001b[0m\n",
      "\u001b[31;1m#10 [6/6] RUN npm install -g http-server\u001b[0m\n",
      "\u001b[31;1m#10 CACHED\u001b[0m\n",
      "\u001b[31;1m\u001b[0m\n",
      "\u001b[31;1m#11 exporting to image\u001b[0m\n",
      "\u001b[31;1m#11 exporting layers 0.0s done\u001b[0m\n",
      "\u001b[31;1m#11 exporting manifest sha256:8cb57c335c496dde239d19c5f355dbba40428d12fb8fb649c0a83ddc11e70010\u001b[0m\n",
      "\u001b[31;1m#11 exporting manifest sha256:8cb57c335c496dde239d19c5f355dbba40428d12fb8fb649c0a83ddc11e70010 0.6s done\u001b[0m\n",
      "\u001b[31;1m#11 exporting config sha256:0774832f2bee6224c00afdb9f0169dbbee570c7adce6759c0490b9c876e51e95\u001b[0m\n",
      "\u001b[31;1m#11 exporting config sha256:0774832f2bee6224c00afdb9f0169dbbee570c7adce6759c0490b9c876e51e95 0.2s done\u001b[0m\n",
      "\u001b[31;1m#11 exporting attestation manifest sha256:93f79a6d9016a128cddb35bd4b42ad15e9b2a93250ab083f0edbce298ab05bcc\u001b[0m\n",
      "\u001b[31;1m#11 exporting attestation manifest sha256:93f79a6d9016a128cddb35bd4b42ad15e9b2a93250ab083f0edbce298ab05bcc 0.5s done\u001b[0m\n",
      "\u001b[31;1m#11 exporting manifest list sha256:4ea0b29c7dce920d94932b5f331a009775db93e30a1c83a63fd03c1a7988bb73\u001b[0m\n",
      "\u001b[31;1m#11 exporting manifest list sha256:4ea0b29c7dce920d94932b5f331a009775db93e30a1c83a63fd03c1a7988bb73 0.2s done\u001b[0m\n",
      "\u001b[31;1m#11 naming to docker.io/library/livelogger-frontend:latest\u001b[0m\n",
      "\u001b[31;1m#11 naming to docker.io/library/livelogger-frontend:latest 0.0s done\u001b[0m\n",
      "\u001b[31;1m#11 unpacking to docker.io/library/livelogger-frontend:latest\u001b[0m\n",
      "\u001b[31;1m#11 unpacking to docker.io/library/livelogger-frontend:latest 67.1s done\u001b[0m\n",
      "\u001b[31;1m#11 DONE 68.8s\u001b[0m\n",
      "\u001b[31;1m\u001b[0m\n",
      "\u001b[31;1mView build details: docker-desktop://dashboard/build/desktop-linux/desktop-linux/7nmbew81tv4ew7l4apf7d9a8j\u001b[0m\n",
      "39d7b83a03cff3a04ea60bcfce69c2a5c91cfc784c82ce981103c15e8045d906\n",
      "\u001b[31;1mdocker: Error response from daemon: driver failed programming external connectivity on endpoint NxtStp-LiveLogger-Frontend (107bf6ba3c47e25d01bb5dddf86d7d59dc75ecc00fffb18bcdeb73a4237232a7): Bind for 0.0.0.0:8080 failed: port is already allocated.\u001b[0m\n"
     ]
    }
   ],
   "source": [
    "# Define the path to the XML file relative to the script\n",
    "$xmlFilePath = \"paths.xml\"\n",
    "\n",
    "# Load the XML file\n",
    "$xml = [xml](Get-Content $xmlFilePath)\n",
    "\n",
    "# Extract the path value\n",
    "$wslDistroDir = $xml.root.wslDistroPath\n",
    "\n",
    "$distDestinationDir = $wslDistroDir+\"\\home\\ajacquot\\Documents\\LiveLogger\\Docker\\Front-end\"\n",
    "docker build -t livelogger-frontend $distDestinationDir\n",
    "docker run -d -p 4200:4200 --name NxtStp-LiveLogger-Frontend livelogger-frontend"
   ]
  },
  {
   "cell_type": "markdown",
   "metadata": {},
   "source": [
    "# Back-end\n",
    "### Deploy back-end in WSL2\n",
    "**Note**<br> \n",
    "Restart kernel before executing cell"
   ]
  },
  {
   "cell_type": "code",
   "execution_count": 1,
   "metadata": {
    "dotnet_interactive": {
     "language": "pwsh"
    },
    "polyglot_notebook": {
     "kernelName": "pwsh"
    },
    "vscode": {
     "languageId": "polyglot-notebook"
    }
   },
   "outputs": [
    {
     "name": "stdout",
     "output_type": "stream",
     "text": [
      "All child items in '\\\\wsl.localhost\\Ubuntu-24.04\\home\\ajacquot\\Documents\\LiveLogger\\Docker\\Back-end\\dist' have been deleted.\r\n"
     ]
    },
    {
     "data": {
      "text/plain": []
     },
     "metadata": {},
     "output_type": "display_data"
    },
    {
     "name": "stdout",
     "output_type": "stream",
     "text": [
      "html and js files copied successfully from C:\\Users\\Ich\\Documents\\0000_Github\\live-logger\\LiveLogger-Net-TypeScript_NodeJs-Angular\\NxtStp-LiveLogger-Backend\\NxtStp.Node-TypeScript.LiveLogger-main\\dist to \\\\wsl.localhost\\Ubuntu-24.04\\home\\ajacquot\\Documents\\LiveLogger\\Docker\\Back-end\\dist\n",
      "Dockerfile copied successfully from C:\\Users\\Ich\\Documents\\0000_Github\\live-logger\\Build\\Docker\\Back-end to \\\\wsl.localhost\\Ubuntu-24.04\\home\\ajacquot\\Documents\\LiveLogger\\Docker\\Back-end\n",
      "package*.json copied successfully from C:\\Users\\Ich\\Documents\\0000_Github\\live-logger\\LiveLogger-Net-TypeScript_NodeJs-Angular\\NxtStp-LiveLogger-Backend\\NxtStp.Node-TypeScript.LiveLogger-main to \\\\wsl.localhost\\Ubuntu-24.04\\home\\ajacquot\\Documents\\LiveLogger\\Docker\\Back-end\n"
     ]
    }
   ],
   "source": [
    "./Scripts/delploy_back_end_to_wsl2.ps1"
   ]
  },
  {
   "cell_type": "markdown",
   "metadata": {},
   "source": [
    "### Build docker image of the back-end and start the server\n",
    "http://localhost:3000<br>\n",
    "**Note**<br> \n",
    "Restart kernel before executing cell"
   ]
  },
  {
   "cell_type": "code",
   "execution_count": 1,
   "metadata": {
    "dotnet_interactive": {
     "language": "pwsh"
    },
    "polyglot_notebook": {
     "kernelName": "pwsh"
    },
    "vscode": {
     "languageId": "polyglot-notebook"
    }
   },
   "outputs": [
    {
     "name": "stdout",
     "output_type": "stream",
     "text": [
      "\u001b[31;1m#0 building with \"desktop-linux\" instance using docker driver\u001b[0m\n",
      "\u001b[31;1m\u001b[0m\n",
      "\u001b[31;1m#1 [internal] load build definition from Dockerfile\u001b[0m\n",
      "\u001b[31;1m#1 transferring dockerfile: 460B 0.1s done\u001b[0m\n",
      "\u001b[31;1m#1 DONE 0.2s\u001b[0m\n",
      "\u001b[31;1m\u001b[0m\n",
      "\u001b[31;1m#2 [internal] load metadata for docker.io/library/node:23-alpine3.21\u001b[0m\n",
      "\u001b[31;1m#2 DONE 3.2s\u001b[0m\n",
      "\u001b[31;1m\u001b[0m\n",
      "\u001b[31;1m#3 [internal] load .dockerignore\u001b[0m\n",
      "\u001b[31;1m#3 transferring context: 2B 0.1s done\u001b[0m\n",
      "\u001b[31;1m#3 DONE 0.2s\u001b[0m\n",
      "\u001b[31;1m\u001b[0m\n",
      "\u001b[31;1m#4 [internal] load build context\u001b[0m\n",
      "\u001b[31;1m#4 ...\u001b[0m\n",
      "\u001b[31;1m\u001b[0m\n",
      "\u001b[31;1m#5 [1/5] FROM docker.io/library/node:23-alpine3.21@sha256:c61b6b12a3c96373673cd52d7ecee2314e82bca5d541eecf0bc6aee870c8c6f7\u001b[0m\n",
      "\u001b[31;1m#5 resolve docker.io/library/node:23-alpine3.21@sha256:c61b6b12a3c96373673cd52d7ecee2314e82bca5d541eecf0bc6aee870c8c6f7 0.2s done\u001b[0m\n",
      "\u001b[31;1m#5 DONE 0.3s\u001b[0m\n",
      "\u001b[31;1m\u001b[0m\n",
      "\u001b[31;1m#4 [internal] load build context\u001b[0m\n",
      "\u001b[31;1m#4 transferring context: 2.96kB 0.3s done\u001b[0m\n",
      "\u001b[31;1m#4 DONE 0.8s\u001b[0m\n",
      "\u001b[31;1m\u001b[0m\n",
      "\u001b[31;1m#6 [4/5] RUN npm install\u001b[0m\n",
      "\u001b[31;1m#6 CACHED\u001b[0m\n",
      "\u001b[31;1m\u001b[0m\n",
      "\u001b[31;1m#7 [2/5] WORKDIR /app\u001b[0m\n",
      "\u001b[31;1m#7 CACHED\u001b[0m\n",
      "\u001b[31;1m\u001b[0m\n",
      "\u001b[31;1m#8 [3/5] COPY package*.json ./\u001b[0m\n",
      "\u001b[31;1m#8 CACHED\u001b[0m\n",
      "\u001b[31;1m\u001b[0m\n",
      "\u001b[31;1m#9 [5/5] ADD /dist  /app\u001b[0m\n",
      "\u001b[31;1m#9 CACHED\u001b[0m\n",
      "\u001b[31;1m\u001b[0m\n",
      "\u001b[31;1m#10 exporting to image\u001b[0m\n",
      "\u001b[31;1m#10 exporting layers\u001b[0m\n",
      "\u001b[31;1m#10 exporting layers 0.2s done\u001b[0m\n",
      "\u001b[31;1m#10 exporting manifest sha256:cd2013ad498efdedca31978322846b33be5ea9c4de8fca31dd4831a608abacdd\u001b[0m\n",
      "\u001b[31;1m#10 exporting manifest sha256:cd2013ad498efdedca31978322846b33be5ea9c4de8fca31dd4831a608abacdd 0.2s done\u001b[0m\n",
      "\u001b[31;1m#10 exporting config sha256:48ccc7c7fe08fee15f8a1d9c50a074b5bb871695d24e35d16133176596fa73be 0.0s done\u001b[0m\n",
      "\u001b[31;1m#10 exporting attestation manifest sha256:aaffea0057520a91a03713d76e53a1f725a6063c147551caae77d4ec00904748\u001b[0m\n",
      "\u001b[31;1m#10 exporting attestation manifest sha256:aaffea0057520a91a03713d76e53a1f725a6063c147551caae77d4ec00904748 0.4s done\u001b[0m\n",
      "\u001b[31;1m#10 exporting manifest list sha256:d1572c593292e8ef60af415a1e56629392dfc757672d8e75075690b1314bb638\u001b[0m\n",
      "\u001b[31;1m#10 exporting manifest list sha256:d1572c593292e8ef60af415a1e56629392dfc757672d8e75075690b1314bb638 0.5s done\u001b[0m\n",
      "\u001b[31;1m#10 naming to docker.io/library/livelogger-backend:latest\u001b[0m\n",
      "\u001b[31;1m#10 naming to docker.io/library/livelogger-backend:latest 0.1s done\u001b[0m\n",
      "\u001b[31;1m#10 unpacking to docker.io/library/livelogger-backend:latest\u001b[0m\n",
      "\u001b[31;1m#10 unpacking to docker.io/library/livelogger-backend:latest 8.8s done\u001b[0m\n",
      "\u001b[31;1m#10 DONE 11.0s\u001b[0m\n",
      "\u001b[31;1m\u001b[0m\n",
      "\u001b[31;1mView build details: docker-desktop://dashboard/build/desktop-linux/desktop-linux/jmhmglwdxz7qwj1141iqvs0mp\u001b[0m\n",
      "cc4f50bf2764c1714b2339fc2ac96d6ed0c12156b9f70fbcb2875129f1d6f890\n"
     ]
    }
   ],
   "source": [
    "# Define the path to the XML file relative to the script\n",
    "$xmlFilePath = \"paths.xml\"\n",
    "\n",
    "# Load the XML file\n",
    "$xml = [xml](Get-Content $xmlFilePath)\n",
    "\n",
    "# Extract the path value\n",
    "$wslDistroDir = $xml.root.wslDistroPath\n",
    "\n",
    "$distDestinationDir = $wslDistroDir+\"\\home\\ajacquot\\Documents\\LiveLogger\\Docker\\Back-end\"\n",
    "docker build -t livelogger-backend $distDestinationDir\n",
    "docker run -d -p 3000:3000 -p 8080:8080 --name NxtStp-LiveLogger-Backend livelogger-backend"
   ]
  },
  {
   "cell_type": "markdown",
   "metadata": {},
   "source": [
    "# Stop back-end docker container\n",
    "**Note**<br> \n",
    "Restart kernel before executing cell\n"
   ]
  },
  {
   "cell_type": "code",
   "execution_count": 4,
   "metadata": {
    "dotnet_interactive": {
     "language": "pwsh"
    },
    "polyglot_notebook": {
     "kernelName": "pwsh"
    },
    "vscode": {
     "languageId": "polyglot-notebook"
    }
   },
   "outputs": [
    {
     "name": "stdout",
     "output_type": "stream",
     "text": [
      "NxtStp-LiveLogger-Backend\r\n"
     ]
    }
   ],
   "source": [
    "docker stop NxtStp-LiveLogger-Backend"
   ]
  },
  {
   "cell_type": "markdown",
   "metadata": {},
   "source": [
    "# Start back-end docker container\n",
    "http://localhost:3000<br>\n",
    "**Note**<br> \n",
    "Restart kernel before executing cell"
   ]
  },
  {
   "cell_type": "code",
   "execution_count": 3,
   "metadata": {
    "dotnet_interactive": {
     "language": "pwsh"
    },
    "polyglot_notebook": {
     "kernelName": "pwsh"
    },
    "vscode": {
     "languageId": "polyglot-notebook"
    }
   },
   "outputs": [
    {
     "name": "stdout",
     "output_type": "stream",
     "text": [
      "NxtStp-LiveLogger-Backend\r\n"
     ]
    }
   ],
   "source": [
    "docker start NxtStp-LiveLogger-Backend"
   ]
  },
  {
   "cell_type": "markdown",
   "metadata": {},
   "source": [
    "# Delete back-end docker container\n",
    "**Note**<br> \n",
    "Restart kernel before executing cell"
   ]
  },
  {
   "cell_type": "code",
   "execution_count": 5,
   "metadata": {
    "dotnet_interactive": {
     "language": "pwsh"
    },
    "polyglot_notebook": {
     "kernelName": "pwsh"
    },
    "vscode": {
     "languageId": "polyglot-notebook"
    }
   },
   "outputs": [
    {
     "name": "stdout",
     "output_type": "stream",
     "text": [
      "NxtStp-LiveLogger-Backend\r\n"
     ]
    }
   ],
   "source": [
    "docker rm NxtStp-LiveLogger-Backend"
   ]
  },
  {
   "cell_type": "markdown",
   "metadata": {},
   "source": [
    "# Delete back-end docker image\n",
    "**Note**<br> \n",
    "Restart kernel before executing cell"
   ]
  },
  {
   "cell_type": "code",
   "execution_count": 8,
   "metadata": {
    "dotnet_interactive": {
     "language": "pwsh"
    },
    "polyglot_notebook": {
     "kernelName": "pwsh"
    },
    "vscode": {
     "languageId": "polyglot-notebook"
    }
   },
   "outputs": [
    {
     "name": "stdout",
     "output_type": "stream",
     "text": [
      "Untagged: livelogger-backend:latest\n",
      "Deleted: sha256:ce5f577b2e32ee082b8eb983a2b3b5507aa069b0467fa0726213c06d108aeb49\n"
     ]
    }
   ],
   "source": [
    "docker rmi livelogger-backend"
   ]
  }
 ],
 "metadata": {
  "kernelspec": {
   "display_name": ".NET (C#)",
   "language": "C#",
   "name": ".net-csharp"
  },
  "language_info": {
   "name": "python"
  },
  "polyglot_notebook": {
   "kernelInfo": {
    "defaultKernelName": "csharp",
    "items": [
     {
      "aliases": [],
      "name": "csharp"
     }
    ]
   }
  }
 },
 "nbformat": 4,
 "nbformat_minor": 2
}
