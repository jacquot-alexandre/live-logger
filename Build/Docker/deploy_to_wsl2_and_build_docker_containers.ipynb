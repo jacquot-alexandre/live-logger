{
 "cells": [
  {
   "cell_type": "markdown",
   "metadata": {},
   "source": [
    "# Introduction\n",
    "Development of the Angular front end and nodejs/typescript server is done in the Windows environment. Thus the source code is on the windows machine. Building the front and back end is also done on Windows. Nevertheless to build docker containers for respectively the front and back end, it is necesarry to copy the distributions folder, the list of dependencies (package.json and package-lock.json) and the docker files into a distibution runing on Windows Subsystem for Linux. Then the container can be build, run / stop or deleted.<br>\n",
    "In addition, if the application is deployed into a server in the cloud, it does make sence to bundle the backend end and frontend services beyond a reverse proxy to just expose one port (useally por 80) and provide the api as endpoint."
   ]
  },
  {
   "cell_type": "markdown",
   "metadata": {},
   "source": [
    "# Front-end\n",
    "### Deploy front-end in WSL2"
   ]
  },
  {
   "cell_type": "code",
   "execution_count": 1,
   "metadata": {
    "dotnet_interactive": {
     "language": "pwsh"
    },
    "polyglot_notebook": {
     "kernelName": "pwsh"
    },
    "vscode": {
     "languageId": "polyglot-notebook"
    }
   },
   "outputs": [
    {
     "name": "stdout",
     "output_type": "stream",
     "text": [
      "All child items in '\\\\wsl.localhost\\Ubuntu-24.04\\home\\ajacquot\\Documents\\LiveLogger\\Docker\\Front-end\\dist' have been deleted.\r\n"
     ]
    },
    {
     "data": {
      "text/plain": []
     },
     "metadata": {},
     "output_type": "display_data"
    },
    {
     "name": "stdout",
     "output_type": "stream",
     "text": [
      "Files copied successfully from C:\\Users\\Ich\\Documents\\0000_Github\\live-logger\\LiveLogger-Net-TypeScript_NodeJs-Angular\\NxtStp-LiveLogger-Frontend\\dist\\NxtStp-LiveLogger-front\\browser to \\\\wsl.localhost\\Ubuntu-24.04\\home\\ajacquot\\Documents\\LiveLogger\\Docker\\Front-end\\dist\n",
      "Dockerfile copied successfully from C:\\Users\\Ich\\Documents\\0000_Github\\live-logger\\Build\\Docker\\Front-end to \\\\wsl.localhost\\Ubuntu-24.04\\home\\ajacquot\\Documents\\LiveLogger\\Docker\\Front-end\n",
      "package*.json copied successfully from C:\\Users\\Ich\\Documents\\0000_Github\\live-logger\\LiveLogger-Net-TypeScript_NodeJs-Angular\\NxtStp-LiveLogger-Frontend to \\\\wsl.localhost\\Ubuntu-24.04\\home\\ajacquot\\Documents\\LiveLogger\\Docker\\Front-end\n"
     ]
    }
   ],
   "source": [
    "./Scripts/delploy_front_end_to_wsl2.ps1"
   ]
  },
  {
   "cell_type": "markdown",
   "metadata": {},
   "source": [
    "### Build docker image of the front-end and start the server\n",
    "http://localhost:4200<br>"
   ]
  },
  {
   "cell_type": "code",
   "execution_count": 3,
   "metadata": {
    "dotnet_interactive": {
     "language": "pwsh"
    },
    "polyglot_notebook": {
     "kernelName": "pwsh"
    },
    "vscode": {
     "languageId": "polyglot-notebook"
    }
   },
   "outputs": [
    {
     "name": "stdout",
     "output_type": "stream",
     "text": [
      "\u001b[31;1m#0 building with \"desktop-linux\" instance using docker driver\u001b[0m\n",
      "\u001b[31;1m\u001b[0m\n",
      "\u001b[31;1m#1 [internal] load build definition from Dockerfile\u001b[0m\n",
      "\u001b[31;1m#1 transferring dockerfile: 619B 0.0s done\u001b[0m\n",
      "\u001b[31;1m#1 DONE 0.1s\u001b[0m\n",
      "\u001b[31;1m\u001b[0m\n",
      "\u001b[31;1m#2 [internal] load metadata for docker.io/library/node:23-alpine3.21\u001b[0m\n",
      "\u001b[31;1m#2 DONE 2.5s\u001b[0m\n",
      "\u001b[31;1m\u001b[0m\n",
      "\u001b[31;1m#3 [internal] load .dockerignore\u001b[0m\n",
      "\u001b[31;1m#3 transferring context: 2B 0.1s done\u001b[0m\n",
      "\u001b[31;1m#3 DONE 0.1s\u001b[0m\n",
      "\u001b[31;1m\u001b[0m\n",
      "\u001b[31;1m#4 [internal] load build context\u001b[0m\n",
      "\u001b[31;1m#4 DONE 0.0s\u001b[0m\n",
      "\u001b[31;1m\u001b[0m\n",
      "\u001b[31;1m#5 [1/6] FROM docker.io/library/node:23-alpine3.21@sha256:c61b6b12a3c96373673cd52d7ecee2314e82bca5d541eecf0bc6aee870c8c6f7\u001b[0m\n",
      "\u001b[31;1m#5 resolve docker.io/library/node:23-alpine3.21@sha256:c61b6b12a3c96373673cd52d7ecee2314e82bca5d541eecf0bc6aee870c8c6f7 0.1s done\u001b[0m\n",
      "\u001b[31;1m#5 DONE 0.2s\u001b[0m\n",
      "\u001b[31;1m\u001b[0m\n",
      "\u001b[31;1m#4 [internal] load build context\u001b[0m\n",
      "\u001b[31;1m#4 transferring context: 433B 0.1s done\u001b[0m\n",
      "\u001b[31;1m#4 DONE 0.1s\u001b[0m\n",
      "\u001b[31;1m\u001b[0m\n",
      "\u001b[31;1m#6 [5/6] ADD /dist  /app\u001b[0m\n",
      "\u001b[31;1m#6 CACHED\u001b[0m\n",
      "\u001b[31;1m\u001b[0m\n",
      "\u001b[31;1m#7 [2/6] WORKDIR /app\u001b[0m\n",
      "\u001b[31;1m#7 CACHED\u001b[0m\n",
      "\u001b[31;1m\u001b[0m\n",
      "\u001b[31;1m#8 [3/6] COPY package*.json ./\u001b[0m\n",
      "\u001b[31;1m#8 CACHED\u001b[0m\n",
      "\u001b[31;1m\u001b[0m\n",
      "\u001b[31;1m#9 [4/6] RUN npm install\u001b[0m\n",
      "\u001b[31;1m#9 CACHED\u001b[0m\n",
      "\u001b[31;1m\u001b[0m\n",
      "\u001b[31;1m#10 [6/6] RUN npm install -g http-server\u001b[0m\n",
      "\u001b[31;1m#10 CACHED\u001b[0m\n",
      "\u001b[31;1m\u001b[0m\n",
      "\u001b[31;1m#11 exporting to image\u001b[0m\n",
      "\u001b[31;1m#11 exporting layers 0.1s done\u001b[0m\n",
      "\u001b[31;1m#11 exporting manifest sha256:8cb57c335c496dde239d19c5f355dbba40428d12fb8fb649c0a83ddc11e70010\u001b[0m\n",
      "\u001b[31;1m#11 exporting manifest sha256:8cb57c335c496dde239d19c5f355dbba40428d12fb8fb649c0a83ddc11e70010 0.3s done\u001b[0m\n",
      "\u001b[31;1m#11 exporting config sha256:0774832f2bee6224c00afdb9f0169dbbee570c7adce6759c0490b9c876e51e95\u001b[0m\n",
      "\u001b[31;1m#11 exporting config sha256:0774832f2bee6224c00afdb9f0169dbbee570c7adce6759c0490b9c876e51e95 0.2s done\u001b[0m\n",
      "\u001b[31;1m#11 exporting attestation manifest sha256:b2813f1f470791c0eaffefe6017353be05850222141dc9dde4f1ab68074e589b\u001b[0m\n",
      "\u001b[31;1m#11 exporting attestation manifest sha256:b2813f1f470791c0eaffefe6017353be05850222141dc9dde4f1ab68074e589b 0.2s done\u001b[0m\n",
      "\u001b[31;1m#11 exporting manifest list sha256:510275c94784a9823de725f838232e6fb1a38141af4fa973c4c4caa58ed54a7a\u001b[0m\n",
      "\u001b[31;1m#11 exporting manifest list sha256:510275c94784a9823de725f838232e6fb1a38141af4fa973c4c4caa58ed54a7a 0.1s done\u001b[0m\n",
      "\u001b[31;1m#11 naming to docker.io/library/livelogger-frontend:latest 0.0s done\u001b[0m\n",
      "\u001b[31;1m#11 unpacking to docker.io/library/livelogger-frontend:latest\u001b[0m\n",
      "\u001b[31;1m#11 unpacking to docker.io/library/livelogger-frontend:latest 48.7s done\u001b[0m\n",
      "\u001b[31;1m#11 DONE 50.1s\u001b[0m\n",
      "\u001b[31;1m\u001b[0m\n",
      "\u001b[31;1mView build details: docker-desktop://dashboard/build/desktop-linux/desktop-linux/hxph79g849ovi0m9arhxd406q\u001b[0m\n",
      "b8553d7c63ff425ded526f4651fa3dad377c4b281b0c5c5df6f2b3a34490a86c\n"
     ]
    }
   ],
   "source": [
    "# Define the path to the XML file relative to the script\n",
    "$xmlFilePath = \"paths.xml\"\n",
    "\n",
    "# Load the XML file\n",
    "$xml = [xml](Get-Content $xmlFilePath)\n",
    "\n",
    "# Extract the path value\n",
    "$wslDistroDir = $xml.root.wslDistroPath\n",
    "\n",
    "$distDestinationDir = $wslDistroDir+\"\\home\\ajacquot\\Documents\\LiveLogger\\Docker\\Front-end\"\n",
    "docker build -t livelogger-frontend $distDestinationDir\n",
    "docker run -d -p 4200:4200 --name NxtStp-LiveLogger-Frontend livelogger-frontend"
   ]
  },
  {
   "cell_type": "markdown",
   "metadata": {},
   "source": [
    "# Stop Front-end docker container"
   ]
  },
  {
   "cell_type": "code",
   "execution_count": 12,
   "metadata": {
    "dotnet_interactive": {
     "language": "pwsh"
    },
    "polyglot_notebook": {
     "kernelName": "pwsh"
    },
    "vscode": {
     "languageId": "polyglot-notebook"
    }
   },
   "outputs": [
    {
     "name": "stdout",
     "output_type": "stream",
     "text": [
      "NxtStp-LiveLogger-Frontend\r\n"
     ]
    }
   ],
   "source": [
    "docker stop NxtStp-LiveLogger-Frontend"
   ]
  },
  {
   "cell_type": "markdown",
   "metadata": {},
   "source": [
    "# Start Front-end docker container\n",
    "http://localhost:3000<br>"
   ]
  },
  {
   "cell_type": "code",
   "execution_count": 11,
   "metadata": {
    "dotnet_interactive": {
     "language": "pwsh"
    },
    "polyglot_notebook": {
     "kernelName": "pwsh"
    },
    "vscode": {
     "languageId": "polyglot-notebook"
    }
   },
   "outputs": [
    {
     "name": "stdout",
     "output_type": "stream",
     "text": [
      "NxtStp-LiveLogger-Frontend\r\n"
     ]
    }
   ],
   "source": [
    "docker start NxtStp-LiveLogger-Frontend"
   ]
  },
  {
   "cell_type": "markdown",
   "metadata": {},
   "source": [
    "# Delete Front-end docker container"
   ]
  },
  {
   "cell_type": "code",
   "execution_count": 13,
   "metadata": {
    "dotnet_interactive": {
     "language": "pwsh"
    },
    "polyglot_notebook": {
     "kernelName": "pwsh"
    },
    "vscode": {
     "languageId": "polyglot-notebook"
    }
   },
   "outputs": [
    {
     "name": "stdout",
     "output_type": "stream",
     "text": [
      "NxtStp-LiveLogger-Frontend\r\n"
     ]
    }
   ],
   "source": [
    "docker rm NxtStp-LiveLogger-Frontend"
   ]
  },
  {
   "cell_type": "markdown",
   "metadata": {},
   "source": [
    "### Delete Front-end docker image"
   ]
  },
  {
   "cell_type": "code",
   "execution_count": 15,
   "metadata": {
    "dotnet_interactive": {
     "language": "pwsh"
    },
    "polyglot_notebook": {
     "kernelName": "pwsh"
    },
    "vscode": {
     "languageId": "polyglot-notebook"
    }
   },
   "outputs": [
    {
     "name": "stdout",
     "output_type": "stream",
     "text": [
      "Untagged: livelogger-frontend:latest\n",
      "Deleted: sha256:510275c94784a9823de725f838232e6fb1a38141af4fa973c4c4caa58ed54a7a\n"
     ]
    }
   ],
   "source": [
    "docker rmi livelogger-frontend"
   ]
  },
  {
   "cell_type": "markdown",
   "metadata": {},
   "source": [
    "# Back-end\n",
    "### Deploy back-end in WSL2"
   ]
  },
  {
   "cell_type": "code",
   "execution_count": 4,
   "metadata": {
    "dotnet_interactive": {
     "language": "pwsh"
    },
    "polyglot_notebook": {
     "kernelName": "pwsh"
    },
    "vscode": {
     "languageId": "polyglot-notebook"
    }
   },
   "outputs": [
    {
     "name": "stdout",
     "output_type": "stream",
     "text": [
      "All child items in '\\\\wsl.localhost\\Ubuntu-24.04\\home\\ajacquot\\Documents\\LiveLogger\\Docker\\Back-end\\dist' have been deleted.\r\n"
     ]
    },
    {
     "data": {
      "text/plain": []
     },
     "metadata": {},
     "output_type": "display_data"
    },
    {
     "name": "stdout",
     "output_type": "stream",
     "text": [
      "html and js files copied successfully from C:\\Users\\Ich\\Documents\\0000_Github\\live-logger\\LiveLogger-Net-TypeScript_NodeJs-Angular\\NxtStp-LiveLogger-Backend\\NxtStp.Node-TypeScript.LiveLogger-main\\dist to \\\\wsl.localhost\\Ubuntu-24.04\\home\\ajacquot\\Documents\\LiveLogger\\Docker\\Back-end\\dist\n",
      "Dockerfile copied successfully from C:\\Users\\Ich\\Documents\\0000_Github\\live-logger\\Build\\Docker\\Back-end to \\\\wsl.localhost\\Ubuntu-24.04\\home\\ajacquot\\Documents\\LiveLogger\\Docker\\Back-end\n",
      "package*.json copied successfully from C:\\Users\\Ich\\Documents\\0000_Github\\live-logger\\LiveLogger-Net-TypeScript_NodeJs-Angular\\NxtStp-LiveLogger-Backend\\NxtStp.Node-TypeScript.LiveLogger-main to \\\\wsl.localhost\\Ubuntu-24.04\\home\\ajacquot\\Documents\\LiveLogger\\Docker\\Back-end\n"
     ]
    }
   ],
   "source": [
    "./Scripts/delploy_back_end_to_wsl2.ps1"
   ]
  },
  {
   "cell_type": "markdown",
   "metadata": {},
   "source": [
    "### Build docker image of the back-end and start the server\n",
    "http://localhost:3000<br>"
   ]
  },
  {
   "cell_type": "code",
   "execution_count": 5,
   "metadata": {
    "dotnet_interactive": {
     "language": "pwsh"
    },
    "polyglot_notebook": {
     "kernelName": "pwsh"
    },
    "vscode": {
     "languageId": "polyglot-notebook"
    }
   },
   "outputs": [
    {
     "name": "stdout",
     "output_type": "stream",
     "text": [
      "\u001b[31;1m#0 building with \"desktop-linux\" instance using docker driver\u001b[0m\n",
      "\u001b[31;1m\u001b[0m\n",
      "\u001b[31;1m#1 [internal] load build definition from Dockerfile\u001b[0m\n",
      "\u001b[31;1m#1 transferring dockerfile: 460B 0.1s done\u001b[0m\n",
      "\u001b[31;1m#1 DONE 0.3s\u001b[0m\n",
      "\u001b[31;1m\u001b[0m\n",
      "\u001b[31;1m#2 [internal] load metadata for docker.io/library/node:23-alpine3.21\u001b[0m\n",
      "\u001b[31;1m#2 DONE 1.7s\u001b[0m\n",
      "\u001b[31;1m\u001b[0m\n",
      "\u001b[31;1m#3 [internal] load .dockerignore\u001b[0m\n",
      "\u001b[31;1m#3 transferring context: 2B 0.0s done\u001b[0m\n",
      "\u001b[31;1m#3 DONE 0.1s\u001b[0m\n",
      "\u001b[31;1m\u001b[0m\n",
      "\u001b[31;1m#4 [internal] load build context\u001b[0m\n",
      "\u001b[31;1m#4 transferring context: 2.96kB 0.5s done\u001b[0m\n",
      "\u001b[31;1m#4 DONE 0.6s\u001b[0m\n",
      "\u001b[31;1m\u001b[0m\n",
      "\u001b[31;1m#5 [1/5] FROM docker.io/library/node:23-alpine3.21@sha256:c61b6b12a3c96373673cd52d7ecee2314e82bca5d541eecf0bc6aee870c8c6f7\u001b[0m\n",
      "\u001b[31;1m#5 resolve docker.io/library/node:23-alpine3.21@sha256:c61b6b12a3c96373673cd52d7ecee2314e82bca5d541eecf0bc6aee870c8c6f7 0.5s done\u001b[0m\n",
      "\u001b[31;1m#5 DONE 0.6s\u001b[0m\n",
      "\u001b[31;1m\u001b[0m\n",
      "\u001b[31;1m#6 [2/5] WORKDIR /app\u001b[0m\n",
      "\u001b[31;1m#6 CACHED\u001b[0m\n",
      "\u001b[31;1m\u001b[0m\n",
      "\u001b[31;1m#7 [3/5] COPY package*.json ./\u001b[0m\n",
      "\u001b[31;1m#7 CACHED\u001b[0m\n",
      "\u001b[31;1m\u001b[0m\n",
      "\u001b[31;1m#8 [4/5] RUN npm install\u001b[0m\n",
      "\u001b[31;1m#8 CACHED\u001b[0m\n",
      "\u001b[31;1m\u001b[0m\n",
      "\u001b[31;1m#9 [5/5] ADD /dist  /app\u001b[0m\n",
      "\u001b[31;1m#9 CACHED\u001b[0m\n",
      "\u001b[31;1m\u001b[0m\n",
      "\u001b[31;1m#10 exporting to image\u001b[0m\n",
      "\u001b[31;1m#10 exporting layers\u001b[0m\n",
      "\u001b[31;1m#10 exporting layers 0.2s done\u001b[0m\n",
      "\u001b[31;1m#10 exporting manifest sha256:cd2013ad498efdedca31978322846b33be5ea9c4de8fca31dd4831a608abacdd\u001b[0m\n",
      "\u001b[31;1m#10 exporting manifest sha256:cd2013ad498efdedca31978322846b33be5ea9c4de8fca31dd4831a608abacdd 0.3s done\u001b[0m\n",
      "\u001b[31;1m#10 exporting config sha256:48ccc7c7fe08fee15f8a1d9c50a074b5bb871695d24e35d16133176596fa73be\u001b[0m\n",
      "\u001b[31;1m#10 exporting config sha256:48ccc7c7fe08fee15f8a1d9c50a074b5bb871695d24e35d16133176596fa73be 0.1s done\u001b[0m\n",
      "\u001b[31;1m#10 exporting attestation manifest sha256:6ec30a7289892db586738adf48558e701c054cce069a045fc91b03af8ba53805\u001b[0m\n",
      "\u001b[31;1m#10 exporting attestation manifest sha256:6ec30a7289892db586738adf48558e701c054cce069a045fc91b03af8ba53805 0.5s done\u001b[0m\n",
      "\u001b[31;1m#10 exporting manifest list sha256:6d84d52e68ec0c086098c66720e3cbdeea34db90891b0452c937511c0d7589c4\u001b[0m\n",
      "\u001b[31;1m#10 exporting manifest list sha256:6d84d52e68ec0c086098c66720e3cbdeea34db90891b0452c937511c0d7589c4 0.1s done\u001b[0m\n",
      "\u001b[31;1m#10 naming to docker.io/library/livelogger-backend:latest\u001b[0m\n",
      "\u001b[31;1m#10 naming to docker.io/library/livelogger-backend:latest 0.0s done\u001b[0m\n",
      "\u001b[31;1m#10 unpacking to docker.io/library/livelogger-backend:latest\u001b[0m\n",
      "\u001b[31;1m#10 unpacking to docker.io/library/livelogger-backend:latest 3.5s done\u001b[0m\n",
      "\u001b[31;1m#10 DONE 5.0s\u001b[0m\n",
      "\u001b[31;1m\u001b[0m\n",
      "\u001b[31;1mView build details: docker-desktop://dashboard/build/desktop-linux/desktop-linux/g26z9qd9xy68dmk5rhtos5ok6\u001b[0m\n",
      "46d9823d0393727890d957ab8bc8dcc4fdcb305344c22a98e1ca2676002b2ade\n"
     ]
    }
   ],
   "source": [
    "# Define the path to the XML file relative to the script\n",
    "$xmlFilePath = \"paths.xml\"\n",
    "\n",
    "# Load the XML file\n",
    "$xml = [xml](Get-Content $xmlFilePath)\n",
    "\n",
    "# Extract the path value\n",
    "$wslDistroDir = $xml.root.wslDistroPath\n",
    "\n",
    "$distDestinationDir = $wslDistroDir+\"\\home\\ajacquot\\Documents\\LiveLogger\\Docker\\Back-end\"\n",
    "docker build -t livelogger-backend $distDestinationDir\n",
    "docker run -d -p 3000:3000 -p 8080:8080 --name NxtStp-LiveLogger-Backend livelogger-backend"
   ]
  },
  {
   "cell_type": "markdown",
   "metadata": {},
   "source": [
    "### Stop back-end docker container\n"
   ]
  },
  {
   "cell_type": "code",
   "execution_count": 6,
   "metadata": {
    "dotnet_interactive": {
     "language": "pwsh"
    },
    "polyglot_notebook": {
     "kernelName": "pwsh"
    },
    "vscode": {
     "languageId": "polyglot-notebook"
    }
   },
   "outputs": [
    {
     "name": "stdout",
     "output_type": "stream",
     "text": [
      "NxtStp-LiveLogger-Backend\r\n"
     ]
    }
   ],
   "source": [
    "docker stop NxtStp-LiveLogger-Backend"
   ]
  },
  {
   "cell_type": "markdown",
   "metadata": {},
   "source": [
    "# Start back-end docker container\n",
    "http://localhost:3000<br>"
   ]
  },
  {
   "cell_type": "code",
   "execution_count": 3,
   "metadata": {
    "dotnet_interactive": {
     "language": "pwsh"
    },
    "polyglot_notebook": {
     "kernelName": "pwsh"
    },
    "vscode": {
     "languageId": "polyglot-notebook"
    }
   },
   "outputs": [
    {
     "name": "stdout",
     "output_type": "stream",
     "text": [
      "NxtStp-LiveLogger-Backend\r\n"
     ]
    }
   ],
   "source": [
    "docker start NxtStp-LiveLogger-Backend"
   ]
  },
  {
   "cell_type": "markdown",
   "metadata": {},
   "source": [
    "### Delete back-end docker container"
   ]
  },
  {
   "cell_type": "code",
   "execution_count": 7,
   "metadata": {
    "dotnet_interactive": {
     "language": "pwsh"
    },
    "polyglot_notebook": {
     "kernelName": "pwsh"
    },
    "vscode": {
     "languageId": "polyglot-notebook"
    }
   },
   "outputs": [
    {
     "name": "stdout",
     "output_type": "stream",
     "text": [
      "NxtStp-LiveLogger-Backend\r\n"
     ]
    }
   ],
   "source": [
    "docker rm NxtStp-LiveLogger-Backend"
   ]
  },
  {
   "cell_type": "markdown",
   "metadata": {},
   "source": [
    "### Delete back-end docker image"
   ]
  },
  {
   "cell_type": "code",
   "execution_count": 8,
   "metadata": {
    "dotnet_interactive": {
     "language": "pwsh"
    },
    "polyglot_notebook": {
     "kernelName": "pwsh"
    },
    "vscode": {
     "languageId": "polyglot-notebook"
    }
   },
   "outputs": [
    {
     "name": "stdout",
     "output_type": "stream",
     "text": [
      "Untagged: livelogger-backend:latest\n",
      "Deleted: sha256:6d84d52e68ec0c086098c66720e3cbdeea34db90891b0452c937511c0d7589c4\n"
     ]
    }
   ],
   "source": [
    "docker rmi livelogger-backend"
   ]
  },
  {
   "cell_type": "markdown",
   "metadata": {},
   "source": [
    "# Nginx - Containers bundle\n",
    "### Deploy Nginx reverser proxy and docker compose file in WSL2"
   ]
  },
  {
   "cell_type": "code",
   "execution_count": 30,
   "metadata": {
    "dotnet_interactive": {
     "language": "pwsh"
    },
    "polyglot_notebook": {
     "kernelName": "pwsh"
    },
    "vscode": {
     "languageId": "polyglot-notebook"
    }
   },
   "outputs": [
    {
     "data": {
      "text/plain": []
     },
     "metadata": {},
     "output_type": "display_data"
    },
    {
     "name": "stdout",
     "output_type": "stream",
     "text": [
      "Dockerfile copied successfully from C:\\Users\\Ich\\Documents\\0000_Github\\live-logger\\Build\\Docker\\Nginx to \\\\wsl.localhost\\Ubuntu-24.04\\home\\ajacquot\\Documents\\LiveLogger\\Docker\\Nginx\n",
      "Nginx configuration copied successfully from C:\\Users\\Ich\\Documents\\0000_Github\\live-logger\\Build\\Docker\\Nginx to \\\\wsl.localhost\\Ubuntu-24.04\\home\\ajacquot\\Documents\\LiveLogger\\Docker\\Nginx\n",
      "Docker compose file copied successfully from C:\\Users\\Ich\\Documents\\0000_Github\\live-logger\\Build\\Docker\\ to \\\\wsl.localhost\\Ubuntu-24.04\\home\\ajacquot\\Documents\\LiveLogger\\Docker\n"
     ]
    }
   ],
   "source": [
    "./Scripts/deploy_nginx_and_docker_compose_file_to_wsl2.ps1"
   ]
  },
  {
   "cell_type": "markdown",
   "metadata": {},
   "source": [
    "### Build application container bundle using docker compose\n"
   ]
  },
  {
   "cell_type": "code",
   "execution_count": 31,
   "metadata": {
    "dotnet_interactive": {
     "language": "pwsh"
    },
    "polyglot_notebook": {
     "kernelName": "pwsh"
    },
    "vscode": {
     "languageId": "polyglot-notebook"
    }
   },
   "outputs": [
    {
     "name": "stdout",
     "output_type": "stream",
     "text": [
      "#0 building with \"desktop-linux\" instance using docker driver\n",
      "\n",
      "#1 [backend internal] load build definition from Dockerfile\n",
      "#1 transferring dockerfile: 460B 0.0s done\n",
      "#1 DONE 0.1s\n",
      "\n",
      "#2 [backend internal] load metadata for docker.io/library/node:23-alpine3.21\n",
      "#2 DONE 2.9s\n",
      "\n",
      "#3 [backend internal] load .dockerignore\n",
      "#3 transferring context: 2B 0.0s done\n",
      "#3 DONE 0.1s\n",
      "\n",
      "#4 [backend internal] load build context\n",
      "#4 ...\n",
      "\n",
      "#5 [backend 1/5] FROM docker.io/library/node:23-alpine3.21@sha256:c61b6b12a3c96373673cd52d7ecee2314e82bca5d541eecf0bc6aee870c8c6f7\n",
      "#5 resolve docker.io/library/node:23-alpine3.21@sha256:c61b6b12a3c96373673cd52d7ecee2314e82bca5d541eecf0bc6aee870c8c6f7 0.2s done\n",
      "#5 DONE 0.2s\n",
      "\n",
      "#4 [backend internal] load build context\n",
      "#4 transferring context: 2.96kB 0.2s done\n",
      "#4 DONE 0.3s\n",
      "\n",
      "#6 [backend 2/5] WORKDIR /app\n",
      "#6 CACHED\n",
      "\n",
      "#7 [backend 3/5] COPY package*.json ./\n",
      "#7 CACHED\n",
      "\n",
      "#8 [backend 4/5] RUN npm install\n",
      "#8 CACHED\n",
      "\n",
      "#9 [backend 5/5] ADD /dist  /app\n",
      "#9 CACHED\n",
      "\n",
      "#10 [backend] exporting to image\n",
      "#10 exporting layers\n",
      "#10 exporting layers 0.0s done\n",
      "#10 exporting manifest sha256:83cf748f19819129ba4d83f638d8f7cf12eb68a706bfdbbc98858782c1c67040 0.0s done\n",
      "#10 exporting config sha256:70579eb84e19561463715aa0bcfc89ba489061c0da6f0e4b98d32082ed952812\n",
      "#10 exporting config sha256:70579eb84e19561463715aa0bcfc89ba489061c0da6f0e4b98d32082ed952812 0.2s done\n",
      "#10 exporting attestation manifest sha256:fc25430756c614b28dfcb53d18c79fcf2dce33f109bdfc3698f5b3b104bfe66b\n",
      "#10 exporting attestation manifest sha256:fc25430756c614b28dfcb53d18c79fcf2dce33f109bdfc3698f5b3b104bfe66b 0.2s done\n",
      "#10 exporting manifest list sha256:74bfb9f930d4f0cbe17edf860bc34cd960147865129a0fadbabbb7527cb7ffa7\n",
      "#10 exporting manifest list sha256:74bfb9f930d4f0cbe17edf860bc34cd960147865129a0fadbabbb7527cb7ffa7 0.1s done\n",
      "#10 naming to docker.io/library/liveloggerboundle-backend:latest 0.0s done\n",
      "#10 unpacking to docker.io/library/liveloggerboundle-backend:latest\n",
      "#10 unpacking to docker.io/library/liveloggerboundle-backend:latest 5.8s done\n",
      "#10 DONE 7.5s\n",
      "\n",
      "#11 [backend] resolving provenance for metadata file\n",
      "#11 DONE 0.7s\n",
      "\n",
      "#12 [frontend internal] load build definition from Dockerfile\n",
      "#12 transferring dockerfile: 619B 0.0s done\n",
      "#12 DONE 0.1s\n",
      "\n",
      "#2 [frontend internal] load metadata for docker.io/library/node:23-alpine3.21\n",
      "#2 DONE 4.3s\n",
      "\n",
      "#13 [frontend internal] load .dockerignore\n",
      "#13 transferring context: 0.2s\n",
      "#13 transferring context: 2B 0.2s done\n",
      "#13 DONE 0.4s\n",
      "\n",
      "#14 [frontend internal] load build context\n",
      "#14 DONE 0.0s\n",
      "\n",
      "#5 [frontend 1/6] FROM docker.io/library/node:23-alpine3.21@sha256:c61b6b12a3c96373673cd52d7ecee2314e82bca5d541eecf0bc6aee870c8c6f7\n",
      "#5 resolve docker.io/library/node:23-alpine3.21@sha256:c61b6b12a3c96373673cd52d7ecee2314e82bca5d541eecf0bc6aee870c8c6f7 0.1s done\n",
      "#5 DONE 0.4s\n",
      "\n",
      "#14 [frontend internal] load build context\n",
      "#14 transferring context: 433B 0.2s done\n",
      "#14 DONE 0.4s\n",
      "\n",
      "#15 [frontend 3/6] COPY package*.json ./\n",
      "#15 CACHED\n",
      "\n",
      "#16 [frontend 4/6] RUN npm install\n",
      "#16 CACHED\n",
      "\n",
      "#17 [frontend 5/6] ADD /dist  /app\n",
      "#17 CACHED\n",
      "\n",
      "#6 [frontend 2/6] WORKDIR /app\n",
      "#6 CACHED\n",
      "\n",
      "#18 [frontend 6/6] RUN npm install -g http-server\n",
      "#18 CACHED\n",
      "\n",
      "#19 [frontend] exporting to image\n",
      "#19 exporting layers done\n",
      "#19 exporting manifest sha256:156032aee4ffa07844d8436ed980de11c148bc9d2cf9a4e6501f9e51d9500c31 0.0s done\n",
      "#19 exporting config sha256:0046976e5c9f250c28603efb00520188d207349d02e804156075925de2480c02\n",
      "#19 exporting config sha256:0046976e5c9f250c28603efb00520188d207349d02e804156075925de2480c02 0.1s done\n",
      "#19 exporting attestation manifest sha256:d24734b1400c1371891f7808f7efd927b9cc50edbd54dbc4d005f216ace1c4b1\n",
      "#19 exporting attestation manifest sha256:d24734b1400c1371891f7808f7efd927b9cc50edbd54dbc4d005f216ace1c4b1 0.8s done\n",
      "#19 exporting manifest list sha256:baa07ff891b0381f0f997324788690fd431d676c89d44e0da57f436e4c0da71f\n",
      "#19 exporting manifest list sha256:baa07ff891b0381f0f997324788690fd431d676c89d44e0da57f436e4c0da71f 0.2s done\n",
      "#19 naming to docker.io/library/liveloggerboundle-frontend:latest\n",
      "#19 naming to docker.io/library/liveloggerboundle-frontend:latest 0.0s done\n",
      "#19 unpacking to docker.io/library/liveloggerboundle-frontend:latest\n",
      "#19 unpacking to docker.io/library/liveloggerboundle-frontend:latest 71.9s done\n",
      "#19 DONE 73.2s\n",
      "\n",
      "#20 [frontend] resolving provenance for metadata file\n",
      "#20 DONE 0.1s\n",
      "\n",
      "#21 [nginx internal] load build definition from Dockerfile\n",
      "#21 transferring dockerfile: 219B 0.1s done\n",
      "#21 DONE 0.2s\n",
      "\n",
      "#22 [nginx internal] load metadata for docker.io/library/nginx:latest\n",
      "#22 DONE 0.2s\n",
      "\n",
      "#23 [nginx internal] load .dockerignore\n",
      "#23 transferring context: 2B 0.0s done\n",
      "#23 DONE 0.1s\n",
      "\n",
      "#24 [nginx internal] load build context\n",
      "#24 transferring context: 747B 0.1s done\n",
      "#24 DONE 0.2s\n",
      "\n",
      "#25 [nginx 1/2] FROM docker.io/library/nginx:latest@sha256:bc5eac5eafc581aeda3008b4b1f07ebba230de2f27d47767129a6a905c84f470\n",
      "#25 resolve docker.io/library/nginx:latest@sha256:bc5eac5eafc581aeda3008b4b1f07ebba230de2f27d47767129a6a905c84f470\n",
      "#25 resolve docker.io/library/nginx:latest@sha256:bc5eac5eafc581aeda3008b4b1f07ebba230de2f27d47767129a6a905c84f470 0.2s done\n",
      "#25 CACHED\n",
      "\n",
      "#26 [nginx 2/2] COPY nginx.conf /etc/nginx/nginx.conf\n",
      "#26 DONE 1.6s\n",
      "\n",
      "#27 [nginx] exporting to image\n",
      "#27 exporting layers\n",
      "#27 exporting layers 0.4s done\n",
      "#27 exporting manifest sha256:ca358b90d83837f93eff30dc5522c124d83a086ce6a82614557254df71ad9bcc 0.1s done\n",
      "#27 exporting config sha256:9a011ee243f97f5aaa332c2f2fc20c7f6e2b1dac8fb73363067dd76375917ab9 0.1s done\n",
      "#27 exporting attestation manifest sha256:979c65d8dd6b053ffd8ca0c64e51c636a12875a8378348304a2f05d3408767c6\n",
      "#27 exporting attestation manifest sha256:979c65d8dd6b053ffd8ca0c64e51c636a12875a8378348304a2f05d3408767c6 0.2s done\n",
      "#27 exporting manifest list sha256:7a61118903c9f239fea5783d144429a8acb81f2b7b16293b0aa85dd3fc98baca\n",
      "#27 exporting manifest list sha256:7a61118903c9f239fea5783d144429a8acb81f2b7b16293b0aa85dd3fc98baca 0.1s done\n",
      "#27 naming to docker.io/library/liveloggerboundle-nginx:latest\n",
      "#27 naming to docker.io/library/liveloggerboundle-nginx:latest 0.0s done\n",
      "#27 unpacking to docker.io/library/liveloggerboundle-nginx:latest\n",
      "#27 unpacking to docker.io/library/liveloggerboundle-nginx:latest 0.3s done\n",
      "#27 DONE 1.4s\n",
      "\n",
      "#28 [nginx] resolving provenance for metadata file\n",
      "#28 DONE 0.1s\n"
     ]
    }
   ],
   "source": [
    "# Save the current directory $originalDirectory\n",
    "$originalDirectory = Get-Location\n",
    "\n",
    "# Define the path to the XML file relative to the script\n",
    "$xmlFilePath = \"paths.xml\"\n",
    "\n",
    "# Load the XML file\n",
    "$xml = [xml](Get-Content $xmlFilePath)\n",
    "\n",
    "# Extract the path value\n",
    "$wslDistroDir = $xml.root.wslDistroPath\n",
    "\n",
    "$ComposeFileDestinationDir = $wslDistroDir+\"\\home\\ajacquot\\Documents\\LiveLogger\\Docker\"\n",
    "Set-Location $ComposeFileDestinationDir\n",
    "\n",
    "docker-compose -p liveloggerboundle build \n",
    "\n",
    "# Restore the original directory\n",
    "Set-Location $originalDirectory"
   ]
  },
  {
   "cell_type": "markdown",
   "metadata": {},
   "source": [
    "### Start application container boundle"
   ]
  },
  {
   "cell_type": "code",
   "execution_count": 32,
   "metadata": {
    "dotnet_interactive": {
     "language": "pwsh"
    },
    "polyglot_notebook": {
     "kernelName": "pwsh"
    },
    "vscode": {
     "languageId": "polyglot-notebook"
    }
   },
   "outputs": [
    {
     "name": "stdout",
     "output_type": "stream",
     "text": [
      "\u001b[31;1m Network liveloggerboundle_default  Creating\u001b[0m\n",
      "\u001b[31;1m Network liveloggerboundle_default  Created\u001b[0m\n",
      "\u001b[31;1m Container liveloggerboundle-backend-1  Creating\u001b[0m\n",
      "\u001b[31;1m Container liveloggerboundle-backend-1  Created\u001b[0m\n",
      "\u001b[31;1m Container liveloggerboundle-frontend-1  Creating\u001b[0m\n",
      "\u001b[31;1m Container liveloggerboundle-frontend-1  Created\u001b[0m\n",
      "\u001b[31;1m Container liveloggerboundle-nginx-1  Creating\u001b[0m\n",
      "\u001b[31;1m Container liveloggerboundle-nginx-1  Created\u001b[0m\n",
      "\u001b[31;1m Container liveloggerboundle-backend-1  Starting\u001b[0m\n",
      "\u001b[31;1m Container liveloggerboundle-backend-1  Started\u001b[0m\n",
      "\u001b[31;1m Container liveloggerboundle-frontend-1  Starting\u001b[0m\n",
      "\u001b[31;1m Container liveloggerboundle-frontend-1  Started\u001b[0m\n",
      "\u001b[31;1m Container liveloggerboundle-nginx-1  Starting\u001b[0m\n",
      "\u001b[31;1m Container liveloggerboundle-nginx-1  Started\u001b[0m\n"
     ]
    }
   ],
   "source": [
    "docker-compose -p liveloggerboundle up -d"
   ]
  },
  {
   "cell_type": "markdown",
   "metadata": {},
   "source": [
    "### Stop application container boundle"
   ]
  },
  {
   "cell_type": "code",
   "execution_count": 29,
   "metadata": {
    "dotnet_interactive": {
     "language": "pwsh"
    },
    "polyglot_notebook": {
     "kernelName": "pwsh"
    },
    "vscode": {
     "languageId": "polyglot-notebook"
    }
   },
   "outputs": [
    {
     "name": "stdout",
     "output_type": "stream",
     "text": [
      "\u001b[31;1m Container liveloggerboundle-nginx-1  Stopping\u001b[0m\n",
      "\u001b[31;1m Container liveloggerboundle-nginx-1  Stopped\u001b[0m\n",
      "\u001b[31;1m Container liveloggerboundle-nginx-1  Removing\u001b[0m\n",
      "\u001b[31;1m Container liveloggerboundle-nginx-1  Removed\u001b[0m\n",
      "\u001b[31;1m Container liveloggerboundle-frontend-1  Stopping\u001b[0m\n",
      "\u001b[31;1m Container liveloggerboundle-frontend-1  Stopped\u001b[0m\n",
      "\u001b[31;1m Container liveloggerboundle-frontend-1  Removing\u001b[0m\n",
      "\u001b[31;1m Container liveloggerboundle-frontend-1  Removed\u001b[0m\n",
      "\u001b[31;1m Container liveloggerboundle-backend-1  Stopping\u001b[0m\n",
      "\u001b[31;1m Container liveloggerboundle-backend-1  Stopped\u001b[0m\n",
      "\u001b[31;1m Container liveloggerboundle-backend-1  Removing\u001b[0m\n",
      "\u001b[31;1m Container liveloggerboundle-backend-1  Removed\u001b[0m\n",
      "\u001b[31;1m Network liveloggerboundle_default  Removing\u001b[0m\n",
      "\u001b[31;1m Network liveloggerboundle_default  Removed\u001b[0m\n"
     ]
    }
   ],
   "source": [
    "docker-compose -p liveloggerboundle down"
   ]
  }
 ],
 "metadata": {
  "kernelspec": {
   "display_name": ".NET (C#)",
   "language": "C#",
   "name": ".net-csharp"
  },
  "language_info": {
   "name": "python"
  },
  "polyglot_notebook": {
   "kernelInfo": {
    "defaultKernelName": "csharp",
    "items": [
     {
      "aliases": [],
      "name": "csharp"
     }
    ]
   }
  }
 },
 "nbformat": 4,
 "nbformat_minor": 2
}
