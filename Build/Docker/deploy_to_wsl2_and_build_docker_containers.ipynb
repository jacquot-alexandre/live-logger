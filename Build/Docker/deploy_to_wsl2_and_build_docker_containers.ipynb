{
 "cells": [
  {
   "cell_type": "markdown",
   "metadata": {},
   "source": [
    "# Introduction\n",
    "Development of the Angular front end and nodejs/typescript server is done in the Windows environment. Thus the source code is on the windows machine. Building the front and back end is also done on Windows. Nevertheless to build docker containers for respectively the front and back end, it is necesarry to copy the distributions folder, the list of dependencies (package.json and package-lock.json) and the docker files into a distibution runing on Windows Subsystem for Linux. Then the container can be build, run / stop or deleted.<br>\n",
    "In addition, if the application is deployed into a server in the cloud, it does make sence to bundle the backend end and frontend services beyond a reverse proxy to just expose one port (useally por 80) and provide the api as endpoint."
   ]
  },
  {
   "cell_type": "markdown",
   "metadata": {},
   "source": [
    "# Front-end\n",
    "### Deploy front-end in WSL2"
   ]
  },
  {
   "cell_type": "code",
   "execution_count": 1,
   "metadata": {
    "dotnet_interactive": {
     "language": "pwsh"
    },
    "polyglot_notebook": {
     "kernelName": "pwsh"
    },
    "vscode": {
     "languageId": "polyglot-notebook"
    }
   },
   "outputs": [
    {
     "name": "stdout",
     "output_type": "stream",
     "text": [
      "All child items in '\\\\wsl.localhost\\Ubuntu-24.04\\home\\ajacquot\\Documents\\LiveLogger\\Docker\\Front-end\\dist' have been deleted.\r\n"
     ]
    },
    {
     "data": {
      "text/plain": []
     },
     "metadata": {},
     "output_type": "display_data"
    },
    {
     "name": "stdout",
     "output_type": "stream",
     "text": [
      "Files copied successfully from C:\\Users\\Ich\\Documents\\0000_Github\\live-logger\\LiveLogger-Net-TypeScript_NodeJs-Angular\\NxtStp-LiveLogger-Frontend\\dist\\NxtStp-LiveLogger-front\\browser to \\\\wsl.localhost\\Ubuntu-24.04\\home\\ajacquot\\Documents\\LiveLogger\\Docker\\Front-end\\dist\n",
      "Dockerfile copied successfully from C:\\Users\\Ich\\Documents\\0000_Github\\live-logger\\Build\\Docker\\Front-end to \\\\wsl.localhost\\Ubuntu-24.04\\home\\ajacquot\\Documents\\LiveLogger\\Docker\\Front-end\n",
      "package*.json copied successfully from C:\\Users\\Ich\\Documents\\0000_Github\\live-logger\\LiveLogger-Net-TypeScript_NodeJs-Angular\\NxtStp-LiveLogger-Frontend to \\\\wsl.localhost\\Ubuntu-24.04\\home\\ajacquot\\Documents\\LiveLogger\\Docker\\Front-end\n"
     ]
    }
   ],
   "source": [
    "./Scripts/delploy_front_end_to_wsl2.ps1"
   ]
  },
  {
   "cell_type": "markdown",
   "metadata": {},
   "source": [
    "### Build docker image of the front-end and start the server\n",
    "http://localhost:4200<br>"
   ]
  },
  {
   "cell_type": "code",
   "execution_count": 1,
   "metadata": {
    "dotnet_interactive": {
     "language": "pwsh"
    },
    "polyglot_notebook": {
     "kernelName": "pwsh"
    },
    "vscode": {
     "languageId": "polyglot-notebook"
    }
   },
   "outputs": [
    {
     "name": "stdout",
     "output_type": "stream",
     "text": [
      "\u001b[31;1m#0 building with \"desktop-linux\" instance using docker driver\u001b[0m\n",
      "\u001b[31;1m\u001b[0m\n",
      "\u001b[31;1m#1 [internal] load build definition from Dockerfile\u001b[0m\n",
      "\u001b[31;1m#1 transferring dockerfile:\u001b[0m\n",
      "\u001b[31;1m#1 transferring dockerfile: 619B 0.2s done\u001b[0m\n",
      "\u001b[31;1m#1 DONE 0.5s\u001b[0m\n",
      "\u001b[31;1m\u001b[0m\n",
      "\u001b[31;1m#2 [internal] load metadata for docker.io/library/node:23-alpine3.21\u001b[0m\n",
      "\u001b[31;1m#2 DONE 3.2s\u001b[0m\n",
      "\u001b[31;1m\u001b[0m\n",
      "\u001b[31;1m#3 [internal] load .dockerignore\u001b[0m\n",
      "\u001b[31;1m#3 transferring context: 2B 0.0s done\u001b[0m\n",
      "\u001b[31;1m#3 DONE 0.1s\u001b[0m\n",
      "\u001b[31;1m\u001b[0m\n",
      "\u001b[31;1m#4 [internal] load build context\u001b[0m\n",
      "\u001b[31;1m#4 DONE 0.0s\u001b[0m\n",
      "\u001b[31;1m\u001b[0m\n",
      "\u001b[31;1m#5 [1/6] FROM docker.io/library/node:23-alpine3.21@sha256:498bf3e45a4132b99952f88129ae5429e3568f3836edbfc09e3661515f620837\u001b[0m\n",
      "\u001b[31;1m#5 resolve docker.io/library/node:23-alpine3.21@sha256:498bf3e45a4132b99952f88129ae5429e3568f3836edbfc09e3661515f620837\u001b[0m\n",
      "\u001b[31;1m#5 resolve docker.io/library/node:23-alpine3.21@sha256:498bf3e45a4132b99952f88129ae5429e3568f3836edbfc09e3661515f620837 0.3s done\u001b[0m\n",
      "\u001b[31;1m#5 DONE 0.4s\u001b[0m\n",
      "\u001b[31;1m\u001b[0m\n",
      "\u001b[31;1m#5 [1/6] FROM docker.io/library/node:23-alpine3.21@sha256:498bf3e45a4132b99952f88129ae5429e3568f3836edbfc09e3661515f620837\u001b[0m\n",
      "\u001b[31;1m#5 ...\u001b[0m\n",
      "\u001b[31;1m\u001b[0m\n",
      "\u001b[31;1m#4 [internal] load build context\u001b[0m\n",
      "\u001b[31;1m#4 transferring context: 433B 0.3s done\u001b[0m\n",
      "\u001b[31;1m#4 DONE 0.9s\u001b[0m\n",
      "\u001b[31;1m\u001b[0m\n",
      "\u001b[31;1m#5 [1/6] FROM docker.io/library/node:23-alpine3.21@sha256:498bf3e45a4132b99952f88129ae5429e3568f3836edbfc09e3661515f620837\u001b[0m\n",
      "\u001b[31;1m#5 DONE 2.1s\u001b[0m\n",
      "\u001b[31;1m\u001b[0m\n",
      "\u001b[31;1m#5 [1/6] FROM docker.io/library/node:23-alpine3.21@sha256:498bf3e45a4132b99952f88129ae5429e3568f3836edbfc09e3661515f620837\u001b[0m\n",
      "\u001b[31;1m#5 sha256:2f3b15cee00ea9c41b5beea0be235375716e2894f1d7fc9a054955c35114b369 0B / 1.26MB 0.2s\u001b[0m\n",
      "\u001b[31;1m#5 sha256:e4400b0bb2c859ec71c22046b6e1082a510d61a9ed4b7f6785e957f6def62857 0B / 51.54MB 0.2s\u001b[0m\n",
      "\u001b[31;1m#5 sha256:09b108fd101c24022e2f7de54fbbd91ba20ffcb520718c774acab7d4bf736c0e 0B / 445B 0.2s\u001b[0m\n",
      "\u001b[31;1m#5 sha256:1f3e46996e2966e4faa5846e56e76e3748b7315e2ded61476c24403d592134f0 0B / 3.64MB 0.3s\u001b[0m\n",
      "\u001b[31;1m#5 sha256:09b108fd101c24022e2f7de54fbbd91ba20ffcb520718c774acab7d4bf736c0e 445B / 445B 1.4s\u001b[0m\n",
      "\u001b[31;1m#5 sha256:09b108fd101c24022e2f7de54fbbd91ba20ffcb520718c774acab7d4bf736c0e 445B / 445B 1.5s done\u001b[0m\n",
      "\u001b[31;1m#5 sha256:2f3b15cee00ea9c41b5beea0be235375716e2894f1d7fc9a054955c35114b369 139.26kB / 1.26MB 3.2s\u001b[0m\n",
      "\u001b[31;1m#5 sha256:e4400b0bb2c859ec71c22046b6e1082a510d61a9ed4b7f6785e957f6def62857 3.15MB / 51.54MB 3.2s\u001b[0m\n",
      "\u001b[31;1m#5 sha256:2f3b15cee00ea9c41b5beea0be235375716e2894f1d7fc9a054955c35114b369 1.05MB / 1.26MB 3.3s\u001b[0m\n",
      "\u001b[31;1m#5 sha256:1f3e46996e2966e4faa5846e56e76e3748b7315e2ded61476c24403d592134f0 364.54kB / 3.64MB 3.0s\u001b[0m\n",
      "\u001b[31;1m#5 sha256:2f3b15cee00ea9c41b5beea0be235375716e2894f1d7fc9a054955c35114b369 1.26MB / 1.26MB 3.4s done\u001b[0m\n",
      "\u001b[31;1m#5 sha256:1f3e46996e2966e4faa5846e56e76e3748b7315e2ded61476c24403d592134f0 1.05MB / 3.64MB 3.2s\u001b[0m\n",
      "\u001b[31;1m#5 sha256:1f3e46996e2966e4faa5846e56e76e3748b7315e2ded61476c24403d592134f0 1.28MB / 3.64MB 3.6s\u001b[0m\n",
      "\u001b[31;1m#5 sha256:1f3e46996e2966e4faa5846e56e76e3748b7315e2ded61476c24403d592134f0 1.57MB / 3.64MB 3.8s\u001b[0m\n",
      "\u001b[31;1m#5 sha256:1f3e46996e2966e4faa5846e56e76e3748b7315e2ded61476c24403d592134f0 3.64MB / 3.64MB 4.1s\u001b[0m\n",
      "\u001b[31;1m#5 sha256:e4400b0bb2c859ec71c22046b6e1082a510d61a9ed4b7f6785e957f6def62857 7.28MB / 51.54MB 4.5s\u001b[0m\n",
      "\u001b[31;1m#5 sha256:1f3e46996e2966e4faa5846e56e76e3748b7315e2ded61476c24403d592134f0 3.64MB / 3.64MB 4.1s done\u001b[0m\n",
      "\u001b[31;1m#5 extracting sha256:1f3e46996e2966e4faa5846e56e76e3748b7315e2ded61476c24403d592134f0\u001b[0m\n",
      "\u001b[31;1m#5 sha256:e4400b0bb2c859ec71c22046b6e1082a510d61a9ed4b7f6785e957f6def62857 10.49MB / 51.54MB 5.6s\u001b[0m\n",
      "\u001b[31;1m#5 sha256:e4400b0bb2c859ec71c22046b6e1082a510d61a9ed4b7f6785e957f6def62857 13.21MB / 51.54MB 6.5s\u001b[0m\n",
      "\u001b[31;1m#5 sha256:e4400b0bb2c859ec71c22046b6e1082a510d61a9ed4b7f6785e957f6def62857 16.27MB / 51.54MB 7.5s\u001b[0m\n",
      "\u001b[31;1m#5 sha256:e4400b0bb2c859ec71c22046b6e1082a510d61a9ed4b7f6785e957f6def62857 19.92MB / 51.54MB 8.4s\u001b[0m\n",
      "\u001b[31;1m#5 extracting sha256:1f3e46996e2966e4faa5846e56e76e3748b7315e2ded61476c24403d592134f0 3.7s done\u001b[0m\n",
      "\u001b[31;1m#5 sha256:e4400b0bb2c859ec71c22046b6e1082a510d61a9ed4b7f6785e957f6def62857 25.08MB / 51.54MB 9.3s\u001b[0m\n",
      "\u001b[31;1m#5 sha256:e4400b0bb2c859ec71c22046b6e1082a510d61a9ed4b7f6785e957f6def62857 28.31MB / 51.54MB 9.8s\u001b[0m\n",
      "\u001b[31;1m#5 sha256:e4400b0bb2c859ec71c22046b6e1082a510d61a9ed4b7f6785e957f6def62857 31.46MB / 51.54MB 10.5s\u001b[0m\n",
      "\u001b[31;1m#5 sha256:e4400b0bb2c859ec71c22046b6e1082a510d61a9ed4b7f6785e957f6def62857 34.60MB / 51.54MB 10.8s\u001b[0m\n",
      "\u001b[31;1m#5 sha256:e4400b0bb2c859ec71c22046b6e1082a510d61a9ed4b7f6785e957f6def62857 37.75MB / 51.54MB 11.3s\u001b[0m\n",
      "\u001b[31;1m#5 sha256:e4400b0bb2c859ec71c22046b6e1082a510d61a9ed4b7f6785e957f6def62857 40.89MB / 51.54MB 11.9s\u001b[0m\n",
      "\u001b[31;1m#5 sha256:e4400b0bb2c859ec71c22046b6e1082a510d61a9ed4b7f6785e957f6def62857 44.04MB / 51.54MB 12.3s\u001b[0m\n",
      "\u001b[31;1m#5 sha256:e4400b0bb2c859ec71c22046b6e1082a510d61a9ed4b7f6785e957f6def62857 48.23MB / 51.54MB 12.8s\u001b[0m\n",
      "\u001b[31;1m#5 sha256:e4400b0bb2c859ec71c22046b6e1082a510d61a9ed4b7f6785e957f6def62857 51.38MB / 51.54MB 13.2s\u001b[0m\n",
      "\u001b[31;1m#5 sha256:e4400b0bb2c859ec71c22046b6e1082a510d61a9ed4b7f6785e957f6def62857 51.54MB / 51.54MB 13.6s done\u001b[0m\n",
      "\u001b[31;1m#5 extracting sha256:e4400b0bb2c859ec71c22046b6e1082a510d61a9ed4b7f6785e957f6def62857\u001b[0m\n",
      "\u001b[31;1m#5 extracting sha256:e4400b0bb2c859ec71c22046b6e1082a510d61a9ed4b7f6785e957f6def62857 7.5s done\u001b[0m\n",
      "\u001b[31;1m#5 DONE 23.3s\u001b[0m\n",
      "\u001b[31;1m\u001b[0m\n",
      "\u001b[31;1m#5 [1/6] FROM docker.io/library/node:23-alpine3.21@sha256:498bf3e45a4132b99952f88129ae5429e3568f3836edbfc09e3661515f620837\u001b[0m\n",
      "\u001b[31;1m#5 extracting sha256:2f3b15cee00ea9c41b5beea0be235375716e2894f1d7fc9a054955c35114b369\u001b[0m\n",
      "\u001b[31;1m#5 extracting sha256:2f3b15cee00ea9c41b5beea0be235375716e2894f1d7fc9a054955c35114b369 0.5s done\u001b[0m\n",
      "\u001b[31;1m#5 DONE 23.8s\u001b[0m\n",
      "\u001b[31;1m\u001b[0m\n",
      "\u001b[31;1m#5 [1/6] FROM docker.io/library/node:23-alpine3.21@sha256:498bf3e45a4132b99952f88129ae5429e3568f3836edbfc09e3661515f620837\u001b[0m\n",
      "\u001b[31;1m#5 extracting sha256:09b108fd101c24022e2f7de54fbbd91ba20ffcb520718c774acab7d4bf736c0e 0.1s done\u001b[0m\n",
      "\u001b[31;1m#5 DONE 23.9s\u001b[0m\n",
      "\u001b[31;1m\u001b[0m\n",
      "\u001b[31;1m#6 [2/6] WORKDIR /app\u001b[0m\n",
      "\u001b[31;1m#6 DONE 1.5s\u001b[0m\n",
      "\u001b[31;1m\u001b[0m\n",
      "\u001b[31;1m#7 [3/6] COPY package*.json ./\u001b[0m\n",
      "\u001b[31;1m#7 DONE 0.4s\u001b[0m\n",
      "\u001b[31;1m\u001b[0m\n",
      "\u001b[31;1m#8 [4/6] RUN npm install\u001b[0m\n",
      "\u001b[31;1m#8 123.0 \u001b[0m\n",
      "\u001b[31;1m#8 123.0 added 987 packages, and audited 988 packages in 2m\u001b[0m\n",
      "\u001b[31;1m#8 123.0 \u001b[0m\n",
      "\u001b[31;1m#8 123.0 121 packages are looking for funding\u001b[0m\n",
      "\u001b[31;1m#8 123.0   run `npm fund` for details\u001b[0m\n",
      "\u001b[31;1m#8 123.2 \u001b[0m\n",
      "\u001b[31;1m#8 123.2 24 vulnerabilities (4 low, 7 moderate, 13 high)\u001b[0m\n",
      "\u001b[31;1m#8 123.2 \u001b[0m\n",
      "\u001b[31;1m#8 123.2 To address all issues, run:\u001b[0m\n",
      "\u001b[31;1m#8 123.2   npm audit fix\u001b[0m\n",
      "\u001b[31;1m#8 123.2 \u001b[0m\n",
      "\u001b[31;1m#8 123.2 Run `npm audit` for details.\u001b[0m\n",
      "\u001b[31;1m#8 123.2 npm notice\u001b[0m\n",
      "\u001b[31;1m#8 123.2 npm notice New major version of npm available! 10.9.2 -> 11.0.0\u001b[0m\n",
      "\u001b[31;1m#8 123.2 npm notice Changelog: https://github.com/npm/cli/releases/tag/v11.0.0\u001b[0m\n",
      "\u001b[31;1m#8 123.2 npm notice To update run: npm install -g npm@11.0.0\u001b[0m\n",
      "\u001b[31;1m#8 123.2 npm notice\u001b[0m\n",
      "\u001b[31;1m#8 DONE 124.8s\u001b[0m\n",
      "\u001b[31;1m\u001b[0m\n",
      "\u001b[31;1m#9 [5/6] ADD /dist  /app\u001b[0m\n",
      "\u001b[31;1m#9 DONE 0.8s\u001b[0m\n",
      "\u001b[31;1m\u001b[0m\n",
      "\u001b[31;1m#10 [6/6] RUN npm install -g http-server\u001b[0m\n",
      "\u001b[31;1m#10 10.09 \u001b[0m\n",
      "\u001b[31;1m#10 10.09 added 50 packages in 9s\u001b[0m\n",
      "\u001b[31;1m#10 10.09 \u001b[0m\n",
      "\u001b[31;1m#10 10.09 15 packages are looking for funding\u001b[0m\n",
      "\u001b[31;1m#10 10.09   run `npm fund` for details\u001b[0m\n",
      "\u001b[31;1m#10 DONE 10.3s\u001b[0m\n",
      "\u001b[31;1m\u001b[0m\n",
      "\u001b[31;1m#11 exporting to image\u001b[0m\n",
      "\u001b[31;1m#11 exporting layers\u001b[0m\n",
      "\u001b[31;1m#11 exporting layers 73.0s done\u001b[0m\n",
      "\u001b[31;1m#11 exporting manifest sha256:be95505ddf4404a5491782bd7c39cf3ba5071bd142941bcab217b72925e7cdb6\u001b[0m\n",
      "\u001b[31;1m#11 exporting manifest sha256:be95505ddf4404a5491782bd7c39cf3ba5071bd142941bcab217b72925e7cdb6 0.2s done\u001b[0m\n",
      "\u001b[31;1m#11 exporting config sha256:ad8cf895d88f71dfd7069520526da512adbd0502130e21aa3912487cc600940c\u001b[0m\n",
      "\u001b[31;1m#11 exporting config sha256:ad8cf895d88f71dfd7069520526da512adbd0502130e21aa3912487cc600940c 0.2s done\u001b[0m\n",
      "\u001b[31;1m#11 exporting attestation manifest sha256:ec7fab8160df741994f8da42146138daf98ba1a3212d7edf16a9cfecdf176a8e\u001b[0m\n",
      "\u001b[31;1m#11 exporting attestation manifest sha256:ec7fab8160df741994f8da42146138daf98ba1a3212d7edf16a9cfecdf176a8e 0.4s done\u001b[0m\n",
      "\u001b[31;1m#11 exporting manifest list sha256:40804c7bec831ee2515a0939ba1fa13e54f20329b22ae20f30962eeec89c384d\u001b[0m\n",
      "\u001b[31;1m#11 exporting manifest list sha256:40804c7bec831ee2515a0939ba1fa13e54f20329b22ae20f30962eeec89c384d 0.1s done\u001b[0m\n",
      "\u001b[31;1m#11 naming to docker.io/library/livelogger-frontend:latest\u001b[0m\n",
      "\u001b[31;1m#11 naming to docker.io/library/livelogger-frontend:latest 0.1s done\u001b[0m\n",
      "\u001b[31;1m#11 unpacking to docker.io/library/livelogger-frontend:latest\u001b[0m\n",
      "\u001b[31;1m#11 unpacking to docker.io/library/livelogger-frontend:latest 44.5s done\u001b[0m\n",
      "\u001b[31;1m#11 DONE 118.9s\u001b[0m\n",
      "\u001b[31;1m\u001b[0m\n",
      "\u001b[31;1mView build details: docker-desktop://dashboard/build/desktop-linux/desktop-linux/i4bzw05bn6tgwjrctwgw80nce\u001b[0m\n",
      "cacff2dbbdecd20826d114715f16a6165979cb2ef705bcf80fff5ed727554c4b\n"
     ]
    }
   ],
   "source": [
    "# Define the path to the XML file relative to the script\n",
    "$xmlFilePath = \"paths.xml\"\n",
    "\n",
    "# Load the XML file\n",
    "$xml = [xml](Get-Content $xmlFilePath)\n",
    "\n",
    "# Extract the path value\n",
    "$wslDistroDir = $xml.root.wslDistroPath\n",
    "\n",
    "$distDestinationDir = $wslDistroDir+\"\\home\\ajacquot\\Documents\\LiveLogger\\Docker\\Front-end\"\n",
    "docker build -t livelogger-frontend $distDestinationDir\n",
    "docker run -d -p 4200:4200 --name NxtStp-LiveLogger-Frontend livelogger-frontend"
   ]
  },
  {
   "cell_type": "markdown",
   "metadata": {},
   "source": [
    "# Stop Front-end docker container"
   ]
  },
  {
   "cell_type": "code",
   "execution_count": 2,
   "metadata": {
    "dotnet_interactive": {
     "language": "pwsh"
    },
    "polyglot_notebook": {
     "kernelName": "pwsh"
    },
    "vscode": {
     "languageId": "polyglot-notebook"
    }
   },
   "outputs": [
    {
     "name": "stdout",
     "output_type": "stream",
     "text": [
      "NxtStp-LiveLogger-Frontend\r\n"
     ]
    }
   ],
   "source": [
    "docker stop NxtStp-LiveLogger-Frontend"
   ]
  },
  {
   "cell_type": "markdown",
   "metadata": {},
   "source": [
    "# Start Front-end docker container\n",
    "http://localhost:3000<br>"
   ]
  },
  {
   "cell_type": "code",
   "execution_count": 11,
   "metadata": {
    "dotnet_interactive": {
     "language": "pwsh"
    },
    "polyglot_notebook": {
     "kernelName": "pwsh"
    },
    "vscode": {
     "languageId": "polyglot-notebook"
    }
   },
   "outputs": [
    {
     "name": "stdout",
     "output_type": "stream",
     "text": [
      "NxtStp-LiveLogger-Frontend\r\n"
     ]
    }
   ],
   "source": [
    "docker start NxtStp-LiveLogger-Frontend"
   ]
  },
  {
   "cell_type": "markdown",
   "metadata": {},
   "source": [
    "# Delete Front-end docker container"
   ]
  },
  {
   "cell_type": "code",
   "execution_count": 3,
   "metadata": {
    "dotnet_interactive": {
     "language": "pwsh"
    },
    "polyglot_notebook": {
     "kernelName": "pwsh"
    },
    "vscode": {
     "languageId": "polyglot-notebook"
    }
   },
   "outputs": [
    {
     "name": "stdout",
     "output_type": "stream",
     "text": [
      "NxtStp-LiveLogger-Frontend\r\n"
     ]
    }
   ],
   "source": [
    "docker rm NxtStp-LiveLogger-Frontend"
   ]
  },
  {
   "cell_type": "markdown",
   "metadata": {},
   "source": [
    "### Delete Front-end docker image"
   ]
  },
  {
   "cell_type": "code",
   "execution_count": 4,
   "metadata": {
    "dotnet_interactive": {
     "language": "pwsh"
    },
    "polyglot_notebook": {
     "kernelName": "pwsh"
    },
    "vscode": {
     "languageId": "polyglot-notebook"
    }
   },
   "outputs": [
    {
     "name": "stdout",
     "output_type": "stream",
     "text": [
      "Untagged: livelogger-frontend:latest\n",
      "Deleted: sha256:40804c7bec831ee2515a0939ba1fa13e54f20329b22ae20f30962eeec89c384d\n"
     ]
    }
   ],
   "source": [
    "docker rmi livelogger-frontend"
   ]
  },
  {
   "cell_type": "markdown",
   "metadata": {},
   "source": [
    "# Back-end\n",
    "### Deploy back-end in WSL2"
   ]
  },
  {
   "cell_type": "code",
   "execution_count": 4,
   "metadata": {
    "dotnet_interactive": {
     "language": "pwsh"
    },
    "polyglot_notebook": {
     "kernelName": "pwsh"
    },
    "vscode": {
     "languageId": "polyglot-notebook"
    }
   },
   "outputs": [
    {
     "name": "stdout",
     "output_type": "stream",
     "text": [
      "All child items in '\\\\wsl.localhost\\Ubuntu-24.04\\home\\ajacquot\\Documents\\LiveLogger\\Docker\\Back-end\\dist' have been deleted.\r\n"
     ]
    },
    {
     "data": {
      "text/plain": []
     },
     "metadata": {},
     "output_type": "display_data"
    },
    {
     "name": "stdout",
     "output_type": "stream",
     "text": [
      "html and js files copied successfully from C:\\Users\\Ich\\Documents\\0000_Github\\live-logger\\LiveLogger-Net-TypeScript_NodeJs-Angular\\NxtStp-LiveLogger-Backend\\NxtStp.Node-TypeScript.LiveLogger-main\\dist to \\\\wsl.localhost\\Ubuntu-24.04\\home\\ajacquot\\Documents\\LiveLogger\\Docker\\Back-end\\dist\n",
      "Dockerfile copied successfully from C:\\Users\\Ich\\Documents\\0000_Github\\live-logger\\Build\\Docker\\Back-end to \\\\wsl.localhost\\Ubuntu-24.04\\home\\ajacquot\\Documents\\LiveLogger\\Docker\\Back-end\n",
      "package*.json copied successfully from C:\\Users\\Ich\\Documents\\0000_Github\\live-logger\\LiveLogger-Net-TypeScript_NodeJs-Angular\\NxtStp-LiveLogger-Backend\\NxtStp.Node-TypeScript.LiveLogger-main to \\\\wsl.localhost\\Ubuntu-24.04\\home\\ajacquot\\Documents\\LiveLogger\\Docker\\Back-end\n"
     ]
    }
   ],
   "source": [
    "./Scripts/delploy_back_end_to_wsl2.ps1"
   ]
  },
  {
   "cell_type": "markdown",
   "metadata": {},
   "source": [
    "### Build docker image of the back-end and start the server\n",
    "http://localhost:3000<br>"
   ]
  },
  {
   "cell_type": "code",
   "execution_count": 5,
   "metadata": {
    "dotnet_interactive": {
     "language": "pwsh"
    },
    "polyglot_notebook": {
     "kernelName": "pwsh"
    },
    "vscode": {
     "languageId": "polyglot-notebook"
    }
   },
   "outputs": [
    {
     "name": "stdout",
     "output_type": "stream",
     "text": [
      "\u001b[31;1m#0 building with \"desktop-linux\" instance using docker driver\u001b[0m\n",
      "\u001b[31;1m\u001b[0m\n",
      "\u001b[31;1m#1 [internal] load build definition from Dockerfile\u001b[0m\n",
      "\u001b[31;1m#1 transferring dockerfile: 460B 0.1s done\u001b[0m\n",
      "\u001b[31;1m#1 DONE 0.3s\u001b[0m\n",
      "\u001b[31;1m\u001b[0m\n",
      "\u001b[31;1m#2 [internal] load metadata for docker.io/library/node:23-alpine3.21\u001b[0m\n",
      "\u001b[31;1m#2 DONE 1.7s\u001b[0m\n",
      "\u001b[31;1m\u001b[0m\n",
      "\u001b[31;1m#3 [internal] load .dockerignore\u001b[0m\n",
      "\u001b[31;1m#3 transferring context: 2B 0.0s done\u001b[0m\n",
      "\u001b[31;1m#3 DONE 0.1s\u001b[0m\n",
      "\u001b[31;1m\u001b[0m\n",
      "\u001b[31;1m#4 [internal] load build context\u001b[0m\n",
      "\u001b[31;1m#4 transferring context: 2.96kB 0.5s done\u001b[0m\n",
      "\u001b[31;1m#4 DONE 0.6s\u001b[0m\n",
      "\u001b[31;1m\u001b[0m\n",
      "\u001b[31;1m#5 [1/5] FROM docker.io/library/node:23-alpine3.21@sha256:c61b6b12a3c96373673cd52d7ecee2314e82bca5d541eecf0bc6aee870c8c6f7\u001b[0m\n",
      "\u001b[31;1m#5 resolve docker.io/library/node:23-alpine3.21@sha256:c61b6b12a3c96373673cd52d7ecee2314e82bca5d541eecf0bc6aee870c8c6f7 0.5s done\u001b[0m\n",
      "\u001b[31;1m#5 DONE 0.6s\u001b[0m\n",
      "\u001b[31;1m\u001b[0m\n",
      "\u001b[31;1m#6 [2/5] WORKDIR /app\u001b[0m\n",
      "\u001b[31;1m#6 CACHED\u001b[0m\n",
      "\u001b[31;1m\u001b[0m\n",
      "\u001b[31;1m#7 [3/5] COPY package*.json ./\u001b[0m\n",
      "\u001b[31;1m#7 CACHED\u001b[0m\n",
      "\u001b[31;1m\u001b[0m\n",
      "\u001b[31;1m#8 [4/5] RUN npm install\u001b[0m\n",
      "\u001b[31;1m#8 CACHED\u001b[0m\n",
      "\u001b[31;1m\u001b[0m\n",
      "\u001b[31;1m#9 [5/5] ADD /dist  /app\u001b[0m\n",
      "\u001b[31;1m#9 CACHED\u001b[0m\n",
      "\u001b[31;1m\u001b[0m\n",
      "\u001b[31;1m#10 exporting to image\u001b[0m\n",
      "\u001b[31;1m#10 exporting layers\u001b[0m\n",
      "\u001b[31;1m#10 exporting layers 0.2s done\u001b[0m\n",
      "\u001b[31;1m#10 exporting manifest sha256:cd2013ad498efdedca31978322846b33be5ea9c4de8fca31dd4831a608abacdd\u001b[0m\n",
      "\u001b[31;1m#10 exporting manifest sha256:cd2013ad498efdedca31978322846b33be5ea9c4de8fca31dd4831a608abacdd 0.3s done\u001b[0m\n",
      "\u001b[31;1m#10 exporting config sha256:48ccc7c7fe08fee15f8a1d9c50a074b5bb871695d24e35d16133176596fa73be\u001b[0m\n",
      "\u001b[31;1m#10 exporting config sha256:48ccc7c7fe08fee15f8a1d9c50a074b5bb871695d24e35d16133176596fa73be 0.1s done\u001b[0m\n",
      "\u001b[31;1m#10 exporting attestation manifest sha256:6ec30a7289892db586738adf48558e701c054cce069a045fc91b03af8ba53805\u001b[0m\n",
      "\u001b[31;1m#10 exporting attestation manifest sha256:6ec30a7289892db586738adf48558e701c054cce069a045fc91b03af8ba53805 0.5s done\u001b[0m\n",
      "\u001b[31;1m#10 exporting manifest list sha256:6d84d52e68ec0c086098c66720e3cbdeea34db90891b0452c937511c0d7589c4\u001b[0m\n",
      "\u001b[31;1m#10 exporting manifest list sha256:6d84d52e68ec0c086098c66720e3cbdeea34db90891b0452c937511c0d7589c4 0.1s done\u001b[0m\n",
      "\u001b[31;1m#10 naming to docker.io/library/livelogger-backend:latest\u001b[0m\n",
      "\u001b[31;1m#10 naming to docker.io/library/livelogger-backend:latest 0.0s done\u001b[0m\n",
      "\u001b[31;1m#10 unpacking to docker.io/library/livelogger-backend:latest\u001b[0m\n",
      "\u001b[31;1m#10 unpacking to docker.io/library/livelogger-backend:latest 3.5s done\u001b[0m\n",
      "\u001b[31;1m#10 DONE 5.0s\u001b[0m\n",
      "\u001b[31;1m\u001b[0m\n",
      "\u001b[31;1mView build details: docker-desktop://dashboard/build/desktop-linux/desktop-linux/g26z9qd9xy68dmk5rhtos5ok6\u001b[0m\n",
      "46d9823d0393727890d957ab8bc8dcc4fdcb305344c22a98e1ca2676002b2ade\n"
     ]
    }
   ],
   "source": [
    "# Define the path to the XML file relative to the script\n",
    "$xmlFilePath = \"paths.xml\"\n",
    "\n",
    "# Load the XML file\n",
    "$xml = [xml](Get-Content $xmlFilePath)\n",
    "\n",
    "# Extract the path value\n",
    "$wslDistroDir = $xml.root.wslDistroPath\n",
    "\n",
    "$distDestinationDir = $wslDistroDir+\"\\home\\ajacquot\\Documents\\LiveLogger\\Docker\\Back-end\"\n",
    "docker build -t livelogger-backend $distDestinationDir\n",
    "docker run -d -p 3000:3000 -p 8080:8080 --name NxtStp-LiveLogger-Backend livelogger-backend"
   ]
  },
  {
   "cell_type": "markdown",
   "metadata": {},
   "source": [
    "### Stop back-end docker container\n"
   ]
  },
  {
   "cell_type": "code",
   "execution_count": 6,
   "metadata": {
    "dotnet_interactive": {
     "language": "pwsh"
    },
    "polyglot_notebook": {
     "kernelName": "pwsh"
    },
    "vscode": {
     "languageId": "polyglot-notebook"
    }
   },
   "outputs": [
    {
     "name": "stdout",
     "output_type": "stream",
     "text": [
      "NxtStp-LiveLogger-Backend\r\n"
     ]
    }
   ],
   "source": [
    "docker stop NxtStp-LiveLogger-Backend"
   ]
  },
  {
   "cell_type": "markdown",
   "metadata": {},
   "source": [
    "# Start back-end docker container\n",
    "http://localhost:3000<br>"
   ]
  },
  {
   "cell_type": "code",
   "execution_count": 3,
   "metadata": {
    "dotnet_interactive": {
     "language": "pwsh"
    },
    "polyglot_notebook": {
     "kernelName": "pwsh"
    },
    "vscode": {
     "languageId": "polyglot-notebook"
    }
   },
   "outputs": [
    {
     "name": "stdout",
     "output_type": "stream",
     "text": [
      "NxtStp-LiveLogger-Backend\r\n"
     ]
    }
   ],
   "source": [
    "docker start NxtStp-LiveLogger-Backend"
   ]
  },
  {
   "cell_type": "markdown",
   "metadata": {},
   "source": [
    "### Delete back-end docker container"
   ]
  },
  {
   "cell_type": "code",
   "execution_count": 7,
   "metadata": {
    "dotnet_interactive": {
     "language": "pwsh"
    },
    "polyglot_notebook": {
     "kernelName": "pwsh"
    },
    "vscode": {
     "languageId": "polyglot-notebook"
    }
   },
   "outputs": [
    {
     "name": "stdout",
     "output_type": "stream",
     "text": [
      "NxtStp-LiveLogger-Backend\r\n"
     ]
    }
   ],
   "source": [
    "docker rm NxtStp-LiveLogger-Backend"
   ]
  },
  {
   "cell_type": "markdown",
   "metadata": {},
   "source": [
    "### Delete back-end docker image"
   ]
  },
  {
   "cell_type": "code",
   "execution_count": 8,
   "metadata": {
    "dotnet_interactive": {
     "language": "pwsh"
    },
    "polyglot_notebook": {
     "kernelName": "pwsh"
    },
    "vscode": {
     "languageId": "polyglot-notebook"
    }
   },
   "outputs": [
    {
     "name": "stdout",
     "output_type": "stream",
     "text": [
      "Untagged: livelogger-backend:latest\n",
      "Deleted: sha256:6d84d52e68ec0c086098c66720e3cbdeea34db90891b0452c937511c0d7589c4\n"
     ]
    }
   ],
   "source": [
    "docker rmi livelogger-backend"
   ]
  },
  {
   "cell_type": "markdown",
   "metadata": {},
   "source": [
    "# Nginx - Containers bundle\n",
    "### Deploy Nginx reverser proxy and docker compose file in WSL2"
   ]
  },
  {
   "cell_type": "code",
   "execution_count": 13,
   "metadata": {
    "dotnet_interactive": {
     "language": "pwsh"
    },
    "polyglot_notebook": {
     "kernelName": "pwsh"
    },
    "vscode": {
     "languageId": "polyglot-notebook"
    }
   },
   "outputs": [
    {
     "data": {
      "text/plain": []
     },
     "metadata": {},
     "output_type": "display_data"
    },
    {
     "name": "stdout",
     "output_type": "stream",
     "text": [
      "Dockerfile copied successfully from C:\\Users\\Ich\\Documents\\0000_Github\\live-logger\\Build\\Docker\\Nginx to \\\\wsl.localhost\\Ubuntu-24.04\\home\\ajacquot\\Documents\\LiveLogger\\Docker\\Nginx\n",
      "Nginx configuration copied successfully from C:\\Users\\Ich\\Documents\\0000_Github\\live-logger\\Build\\Docker\\Nginx to \\\\wsl.localhost\\Ubuntu-24.04\\home\\ajacquot\\Documents\\LiveLogger\\Docker\\Nginx\n",
      "Docker compose file copied successfully from C:\\Users\\Ich\\Documents\\0000_Github\\live-logger\\Build\\Docker\\ to \\\\wsl.localhost\\Ubuntu-24.04\\home\\ajacquot\\Documents\\LiveLogger\\Docker\n"
     ]
    }
   ],
   "source": [
    "./Scripts/deploy_nginx_and_docker_compose_file_to_wsl2.ps1"
   ]
  },
  {
   "cell_type": "markdown",
   "metadata": {},
   "source": [
    "### Build application container bundle using docker compose\n"
   ]
  },
  {
   "cell_type": "code",
   "execution_count": 14,
   "metadata": {
    "dotnet_interactive": {
     "language": "pwsh"
    },
    "polyglot_notebook": {
     "kernelName": "pwsh"
    },
    "vscode": {
     "languageId": "polyglot-notebook"
    }
   },
   "outputs": [
    {
     "name": "stdout",
     "output_type": "stream",
     "text": [
      "#0 building with \"desktop-linux\" instance using docker driver\n",
      "\n",
      "#1 [backend internal] load build definition from Dockerfile\n",
      "#1 transferring dockerfile: 30B 0.1s\n",
      "#1 transferring dockerfile: 460B 0.2s done\n",
      "#1 DONE 0.4s\n",
      "\n",
      "#2 [backend internal] load metadata for docker.io/library/node:23-alpine3.21\n",
      "#2 DONE 2.2s\n",
      "\n",
      "#3 [backend internal] load .dockerignore\n",
      "#3 transferring context: 2B 0.1s done\n",
      "#3 DONE 0.2s\n",
      "\n",
      "#4 [backend internal] load build context\n",
      "#4 transferring context: 2.96kB 0.1s done\n",
      "#4 ...\n",
      "\n",
      "#5 [backend 1/5] FROM docker.io/library/node:23-alpine3.21@sha256:498bf3e45a4132b99952f88129ae5429e3568f3836edbfc09e3661515f620837\n",
      "#5 resolve docker.io/library/node:23-alpine3.21@sha256:498bf3e45a4132b99952f88129ae5429e3568f3836edbfc09e3661515f620837 0.2s done\n",
      "#5 DONE 0.2s\n",
      "\n",
      "#4 [backend internal] load build context\n",
      "#4 DONE 0.3s\n",
      "\n",
      "#6 [backend 2/5] WORKDIR /app\n",
      "#6 CACHED\n",
      "\n",
      "#7 [backend 3/5] COPY package*.json ./\n",
      "#7 CACHED\n",
      "\n",
      "#8 [backend 4/5] RUN npm install\n",
      "#8 CACHED\n",
      "\n",
      "#9 [backend 5/5] ADD /dist  /app\n",
      "#9 CACHED\n",
      "\n",
      "#10 [backend] exporting to image\n",
      "#10 exporting layers done\n",
      "#10 exporting manifest sha256:3f41f39b8604b72db1d690e88425e8b32331dc6e9feea8d84929d6c5716b3f84 0.1s done\n",
      "#10 exporting config sha256:623f99adcafee65944f24acdfe455e86c7412967686fb42edb9e1f934a002db7 0.0s done\n",
      "#10 exporting attestation manifest sha256:303eb7ffee06167e3646dfee64930cbc3bc7f98e6bc492c55054068ace500cf9\n",
      "#10 exporting attestation manifest sha256:303eb7ffee06167e3646dfee64930cbc3bc7f98e6bc492c55054068ace500cf9 0.4s done\n",
      "#10 exporting manifest list sha256:5fc36702db84f8403dc7c21c57083086c78f8a7da74ceb1d31921d39e9f23696\n",
      "#10 exporting manifest list sha256:5fc36702db84f8403dc7c21c57083086c78f8a7da74ceb1d31921d39e9f23696 0.1s done\n",
      "#10 naming to docker.io/library/liveloggerboundle-backend:latest\n",
      "#10 naming to docker.io/library/liveloggerboundle-backend:latest 0.0s done\n",
      "#10 unpacking to docker.io/library/liveloggerboundle-backend:latest\n",
      "#10 unpacking to docker.io/library/liveloggerboundle-backend:latest 2.5s done\n",
      "#10 DONE 3.5s\n",
      "\n",
      "#11 [backend] resolving provenance for metadata file\n",
      "#11 DONE 0.2s\n",
      "\n",
      "#12 [frontend internal] load build definition from Dockerfile\n",
      "#12 transferring dockerfile: 30B 0.2s\n",
      "#12 transferring dockerfile: 619B 0.2s done\n",
      "#12 DONE 0.3s\n",
      "\n",
      "#2 [frontend internal] load metadata for docker.io/library/node:23-alpine3.21\n",
      "#2 DONE 3.3s\n",
      "\n",
      "#13 [frontend internal] load .dockerignore\n",
      "#13 transferring context: 2B 0.0s done\n",
      "#13 DONE 0.1s\n",
      "\n",
      "#14 [frontend internal] load build context\n",
      "#14 DONE 0.0s\n",
      "\n",
      "#5 [frontend 1/6] FROM docker.io/library/node:23-alpine3.21@sha256:498bf3e45a4132b99952f88129ae5429e3568f3836edbfc09e3661515f620837\n",
      "#5 resolve docker.io/library/node:23-alpine3.21@sha256:498bf3e45a4132b99952f88129ae5429e3568f3836edbfc09e3661515f620837\n",
      "#5 resolve docker.io/library/node:23-alpine3.21@sha256:498bf3e45a4132b99952f88129ae5429e3568f3836edbfc09e3661515f620837 0.9s done\n",
      "#5 DONE 1.2s\n",
      "\n",
      "#14 [frontend internal] load build context\n",
      "#14 transferring context: 433B 0.1s done\n",
      "#14 DONE 0.1s\n",
      "\n",
      "#15 [frontend 4/6] RUN npm install\n",
      "#15 CACHED\n",
      "\n",
      "#16 [frontend 5/6] ADD /dist  /app\n",
      "#16 CACHED\n",
      "\n",
      "#6 [frontend 2/6] WORKDIR /app\n",
      "#6 CACHED\n",
      "\n",
      "#17 [frontend 3/6] COPY package*.json ./\n",
      "#17 CACHED\n",
      "\n",
      "#18 [frontend 6/6] RUN npm install -g http-server\n",
      "#18 CACHED\n",
      "\n",
      "#19 [frontend] exporting to image\n",
      "#19 exporting layers\n",
      "#19 exporting layers done\n",
      "#19 exporting manifest sha256:9bac77fd59a26c82f3a121cbcea36dfe3942c58def1b97e9ef88dc38b4b4810b 0.1s done\n",
      "#19 exporting config sha256:975b74305848e3f1d2cc7ef314b881ec697a488a6666cc07f38e29bda06ab3c4 0.1s done\n",
      "#19 exporting attestation manifest sha256:b6d35768a8168e2a24aefd60dface5fcf382413031d6372169a72c718181e5cb\n",
      "#19 exporting attestation manifest sha256:b6d35768a8168e2a24aefd60dface5fcf382413031d6372169a72c718181e5cb 0.5s done\n",
      "#19 exporting manifest list sha256:147420e9cf65c0f2fccc7c502f465d04fa9cc22a0e4e425bc3f275df8b9d0caf\n",
      "#19 exporting manifest list sha256:147420e9cf65c0f2fccc7c502f465d04fa9cc22a0e4e425bc3f275df8b9d0caf 0.2s done\n",
      "#19 naming to docker.io/library/liveloggerboundle-frontend:latest\n",
      "#19 naming to docker.io/library/liveloggerboundle-frontend:latest 0.1s done\n",
      "#19 unpacking to docker.io/library/liveloggerboundle-frontend:latest\n",
      "#19 unpacking to docker.io/library/liveloggerboundle-frontend:latest 53.5s done\n",
      "#19 DONE 55.2s\n",
      "\n",
      "#20 [frontend] resolving provenance for metadata file\n",
      "#20 DONE 0.7s\n",
      "\n",
      "#21 [nginx internal] load build definition from Dockerfile\n",
      "#21 transferring dockerfile:\n",
      "#21 transferring dockerfile: 219B 0.5s done\n",
      "#21 DONE 0.6s\n",
      "\n",
      "#22 [nginx internal] load metadata for docker.io/library/nginx:latest\n",
      "#22 DONE 0.6s\n",
      "\n",
      "#23 [nginx internal] load .dockerignore\n",
      "#23 transferring context: 2B 0.0s done\n",
      "#23 DONE 0.2s\n",
      "\n",
      "#24 [nginx internal] load build context\n",
      "#24 transferring context: 32B 0.2s done\n",
      "#24 DONE 0.4s\n",
      "\n",
      "#25 [nginx 1/2] FROM docker.io/library/nginx:latest@sha256:bc5eac5eafc581aeda3008b4b1f07ebba230de2f27d47767129a6a905c84f470\n",
      "#25 resolve docker.io/library/nginx:latest@sha256:bc5eac5eafc581aeda3008b4b1f07ebba230de2f27d47767129a6a905c84f470\n",
      "#25 resolve docker.io/library/nginx:latest@sha256:bc5eac5eafc581aeda3008b4b1f07ebba230de2f27d47767129a6a905c84f470 0.4s done\n",
      "#25 DONE 0.5s\n",
      "\n",
      "#26 [nginx 2/2] COPY nginx.conf /etc/nginx/nginx.conf\n",
      "#26 CACHED\n",
      "\n",
      "#27 [nginx] exporting to image\n",
      "#27 exporting layers 0.0s done\n",
      "#27 exporting manifest sha256:bc1ed50a696d19562d3e9070958b0491402d2f13b6e09e0eefa6c77f61dc069f 0.1s done\n",
      "#27 exporting config sha256:ece489e1d375be27a9e641b6293a30d12742cabe30ee766c044cdd3feaa905d7\n",
      "#27 exporting config sha256:ece489e1d375be27a9e641b6293a30d12742cabe30ee766c044cdd3feaa905d7 0.1s done\n",
      "#27 exporting attestation manifest sha256:5462e2b8426c565dce09cd016f4091757e65ab897617e85cdc801117e3141f43\n",
      "#27 exporting attestation manifest sha256:5462e2b8426c565dce09cd016f4091757e65ab897617e85cdc801117e3141f43 0.3s done\n",
      "#27 exporting manifest list sha256:74c9fa7452c1e86f0467a33b099dbfe4b5f53037c20bc561dd25afd85e7a4e56\n",
      "#27 exporting manifest list sha256:74c9fa7452c1e86f0467a33b099dbfe4b5f53037c20bc561dd25afd85e7a4e56 0.1s done\n",
      "#27 naming to docker.io/library/liveloggerboundle-nginx:latest\n",
      "#27 naming to docker.io/library/liveloggerboundle-nginx:latest 0.0s done\n",
      "#27 unpacking to docker.io/library/liveloggerboundle-nginx:latest 0.2s done\n",
      "#27 DONE 1.1s\n",
      "\n",
      "#28 [nginx] resolving provenance for metadata file\n",
      "#28 DONE 0.2s\n"
     ]
    }
   ],
   "source": [
    "# Save the current directory $originalDirectory\n",
    "$originalDirectory = Get-Location\n",
    "\n",
    "# Define the path to the XML file relative to the script\n",
    "$xmlFilePath = \"paths.xml\"\n",
    "\n",
    "# Load the XML file\n",
    "$xml = [xml](Get-Content $xmlFilePath)\n",
    "\n",
    "# Extract the path value\n",
    "$wslDistroDir = $xml.root.wslDistroPath\n",
    "\n",
    "$ComposeFileDestinationDir = $wslDistroDir+\"\\home\\ajacquot\\Documents\\LiveLogger\\Docker\"\n",
    "Set-Location $ComposeFileDestinationDir\n",
    "\n",
    "docker-compose -p liveloggerboundle build \n",
    "\n",
    "# Restore the original directory\n",
    "Set-Location $originalDirectory"
   ]
  },
  {
   "cell_type": "markdown",
   "metadata": {},
   "source": [
    "### Start application container boundle"
   ]
  },
  {
   "cell_type": "code",
   "execution_count": 15,
   "metadata": {
    "dotnet_interactive": {
     "language": "pwsh"
    },
    "polyglot_notebook": {
     "kernelName": "pwsh"
    },
    "vscode": {
     "languageId": "polyglot-notebook"
    }
   },
   "outputs": [
    {
     "name": "stdout",
     "output_type": "stream",
     "text": [
      "\u001b[31;1m Network liveloggerboundle_default  Creating\u001b[0m\n",
      "\u001b[31;1m Network liveloggerboundle_default  Created\u001b[0m\n",
      "\u001b[31;1m Container liveloggerboundle-backend-1  Creating\u001b[0m\n",
      "\u001b[31;1m Container liveloggerboundle-backend-1  Created\u001b[0m\n",
      "\u001b[31;1m Container liveloggerboundle-frontend-1  Creating\u001b[0m\n",
      "\u001b[31;1m Container liveloggerboundle-frontend-1  Created\u001b[0m\n",
      "\u001b[31;1m Container liveloggerboundle-nginx-1  Creating\u001b[0m\n",
      "\u001b[31;1m Container liveloggerboundle-nginx-1  Created\u001b[0m\n",
      "\u001b[31;1m Container liveloggerboundle-backend-1  Starting\u001b[0m\n",
      "\u001b[31;1m Container liveloggerboundle-backend-1  Started\u001b[0m\n",
      "\u001b[31;1m Container liveloggerboundle-frontend-1  Starting\u001b[0m\n",
      "\u001b[31;1m Container liveloggerboundle-frontend-1  Started\u001b[0m\n",
      "\u001b[31;1m Container liveloggerboundle-nginx-1  Starting\u001b[0m\n",
      "\u001b[31;1m Container liveloggerboundle-nginx-1  Started\u001b[0m\n"
     ]
    }
   ],
   "source": [
    "docker-compose -p liveloggerboundle up -d"
   ]
  },
  {
   "cell_type": "markdown",
   "metadata": {},
   "source": [
    "### Stop application container boundle"
   ]
  },
  {
   "cell_type": "code",
   "execution_count": 1,
   "metadata": {
    "dotnet_interactive": {
     "language": "pwsh"
    },
    "polyglot_notebook": {
     "kernelName": "pwsh"
    },
    "vscode": {
     "languageId": "polyglot-notebook"
    }
   },
   "outputs": [
    {
     "name": "stdout",
     "output_type": "stream",
     "text": [
      "\u001b[31;1merror during connect: Get \"http://%2F%2F.%2Fpipe%2FdockerDesktopLinuxEngine/v1.47/containers/json?all=1&filters=%7B%22label%22%3A%7B%22com.docker.compose.config-hash%22%3Atrue%2C%22com.docker.compose.oneoff%3DFalse%22%3Atrue%2C%22com.docker.compose.project%3Dliveloggerboundle%22%3Atrue%7D%7D\": open //./pipe/dockerDesktopLinuxEngine: Das System kann die angegebene Datei nicht finden.\u001b[0m\r\n"
     ]
    }
   ],
   "source": [
    "docker-compose -p liveloggerboundle down"
   ]
  }
 ],
 "metadata": {
  "kernelspec": {
   "display_name": ".NET (C#)",
   "language": "C#",
   "name": ".net-csharp"
  },
  "language_info": {
   "name": "python"
  },
  "polyglot_notebook": {
   "kernelInfo": {
    "defaultKernelName": "csharp",
    "items": [
     {
      "aliases": [],
      "name": "csharp"
     }
    ]
   }
  }
 },
 "nbformat": 4,
 "nbformat_minor": 2
}
