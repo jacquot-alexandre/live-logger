{
 "cells": [
  {
   "cell_type": "markdown",
   "metadata": {},
   "source": [
    "# Introduction\n",
    "Development of the Angular front end and nodejs/typescript server is done in the Windows environment. Thus the source code is on the windows machine. Building the front and back end is also done on Windows. Nevertheless to build docker containers for respectively the front and back end, it is necesarry to copy the distributions folder, the list of dependencies (package.json and package-lock.json) and the docker files into a distibution runing on Windows Subsystem for Linux. Then the container can be build, run / stop or deleted."
   ]
  },
  {
   "cell_type": "markdown",
   "metadata": {},
   "source": [
    "# Front-end\n",
    "### Deploy front-end in WSL2\n",
    "**Note**<br>\n",
    "Restart kernel before executing cell"
   ]
  },
  {
   "cell_type": "code",
   "execution_count": 1,
   "metadata": {
    "dotnet_interactive": {
     "language": "pwsh"
    },
    "polyglot_notebook": {
     "kernelName": "pwsh"
    },
    "vscode": {
     "languageId": "polyglot-notebook"
    }
   },
   "outputs": [
    {
     "name": "stdout",
     "output_type": "stream",
     "text": [
      "All child items in '\\\\wsl.localhost\\Ubuntu-24.04\\home\\ajacquot\\Documents\\LiveLogger\\Docker\\Front-end\\dist' have been deleted.\r\n"
     ]
    },
    {
     "data": {
      "text/plain": []
     },
     "metadata": {},
     "output_type": "display_data"
    },
    {
     "name": "stdout",
     "output_type": "stream",
     "text": [
      "Files copied successfully from C:\\Users\\Ich\\Documents\\0000_Github\\live-logger\\LiveLogger-Net-TypeScript_NodeJs-Angular\\NxtStp-LiveLogger-Frontend\\dist\\NxtStp-LiveLogger-front\\browser to \\\\wsl.localhost\\Ubuntu-24.04\\home\\ajacquot\\Documents\\LiveLogger\\Docker\\Front-end\\dist\n",
      "Dockerfile copied successfully from C:\\Users\\Ich\\Documents\\0000_Github\\live-logger\\Build\\Docker\\Front-end to \\\\wsl.localhost\\Ubuntu-24.04\\home\\ajacquot\\Documents\\LiveLogger\\Docker\\Front-end\n"
     ]
    }
   ],
   "source": [
    "./Scripts/delploy_front_end_to_wsl2.ps1"
   ]
  },
  {
   "cell_type": "markdown",
   "metadata": {},
   "source": [
    "# Back-end\n",
    "### Deploy back-end in WSL2\n",
    "**Note**<br> \n",
    "Restart kernel before executing cell"
   ]
  },
  {
   "cell_type": "code",
   "execution_count": 1,
   "metadata": {
    "dotnet_interactive": {
     "language": "pwsh"
    },
    "polyglot_notebook": {
     "kernelName": "pwsh"
    },
    "vscode": {
     "languageId": "polyglot-notebook"
    }
   },
   "outputs": [
    {
     "name": "stdout",
     "output_type": "stream",
     "text": [
      "All child items in '\\\\wsl.localhost\\Ubuntu-24.04\\home\\ajacquot\\Documents\\LiveLogger\\Docker\\Back-end\\dist' have been deleted.\r\n"
     ]
    },
    {
     "data": {
      "text/plain": []
     },
     "metadata": {},
     "output_type": "display_data"
    },
    {
     "name": "stdout",
     "output_type": "stream",
     "text": [
      "html and js files copied successfully from C:\\Users\\Ich\\Documents\\0000_Github\\live-logger\\LiveLogger-Net-TypeScript_NodeJs-Angular\\NxtStp-LiveLogger-Backend\\NxtStp.Node-TypeScript.LiveLogger-main\\dist to \\\\wsl.localhost\\Ubuntu-24.04\\home\\ajacquot\\Documents\\LiveLogger\\Docker\\Back-end\\dist\n",
      "Dockerfile copied successfully from C:\\Users\\Ich\\Documents\\0000_Github\\live-logger\\Build\\Docker\\Back-end to \\\\wsl.localhost\\Ubuntu-24.04\\home\\ajacquot\\Documents\\LiveLogger\\Docker\\Back-end\n",
      "package*.json copied successfully from C:\\Users\\Ich\\Documents\\0000_Github\\live-logger\\LiveLogger-Net-TypeScript_NodeJs-Angular\\NxtStp-LiveLogger-Backend\\NxtStp.Node-TypeScript.LiveLogger-main to \\\\wsl.localhost\\Ubuntu-24.04\\home\\ajacquot\\Documents\\LiveLogger\\Docker\\Back-end\n"
     ]
    }
   ],
   "source": [
    "./Scripts/delploy_back_end_to_wsl2.ps1"
   ]
  },
  {
   "cell_type": "markdown",
   "metadata": {},
   "source": [
    "### Build docker image of the back-end"
   ]
  },
  {
   "cell_type": "code",
   "execution_count": 9,
   "metadata": {
    "dotnet_interactive": {
     "language": "pwsh"
    },
    "polyglot_notebook": {
     "kernelName": "pwsh"
    },
    "vscode": {
     "languageId": "polyglot-notebook"
    }
   },
   "outputs": [
    {
     "name": "stdout",
     "output_type": "stream",
     "text": [
      "E\u0000s\u0000 \u0000i\u0000s\u0000t\u0000 \u0000k\u0000e\u0000i\u0000n\u0000e\u0000 \u0000V\u0000e\u0000r\u0000t\u0000e\u0000i\u0000l\u0000u\u0000n\u0000g\u0000 \u0000m\u0000i\u0000t\u0000 \u0000d\u0000e\u0000m\u0000 \u0000a\u0000n\u0000g\u0000e\u0000g\u0000e\u0000b\u0000e\u0000n\u0000e\u0000n\u0000 \u0000N\u0000a\u0000m\u0000e\u0000n\u0000 \u0000v\u0000o\u0000r\u0000h\u0000a\u0000n\u0000d\u0000e\u0000n\u0000.\u0000\n",
      "\u0000\n",
      "\u0000F\u0000e\u0000h\u0000l\u0000e\u0000r\u0000c\u0000o\u0000d\u0000e\u0000:\u0000 \u0000W\u0000s\u0000l\u0000/\u0000S\u0000e\u0000r\u0000v\u0000i\u0000c\u0000e\u0000/\u0000W\u0000S\u0000L\u0000_\u0000E\u0000_\u0000D\u0000I\u0000S\u0000T\u0000R\u0000O\u0000_\u0000N\u0000O\u0000T\u0000_\u0000F\u0000O\u0000U\u0000N\u0000D\u0000\n",
      "\u0000\n",
      "\u0000\n",
      "\u001b[31;1mERROR: \"docker buildx build\" requires exactly 1 argument.\u001b[0m\n",
      "\u001b[31;1mSee 'docker buildx build --help'.\u001b[0m\n",
      "\u001b[31;1m\u001b[0m\n",
      "\u001b[31;1mUsage:  docker buildx build [OPTIONS] PATH | URL | -\u001b[0m\n",
      "\u001b[31;1m\u001b[0m\n",
      "\u001b[31;1mStart a build\u001b[0m\n"
     ]
    }
   ],
   "source": [
    "$distDestinationDir = \"\\\\wsl.localhost\\Ubuntu-24.04\\home\\ajacquot\\Documents\\LiveLogger\\Docker\\Back-end\"\n",
    "docker build -t livelogger-backend $distDestinationDir\n",
    "docker run -d -p 3000:3000 --name NxtStp-LiveLogger-Backend livelogger-backend"
   ]
  }
 ],
 "metadata": {
  "kernelspec": {
   "display_name": ".NET (C#)",
   "language": "C#",
   "name": ".net-csharp"
  },
  "language_info": {
   "name": "python"
  },
  "polyglot_notebook": {
   "kernelInfo": {
    "defaultKernelName": "csharp",
    "items": [
     {
      "aliases": [],
      "name": "csharp"
     }
    ]
   }
  }
 },
 "nbformat": 4,
 "nbformat_minor": 2
}
