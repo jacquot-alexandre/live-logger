{
 "cells": [
  {
   "cell_type": "markdown",
   "metadata": {},
   "source": [
    "# Introduction\n",
    "Development of the Angular front end and nodejs/typescript server is done in the Windows environment. Thus the source code is on the windows machine. Building the front and back end is also done on Windows. Nevertheless to build docker containers for respectively the front and back end, it is necesarry to copy the distributions folder, the list of dependencies (package.json and package-lock.json) and the docker files into a distibution runing on Windows Subsystem for Linux. Then the container can be build, run / stop or deleted."
   ]
  },
  {
   "cell_type": "markdown",
   "metadata": {},
   "source": [
    "# Front-end\n",
    "### Deploy front-end in WSL2\n",
    "**Note**<br>\n",
    "Restart kernel before executing cell"
   ]
  },
  {
   "cell_type": "code",
   "execution_count": 1,
   "metadata": {
    "dotnet_interactive": {
     "language": "pwsh"
    },
    "polyglot_notebook": {
     "kernelName": "pwsh"
    },
    "vscode": {
     "languageId": "polyglot-notebook"
    }
   },
   "outputs": [
    {
     "name": "stdout",
     "output_type": "stream",
     "text": [
      "All child items in '\\\\wsl.localhost\\Ubuntu-24.04\\home\\ajacquot\\Documents\\LiveLogger\\Docker\\Front-end\\dist' have been deleted.\r\n"
     ]
    },
    {
     "data": {
      "text/plain": []
     },
     "metadata": {},
     "output_type": "display_data"
    },
    {
     "name": "stdout",
     "output_type": "stream",
     "text": [
      "Files copied successfully from C:\\Users\\Ich\\Documents\\0000_Github\\live-logger\\LiveLogger-Net-TypeScript_NodeJs-Angular\\NxtStp-LiveLogger-Frontend\\dist\\NxtStp-LiveLogger-front\\browser to \\\\wsl.localhost\\Ubuntu-24.04\\home\\ajacquot\\Documents\\LiveLogger\\Docker\\Front-end\\dist\n",
      "Dockerfile copied successfully from C:\\Users\\Ich\\Documents\\0000_Github\\live-logger\\Build\\Docker\\Front-end to \\\\wsl.localhost\\Ubuntu-24.04\\home\\ajacquot\\Documents\\LiveLogger\\Docker\\Front-end\n",
      "package*.json copied successfully from C:\\Users\\Ich\\Documents\\0000_Github\\live-logger\\LiveLogger-Net-TypeScript_NodeJs-Angular\\NxtStp-LiveLogger-Frontend to \\\\wsl.localhost\\Ubuntu-24.04\\home\\ajacquot\\Documents\\LiveLogger\\Docker\\Front-end\n"
     ]
    }
   ],
   "source": [
    "./Scripts/delploy_front_end_to_wsl2.ps1"
   ]
  },
  {
   "cell_type": "markdown",
   "metadata": {},
   "source": [
    "### Build docker image of the front-end and start the server\n",
    "http://localhost:4200<br>\n",
    "**Note**<br> \n",
    "Restart kernel before executing cell"
   ]
  },
  {
   "cell_type": "code",
   "execution_count": 1,
   "metadata": {
    "dotnet_interactive": {
     "language": "pwsh"
    },
    "polyglot_notebook": {
     "kernelName": "pwsh"
    },
    "vscode": {
     "languageId": "polyglot-notebook"
    }
   },
   "outputs": [
    {
     "name": "stdout",
     "output_type": "stream",
     "text": [
      "\u001b[31;1m#0 building with \"desktop-linux\" instance using docker driver\u001b[0m\n",
      "\u001b[31;1m\u001b[0m\n",
      "\u001b[31;1m#1 [internal] load build definition from Dockerfile\u001b[0m\n",
      "\u001b[31;1m#1 transferring dockerfile: 565B 0.1s done\u001b[0m\n",
      "\u001b[31;1m#1 DONE 0.2s\u001b[0m\n",
      "\u001b[31;1m\u001b[0m\n",
      "\u001b[31;1m#2 [internal] load metadata for docker.io/library/node:23-alpine3.21\u001b[0m\n",
      "\u001b[31;1m#2 DONE 2.7s\u001b[0m\n",
      "\u001b[31;1m\u001b[0m\n",
      "\u001b[31;1m#3 [internal] load .dockerignore\u001b[0m\n",
      "\u001b[31;1m#3 transferring context: 0.1s\u001b[0m\n",
      "\u001b[31;1m#3 transferring context: 2B 0.1s done\u001b[0m\n",
      "\u001b[31;1m#3 DONE 0.3s\u001b[0m\n",
      "\u001b[31;1m\u001b[0m\n",
      "\u001b[31;1m#4 [internal] load build context\u001b[0m\n",
      "\u001b[31;1m#4 DONE 0.0s\u001b[0m\n",
      "\u001b[31;1m\u001b[0m\n",
      "\u001b[31;1m#5 [1/6] FROM docker.io/library/node:23-alpine3.21@sha256:c61b6b12a3c96373673cd52d7ecee2314e82bca5d541eecf0bc6aee870c8c6f7\u001b[0m\n",
      "\u001b[31;1m#5 resolve docker.io/library/node:23-alpine3.21@sha256:c61b6b12a3c96373673cd52d7ecee2314e82bca5d541eecf0bc6aee870c8c6f7\u001b[0m\n",
      "\u001b[31;1m#5 resolve docker.io/library/node:23-alpine3.21@sha256:c61b6b12a3c96373673cd52d7ecee2314e82bca5d541eecf0bc6aee870c8c6f7 0.2s done\u001b[0m\n",
      "\u001b[31;1m#5 DONE 0.3s\u001b[0m\n",
      "\u001b[31;1m\u001b[0m\n",
      "\u001b[31;1m#4 [internal] load build context\u001b[0m\n",
      "\u001b[31;1m#4 transferring context: 433B 0.3s done\u001b[0m\n",
      "\u001b[31;1m#4 DONE 0.4s\u001b[0m\n",
      "\u001b[31;1m\u001b[0m\n",
      "\u001b[31;1m#6 [4/6] RUN npm install\u001b[0m\n",
      "\u001b[31;1m#6 CACHED\u001b[0m\n",
      "\u001b[31;1m\u001b[0m\n",
      "\u001b[31;1m#7 [2/6] WORKDIR /app\u001b[0m\n",
      "\u001b[31;1m#7 CACHED\u001b[0m\n",
      "\u001b[31;1m\u001b[0m\n",
      "\u001b[31;1m#8 [3/6] COPY package*.json ./\u001b[0m\n",
      "\u001b[31;1m#8 CACHED\u001b[0m\n",
      "\u001b[31;1m\u001b[0m\n",
      "\u001b[31;1m#9 [5/6] ADD /dist  /app\u001b[0m\n",
      "\u001b[31;1m#9 CACHED\u001b[0m\n",
      "\u001b[31;1m\u001b[0m\n",
      "\u001b[31;1m#10 [6/6] RUN npm install -g http-server\u001b[0m\n",
      "\u001b[31;1m#10 16.34 \u001b[0m\n",
      "\u001b[31;1m#10 16.34 added 50 packages in 12s\u001b[0m\n",
      "\u001b[31;1m#10 16.34 \u001b[0m\n",
      "\u001b[31;1m#10 16.34 15 packages are looking for funding\u001b[0m\n",
      "\u001b[31;1m#10 16.34   run `npm fund` for details\u001b[0m\n",
      "\u001b[31;1m#10 DONE 16.7s\u001b[0m\n",
      "\u001b[31;1m\u001b[0m\n",
      "\u001b[31;1m#11 exporting to image\u001b[0m\n",
      "\u001b[31;1m#11 exporting layers\u001b[0m\n",
      "\u001b[31;1m#11 exporting layers 1.3s done\u001b[0m\n",
      "\u001b[31;1m#11 exporting manifest sha256:c5cdf20c2477dbf16b80de61684fc95c6999e22d64f26e96bf0a4fc442bbc0bd\u001b[0m\n",
      "\u001b[31;1m#11 exporting manifest sha256:c5cdf20c2477dbf16b80de61684fc95c6999e22d64f26e96bf0a4fc442bbc0bd 0.1s done\u001b[0m\n",
      "\u001b[31;1m#11 exporting config sha256:852c9579fa908c3ea203a2ce9bfde7a42f60c3551c202ca31ae28bfe8214f72d 0.1s done\u001b[0m\n",
      "\u001b[31;1m#11 exporting attestation manifest sha256:18e801caa0260271240902626df3b73a1383bde21db446132c7234da577d8f10\u001b[0m\n",
      "\u001b[31;1m#11 exporting attestation manifest sha256:18e801caa0260271240902626df3b73a1383bde21db446132c7234da577d8f10 0.1s done\u001b[0m\n",
      "\u001b[31;1m#11 exporting manifest list sha256:c04eb962b9cbef5061b7b23aed352aae16013291ce9c2a3b126449a6a0fdc421\u001b[0m\n",
      "\u001b[31;1m#11 exporting manifest list sha256:c04eb962b9cbef5061b7b23aed352aae16013291ce9c2a3b126449a6a0fdc421 0.2s done\u001b[0m\n",
      "\u001b[31;1m#11 naming to docker.io/library/livelogger-frontend:latest\u001b[0m\n",
      "\u001b[31;1m#11 naming to docker.io/library/livelogger-frontend:latest 0.1s done\u001b[0m\n",
      "\u001b[31;1m#11 unpacking to docker.io/library/livelogger-frontend:latest\u001b[0m\n",
      "\u001b[31;1m#11 unpacking to docker.io/library/livelogger-frontend:latest 36.9s done\u001b[0m\n",
      "\u001b[31;1m#11 DONE 39.2s\u001b[0m\n",
      "\u001b[31;1m\u001b[0m\n",
      "\u001b[31;1mView build details: docker-desktop://dashboard/build/desktop-linux/desktop-linux/96rx0nwfmvskqs5tgnv36s6er\u001b[0m\n",
      "bb537b215238bc667bac1ff3181bf1afed4bd5a1fcd5c313cdae2c9715dbc2cd\n"
     ]
    }
   ],
   "source": [
    "# Define the path to the XML file relative to the script\n",
    "$xmlFilePath = \"paths.xml\"\n",
    "\n",
    "# Load the XML file\n",
    "$xml = [xml](Get-Content $xmlFilePath)\n",
    "\n",
    "# Extract the path value\n",
    "$wslDistroDir = $xml.root.wslDistroPath\n",
    "\n",
    "$distDestinationDir = $wslDistroDir+\"\\home\\ajacquot\\Documents\\LiveLogger\\Docker\\Front-end\"\n",
    "docker build -t livelogger-frontend $distDestinationDir\n",
    "docker run -d -p 4200:4200 --name NxtStp-LiveLogger-Frontend livelogger-frontend"
   ]
  },
  {
   "cell_type": "markdown",
   "metadata": {},
   "source": [
    "# Back-end\n",
    "### Deploy back-end in WSL2\n",
    "**Note**<br> \n",
    "Restart kernel before executing cell"
   ]
  },
  {
   "cell_type": "code",
   "execution_count": 1,
   "metadata": {
    "dotnet_interactive": {
     "language": "pwsh"
    },
    "polyglot_notebook": {
     "kernelName": "pwsh"
    },
    "vscode": {
     "languageId": "polyglot-notebook"
    }
   },
   "outputs": [
    {
     "name": "stdout",
     "output_type": "stream",
     "text": [
      "All child items in '\\\\wsl.localhost\\Ubuntu-24.04\\home\\ajacquot\\Documents\\LiveLogger\\Docker\\Back-end\\dist' have been deleted.\r\n"
     ]
    },
    {
     "data": {
      "text/plain": []
     },
     "metadata": {},
     "output_type": "display_data"
    },
    {
     "name": "stdout",
     "output_type": "stream",
     "text": [
      "html and js files copied successfully from C:\\Users\\Ich\\Documents\\0000_Github\\live-logger\\LiveLogger-Net-TypeScript_NodeJs-Angular\\NxtStp-LiveLogger-Backend\\NxtStp.Node-TypeScript.LiveLogger-main\\dist to \\\\wsl.localhost\\Ubuntu-24.04\\home\\ajacquot\\Documents\\LiveLogger\\Docker\\Back-end\\dist\n",
      "Dockerfile copied successfully from C:\\Users\\Ich\\Documents\\0000_Github\\live-logger\\Build\\Docker\\Back-end to \\\\wsl.localhost\\Ubuntu-24.04\\home\\ajacquot\\Documents\\LiveLogger\\Docker\\Back-end\n",
      "package*.json copied successfully from C:\\Users\\Ich\\Documents\\0000_Github\\live-logger\\LiveLogger-Net-TypeScript_NodeJs-Angular\\NxtStp-LiveLogger-Backend\\NxtStp.Node-TypeScript.LiveLogger-main to \\\\wsl.localhost\\Ubuntu-24.04\\home\\ajacquot\\Documents\\LiveLogger\\Docker\\Back-end\n"
     ]
    }
   ],
   "source": [
    "./Scripts/delploy_back_end_to_wsl2.ps1"
   ]
  },
  {
   "cell_type": "markdown",
   "metadata": {},
   "source": [
    "### Build docker image of the back-end and start the server\n",
    "http://localhost:3000<br>\n",
    "**Note**<br> \n",
    "Restart kernel before executing cell"
   ]
  },
  {
   "cell_type": "code",
   "execution_count": null,
   "metadata": {
    "dotnet_interactive": {
     "language": "pwsh"
    },
    "polyglot_notebook": {
     "kernelName": "pwsh"
    },
    "vscode": {
     "languageId": "polyglot-notebook"
    }
   },
   "outputs": [
    {
     "name": "stdout",
     "output_type": "stream",
     "text": [
      "\u001b[31;1m#0 building with \"desktop-linux\" instance using docker driver\u001b[0m\n",
      "\u001b[31;1m\u001b[0m\n",
      "\u001b[31;1m#1 [internal] load build definition from Dockerfile\u001b[0m\n",
      "\u001b[31;1m#1 transferring dockerfile: 30B 0.1s\u001b[0m\n",
      "\u001b[31;1m#1 transferring dockerfile: 460B 0.1s done\u001b[0m\n",
      "\u001b[31;1m#1 DONE 0.3s\u001b[0m\n",
      "\u001b[31;1m\u001b[0m\n",
      "\u001b[31;1m#2 [internal] load metadata for docker.io/library/node:23-alpine3.21\u001b[0m\n",
      "\u001b[31;1m#2 DONE 3.1s\u001b[0m\n",
      "\u001b[31;1m\u001b[0m\n",
      "\u001b[31;1m#3 [internal] load .dockerignore\u001b[0m\n",
      "\u001b[31;1m#3 transferring context:\u001b[0m\n",
      "\u001b[31;1m#3 transferring context: 2B 0.6s done\u001b[0m\n",
      "\u001b[31;1m#3 DONE 0.9s\u001b[0m\n",
      "\u001b[31;1m\u001b[0m\n",
      "\u001b[31;1m#4 [internal] load build context\u001b[0m\n",
      "\u001b[31;1m#4 ...\u001b[0m\n",
      "\u001b[31;1m\u001b[0m\n",
      "\u001b[31;1m#5 [1/5] FROM docker.io/library/node:23-alpine3.21@sha256:c61b6b12a3c96373673cd52d7ecee2314e82bca5d541eecf0bc6aee870c8c6f7\u001b[0m\n",
      "\u001b[31;1m#5 resolve docker.io/library/node:23-alpine3.21@sha256:c61b6b12a3c96373673cd52d7ecee2314e82bca5d541eecf0bc6aee870c8c6f7 0.4s done\u001b[0m\n",
      "\u001b[31;1m#5 DONE 0.5s\u001b[0m\n",
      "\u001b[31;1m\u001b[0m\n",
      "\u001b[31;1m#4 [internal] load build context\u001b[0m\n",
      "\u001b[31;1m#4 transferring context: 2.96kB 1.5s done\u001b[0m\n",
      "\u001b[31;1m#4 DONE 1.8s\u001b[0m\n",
      "\u001b[31;1m\u001b[0m\n",
      "\u001b[31;1m#6 [4/5] RUN npm install\u001b[0m\n",
      "\u001b[31;1m#6 CACHED\u001b[0m\n",
      "\u001b[31;1m\u001b[0m\n",
      "\u001b[31;1m#7 [2/5] WORKDIR /app\u001b[0m\n",
      "\u001b[31;1m#7 CACHED\u001b[0m\n",
      "\u001b[31;1m\u001b[0m\n",
      "\u001b[31;1m#8 [3/5] COPY package*.json ./\u001b[0m\n",
      "\u001b[31;1m#8 CACHED\u001b[0m\n",
      "\u001b[31;1m\u001b[0m\n",
      "\u001b[31;1m#9 [5/5] ADD /dist  /app\u001b[0m\n",
      "\u001b[31;1m#9 CACHED\u001b[0m\n",
      "\u001b[31;1m\u001b[0m\n",
      "\u001b[31;1m#10 exporting to image\u001b[0m\n",
      "\u001b[31;1m#10 exporting layers\u001b[0m\n",
      "\u001b[31;1m#10 exporting layers 0.1s done\u001b[0m\n",
      "\u001b[31;1m#10 exporting manifest sha256:cd2013ad498efdedca31978322846b33be5ea9c4de8fca31dd4831a608abacdd\u001b[0m\n",
      "\u001b[31;1m#10 exporting manifest sha256:cd2013ad498efdedca31978322846b33be5ea9c4de8fca31dd4831a608abacdd 0.3s done\u001b[0m\n",
      "\u001b[31;1m#10 exporting config sha256:48ccc7c7fe08fee15f8a1d9c50a074b5bb871695d24e35d16133176596fa73be\u001b[0m\n",
      "\u001b[31;1m#10 exporting config sha256:48ccc7c7fe08fee15f8a1d9c50a074b5bb871695d24e35d16133176596fa73be 0.2s done\u001b[0m\n",
      "\u001b[31;1m#10 exporting attestation manifest sha256:ca141f45b2f43b2dc963de4a658d7d7aaff103a363e825cb74bb830ff586c242\u001b[0m\n",
      "\u001b[31;1m#10 exporting attestation manifest sha256:ca141f45b2f43b2dc963de4a658d7d7aaff103a363e825cb74bb830ff586c242 0.4s done\u001b[0m\n",
      "\u001b[31;1m#10 exporting manifest list sha256:b3b993067fef89dcd43000e08f978877417bf2e85e813eead3704a960df98ee3\u001b[0m\n",
      "\u001b[31;1m#10 exporting manifest list sha256:b3b993067fef89dcd43000e08f978877417bf2e85e813eead3704a960df98ee3 0.1s done\u001b[0m\n",
      "\u001b[31;1m#10 naming to docker.io/library/livelogger-backend:latest\u001b[0m\n",
      "\u001b[31;1m#10 naming to docker.io/library/livelogger-backend:latest 0.0s done\u001b[0m\n",
      "\u001b[31;1m#10 unpacking to docker.io/library/livelogger-backend:latest\u001b[0m\n",
      "\u001b[31;1m#10 unpacking to docker.io/library/livelogger-backend:latest 7.4s done\u001b[0m\n",
      "\u001b[31;1m#10 DONE 9.4s\u001b[0m\n",
      "\u001b[31;1m\u001b[0m\n",
      "\u001b[31;1mView build details: docker-desktop://dashboard/build/desktop-linux/desktop-linux/mv6lnph4a8obd21bfp0mwqvul\u001b[0m\n",
      "ffce34cc336e20063a9c0858846de544351999b91564a5aba3ca693a5956c473\n"
     ]
    }
   ],
   "source": [
    "# Define the path to the XML file relative to the script\n",
    "$xmlFilePath = \"paths.xml\"\n",
    "\n",
    "# Load the XML file\n",
    "$xml = [xml](Get-Content $xmlFilePath)\n",
    "\n",
    "# Extract the path value\n",
    "$wslDistroDir = $xml.root.wslDistroPath\n",
    "\n",
    "$distDestinationDir = $wslDistroDir+\"\\home\\ajacquot\\Documents\\LiveLogger\\Docker\\Back-end\"\n",
    "docker build -t livelogger-backend $distDestinationDir\n",
    "docker run -d -p 3000:3000 -p 8080:8080 --name NxtStp-LiveLogger-Backend livelogger-backend"
   ]
  },
  {
   "cell_type": "markdown",
   "metadata": {},
   "source": [
    "# Stop back-end docker container\n",
    "**Note**<br> \n",
    "Restart kernel before executing cell\n"
   ]
  },
  {
   "cell_type": "code",
   "execution_count": 4,
   "metadata": {
    "dotnet_interactive": {
     "language": "pwsh"
    },
    "polyglot_notebook": {
     "kernelName": "pwsh"
    },
    "vscode": {
     "languageId": "polyglot-notebook"
    }
   },
   "outputs": [
    {
     "name": "stdout",
     "output_type": "stream",
     "text": [
      "NxtStp-LiveLogger-Backend\r\n"
     ]
    }
   ],
   "source": [
    "docker stop NxtStp-LiveLogger-Backend"
   ]
  },
  {
   "cell_type": "markdown",
   "metadata": {},
   "source": [
    "# Start back-end docker container\n",
    "http://localhost:3000<br>\n",
    "**Note**<br> \n",
    "Restart kernel before executing cell"
   ]
  },
  {
   "cell_type": "code",
   "execution_count": 3,
   "metadata": {
    "dotnet_interactive": {
     "language": "pwsh"
    },
    "polyglot_notebook": {
     "kernelName": "pwsh"
    },
    "vscode": {
     "languageId": "polyglot-notebook"
    }
   },
   "outputs": [
    {
     "name": "stdout",
     "output_type": "stream",
     "text": [
      "NxtStp-LiveLogger-Backend\r\n"
     ]
    }
   ],
   "source": [
    "docker start NxtStp-LiveLogger-Backend"
   ]
  },
  {
   "cell_type": "markdown",
   "metadata": {},
   "source": [
    "# Delete back-end docker container\n",
    "**Note**<br> \n",
    "Restart kernel before executing cell"
   ]
  },
  {
   "cell_type": "code",
   "execution_count": 5,
   "metadata": {
    "dotnet_interactive": {
     "language": "pwsh"
    },
    "polyglot_notebook": {
     "kernelName": "pwsh"
    },
    "vscode": {
     "languageId": "polyglot-notebook"
    }
   },
   "outputs": [
    {
     "name": "stdout",
     "output_type": "stream",
     "text": [
      "NxtStp-LiveLogger-Backend\r\n"
     ]
    }
   ],
   "source": [
    "docker rm NxtStp-LiveLogger-Backend"
   ]
  },
  {
   "cell_type": "markdown",
   "metadata": {},
   "source": [
    "# Delete back-end docker image\n",
    "**Note**<br> \n",
    "Restart kernel before executing cell"
   ]
  },
  {
   "cell_type": "code",
   "execution_count": 8,
   "metadata": {
    "dotnet_interactive": {
     "language": "pwsh"
    },
    "polyglot_notebook": {
     "kernelName": "pwsh"
    },
    "vscode": {
     "languageId": "polyglot-notebook"
    }
   },
   "outputs": [
    {
     "name": "stdout",
     "output_type": "stream",
     "text": [
      "Untagged: livelogger-backend:latest\n",
      "Deleted: sha256:ce5f577b2e32ee082b8eb983a2b3b5507aa069b0467fa0726213c06d108aeb49\n"
     ]
    }
   ],
   "source": [
    "docker rmi livelogger-backend"
   ]
  }
 ],
 "metadata": {
  "kernelspec": {
   "display_name": ".NET (C#)",
   "language": "C#",
   "name": ".net-csharp"
  },
  "language_info": {
   "name": "python"
  },
  "polyglot_notebook": {
   "kernelInfo": {
    "defaultKernelName": "csharp",
    "items": [
     {
      "aliases": [],
      "name": "csharp"
     }
    ]
   }
  }
 },
 "nbformat": 4,
 "nbformat_minor": 2
}
