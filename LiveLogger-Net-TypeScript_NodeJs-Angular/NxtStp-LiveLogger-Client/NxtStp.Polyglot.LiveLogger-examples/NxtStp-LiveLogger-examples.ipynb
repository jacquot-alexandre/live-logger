{
 "cells": [
  {
   "cell_type": "markdown",
   "metadata": {},
   "source": []
  },
  {
   "cell_type": "code",
   "execution_count": null,
   "metadata": {
    "dotnet_interactive": {
     "language": "csharp"
    },
    "polyglot_notebook": {
     "kernelName": "csharp"
    }
   },
   "outputs": [],
   "source": [
    "// Using\n",
    "#r \"../NxtStp.Net.LiveLogger-main/NxtStpHttpClientLib/bin/Debug/net472/NxtStpHttpClientLib.dll\"\n",
    "using NxtStpHttpClientLib;\n",
    "using System.Text.Json;\n",
    "using System.Diagnostics;\n",
    "using System.Threading;\n",
    "using System.Net;\n",
    "\n",
    "// shared classes\n",
    "public class NotebookSpecficObject\n",
    "{\n",
    "    private int itemIndex;\n",
    "\n",
    "    public int ItemIndex\n",
    "    {\n",
    "        get => itemIndex;\n",
    "\n",
    "        set => itemIndex = value;\n",
    "    }\n",
    "\n",
    "    private int delay;\n",
    "\n",
    "    public int Delay\n",
    "    {\n",
    "        get => delay;\n",
    "        set => this.delay = value;\n",
    "    }\n",
    "\n",
    "    private int threadId;\n",
    "\n",
    "    public int ThreadId\n",
    "    {\n",
    "        get => this.threadId;\n",
    "\n",
    "        set => this.threadId = value;\n",
    "    }\n",
    "}\n",
    "\n",
    "internal class NxtStpHttpPerformanceNotebookLog : NxtStpHttpPerformanceLog\n",
    "{\n",
    "    public override void BeginLog(params object[] objects)\n",
    "    {\n",
    "        base.BeginLog(objects); // log starting time, and store it to M0\n",
    "        this.MessagesDictionary.Add(\"ItenIndex\", ((NotebookSpecficObject)objects[0]).ItemIndex.ToString());\n",
    "        this.MessagesDictionary.Add(\"Delay\", ((NotebookSpecficObject)objects[0]).Delay.ToString());\n",
    "        this.MessagesDictionary.Add(\"Begin thread Id\", ((NotebookSpecficObject)objects[0]).ThreadId.ToString());\n",
    "    }\n",
    "\n",
    "    public override void EndLog(params object[] objects)\n",
    "    {\n",
    "        this.MessagesDictionary.Add(\"End thread Id\", ((int)objects[0]).ToString());\n",
    "        base.EndLog(objects);\n",
    "    }\n",
    "}"
   ]
  },
  {
   "cell_type": "markdown",
   "metadata": {},
   "source": [
    "# LiveLogger\n",
    "#### Log information on a live dashboard from within an application as you use it.\n",
    "<b>What</b>\n",
    "<ul>\n",
    "<li>measure execution speed.</li>\n",
    "<li>follow execution order.</li>\n",
    "<li>log exception message.</li>\n",
    "</ul>\n",
    "<b>Where</b>\n",
    "<ul>\n",
    "<li>Work with distributed application too.</li>\n",
    "</ul>\n",
    "<b>When</b>\n",
    "<ul>\n",
    "<li>When IDE integrated debugging tools are not enough.</li>\n",
    "</ul>"
   ]
  },
  {
   "cell_type": "code",
   "execution_count": null,
   "metadata": {
    "dotnet_interactive": {
     "language": "mermaid"
    },
    "polyglot_notebook": {
     "kernelName": "mermaid"
    }
   },
   "outputs": [],
   "source": [
    "sequenceDiagram\n",
    "    Participant app as Application\n",
    "    box grey DotNet http client \n",
    "    participant http as NxtStpHttpClient\n",
    "    end\n",
    "    box grey Node server\n",
    "    participant node as NxtStp.Node.LiveLogger.Main.js\n",
    "    end\n",
    "    box grey Simple logger as html page <br>with embeded javascript and css <br> served directly by <br>the node server.\n",
    "    participant simplepage as index.html\n",
    "    end\n",
    "    box grey Angular logger.\n",
    "    participant angularlogger as NxtStplivelogger-Frontend\n",
    "    end\n",
    "    app ->> http : EndPointPost(json string payload)\n",
    "    http ->> node : log <br>End point\n",
    "    node ->> simplepage : websocket\n",
    "    simplepage ->> node : \n",
    "    node ->> angularlogger : websocket\n",
    "    angularlogger ->> node : "
   ]
  },
  {
   "cell_type": "markdown",
   "metadata": {},
   "source": [
    "### Log information encoded as json object using the log end point\n",
    "One key, one value<br>\n",
    "In the angular application, this create a table with one column and one row"
   ]
  },
  {
   "cell_type": "code",
   "execution_count": null,
   "metadata": {
    "dotnet_interactive": {
     "language": "csharp"
    },
    "polyglot_notebook": {
     "kernelName": "csharp"
    }
   },
   "outputs": [
    {
     "name": "stdout",
     "output_type": "stream",
     "text": [
      "{\r\n",
      "  \"Label\": \"Test2\",\r\n",
      "  \"Value1\": \"1.0\",\r\n",
      "  \"Value2\": \"1.0\"\r\n",
      "}\r\n"
     ]
    }
   ],
   "source": [
    "//Example 1\n",
    "var http = new NxtStpHttpClient();\n",
    "public class JsonPayLoad{\n",
    "    public string Label {get; set;}\n",
    "    public string Value1 {get; set;}\n",
    "    public string Value2 {get; set;}\n",
    "}\n",
    "var payloadObject = new  JsonPayLoad(){\n",
    "    Label = \"Test2\",\n",
    "    Value1 = \"1.0\",\n",
    "    Value2 = \"1.0\"\n",
    "};\n",
    "var options = new JsonSerializerOptions { WriteIndented = true };\n",
    "string jsonPayLoad = JsonSerializer.Serialize(payloadObject, options);\n",
    "http.EndPointPost(jsonPayLoad);\n",
    "Console.WriteLine(jsonPayLoad);"
   ]
  },
  {
   "cell_type": "markdown",
   "metadata": {},
   "source": [
    "### Log information encoded as plain text using the logText end point\n",
    "In the angular application, this does add an item in the *message of type plain text* section of the accordeon item *Unprocessed meassages*"
   ]
  },
  {
   "cell_type": "code",
   "execution_count": null,
   "metadata": {
    "dotnet_interactive": {
     "language": "csharp"
    },
    "polyglot_notebook": {
     "kernelName": "csharp"
    }
   },
   "outputs": [],
   "source": [
    "// Example 2\n",
    "var http = new NxtStpHttpClient(\"127.0.0.1\", \"logText\", \"text/plain\");\n",
    "var textPayLoad = \"Hello world!\";\n",
    "http.EndPointPost(textPayLoad);\n",
    "Console.WriteLine(textPayLoad);"
   ]
  },
  {
   "cell_type": "markdown",
   "metadata": {},
   "source": [
    "### Log execution duration in single thread context and for a single path"
   ]
  },
  {
   "cell_type": "code",
   "execution_count": null,
   "metadata": {
    "dotnet_interactive": {
     "language": "mermaid"
    },
    "polyglot_notebook": {
     "kernelName": "mermaid"
    }
   },
   "outputs": [],
   "source": [
    "classDiagram\n",
    "    class INxtStpHttpClient{\n",
    "    <<interface>>\n",
    "    get; Id : Guid \n",
    "    get; set; Metrics : NxtStpHttpClientMetrics\n",
    "    EndPointPost(string) void}\n",
    "\n",
    "    class NxtStpHttpClient\n",
    "    note for NxtStpHttpClient \"low level API for posting log\"\n",
    "\n",
    "    INxtStpHttpClient <|.. NxtStpHttpClient\n",
    "\n",
    "    class NxtStpHttpClientMetrics{\n",
    "    +M0: long\n",
    "    +M1: long\n",
    "    +M3: long\n",
    "    +M4: long\n",
    "    +PerformanceStopWatchElapsed() long}\n",
    "    class StopWatch\n",
    "    StopWatch ..> NxtStpHttpClientMetrics : constructor injection\n",
    "    NxtStpHttpClientMetrics ..> NxtStpHttpClient : setter injection\n",
    "    note for NxtStpHttpClientMetrics \"Provide functionality for measuring execution time\"\n",
    "\n",
    "    class NxtStpHttpPerformanceLogBase{\n",
    "    -memExecutionPath: Dictionary~int, string~\n",
    "    +MessagesDictionary : \n",
    "    +M0: string\n",
    "    +M1: string\n",
    "    +M2: string\n",
    "    +M3: string\n",
    "    +BeginLog(pathIndex : int)\n",
    "    +EndLog(pathIndex : int, description : string)\n",
    "    +BeginLog(~params~ pathIndexes : int[])\n",
    "    +EndLog(~params~ pathIndexes : int[]\n",
    "    \n",
    "    +DictToJsonString(...) string\n",
    "    +PerformanceStopWatchElapsed() string\n",
    "    }\n",
    "    NxtStpHttpClient <|-- NxtStpHttpPerformanceLogBase\n",
    "    note for NxtStpHttpPerformanceLogBase \"Higher level base class API.\n",
    "    path is an idetifier for an execution path.\n",
    "\n",
    "    <b>memExecutionPath</b> is a private dictonary for which \n",
    "    the key is the path index and the string \n",
    "    are elapsed time in text form \n",
    "    when BeginLog is called. This dictionary is\n",
    "    used to build\n",
    "    \n",
    "    <b>NessagesDictionary</b>. This dictonary\n",
    "    contains path as keys and path execution duration as value.\n",
    "\n",
    "    BeginLog(&lt;params&gt; pathIndexes : int[]) is used for paths \n",
    "    that does start simultaneously. \n",
    "    \n",
    "    EndLog(&lt;params&gt; pathIndexes : int[]) is used to indicate \n",
    "    the execution paths are not executed\""
   ]
  },
  {
   "cell_type": "code",
   "execution_count": null,
   "metadata": {
    "dotnet_interactive": {
     "language": "csharp"
    },
    "polyglot_notebook": {
     "kernelName": "csharp"
    }
   },
   "outputs": [],
   "source": [
    "// Example 3\n",
    "// performance measurement using low level API\n",
    "var stopWatch = new Stopwatch();\n",
    "stopWatch.Start();\n",
    "var http = new NxtStpHttpClient(\"127.0.0.1\", \"logText\", \"text/plain\") { Cloud = false};\n",
    "http.Metrics = new NxtStpHttpClientMetrics(stopWatch);\n",
    "var metrics = http.Metrics;\n",
    "metrics.M0 = http.Metrics.PerformanceStopWatchElapsed();\n",
    "// a long runing task\n",
    "Thread.Sleep(2024);\n",
    "// end\n",
    "metrics.M1 = http.Metrics.PerformanceStopWatchElapsed();\n",
    "var metric1 = metrics.MicroSecondsToSeconds(metrics.M1-metrics.M0);\n",
    "Console.WriteLine(metrics.MicroSecondsToSeconds(metrics.M1-metrics.M0));\n",
    "var log =$\"Metric low level API: {metric1}\";\n",
    "Console.WriteLine(log);\n",
    "http.EndPointPost(log);\n"
   ]
  },
  {
   "cell_type": "code",
   "execution_count": null,
   "metadata": {
    "dotnet_interactive": {
     "language": "csharp"
    },
    "polyglot_notebook": {
     "kernelName": "csharp"
    }
   },
   "outputs": [],
   "source": [
    "// Example 4\n",
    "// performance measurement  using minimum functionalities of the NxtStpHttpPerformanceLogBase base class.\n",
    "var httpPerformanceBase = new NxtStpHttpPerformanceLogBase();\n",
    "httpPerformanceBase.BeginLog(1);\n",
    "// a long runing task\n",
    "Thread.Sleep(2024);\n",
    "// end\n",
    "httpPerformanceBase.EndLog(1, \"The execution path description\");\n",
    "var dict = httpPerformanceBase.MessagesDictionary;\n",
    "var log =  httpPerformanceBase.DictToJsonString(dict);\n",
    "Console.WriteLine(log); // the dictionary contains two kind keys:\n",
    "// - Execution path # \n",
    "// - Path execution duration [s] #. \n",
    "// These two set of keys translates into two columns. The first column provide a description of the path 1 and the second column provide the execution duration of this path.\n",
    "var http = new NxtStpHttpClient();\n",
    "http.EndPointPost(log);\n"
   ]
  },
  {
   "cell_type": "markdown",
   "metadata": {},
   "source": [
    "### Log execution duration of multiple paths"
   ]
  },
  {
   "cell_type": "code",
   "execution_count": null,
   "metadata": {
    "dotnet_interactive": {
     "language": "mermaid"
    },
    "polyglot_notebook": {
     "kernelName": "mermaid"
    }
   },
   "outputs": [],
   "source": [
    "flowchart\n",
    "    A[Start] --> B{Path 1, 2 or 3?}\n",
    "    B -->|path 1|E[End]\n",
    "    B -->|path 2|E[End]\n",
    "    B -->|path 3|E[End]"
   ]
  },
  {
   "cell_type": "code",
   "execution_count": null,
   "metadata": {
    "dotnet_interactive": {
     "language": "csharp"
    },
    "polyglot_notebook": {
     "kernelName": "csharp"
    }
   },
   "outputs": [],
   "source": [
    "// example 5\n",
    "// rather verbose mutipath logging\n",
    "\n",
    "var httpPerformanceBase = new NxtStpHttpPerformanceLogBase();\n",
    "enum Paths {\n",
    "    path1,\n",
    "    path2,\n",
    "    path3\n",
    "}\n",
    "var path = Paths.path2;\n",
    "httpPerformanceBase.BeginLog(1, 2, 3); // start time for path 1, 2 and 3 are same and measured at this point.\n",
    "switch (path) { // one path is executed\n",
    "    case Paths.path1:\n",
    "        Thread.Sleep(1000);\n",
    "        httpPerformanceBase.EndLog(1, \"Path 1 executed\");\n",
    "        httpPerformanceBase.EndLog(2, 3); // set path 2 and 3 as not executed\n",
    "        break;\n",
    "    case Paths.path2:\n",
    "        Thread.Sleep(2000);\n",
    "        httpPerformanceBase.EndLog(2, \"Path 2 executed\");\n",
    "        httpPerformanceBase.EndLog(1, 3); // set path 1 and 3 as not executed\n",
    "        break;\n",
    "    case Paths.path3:\n",
    "        Thread.Sleep(3000);\n",
    "        httpPerformanceBase.EndLog(3, \"Path 3 executed\");\n",
    "        httpPerformanceBase.EndLog(1, 2); // set path 1 and 2 as not executed\n",
    "        break;\n",
    "}\n",
    "httpPerformanceBase.EndLog();\n",
    "var dict = httpPerformanceBase.MessagesDictionary;\n",
    "var log =  httpPerformanceBase.DictToJsonString(dict);\n",
    "Console.WriteLine(log); // the dictionary contains two kind keys:\n",
    "// - Execution path # \n",
    "// - Path execution duration [s] #. \n",
    "// These two set of keys translates into two columns. The first column provide a description of the path 1 and the second column provide the execution duration of this path.\n",
    "var http = new NxtStpHttpClient();\n",
    "http.EndPointPost(log);"
   ]
  },
  {
   "cell_type": "markdown",
   "metadata": {},
   "source": [
    "### Log in a multithread environement\n",
    "**working principle**\n",
    "- for each thread a http client is created that maintains states like time information (log begin time and end time)\n",
    "- http instance are no recreated but reuse whenever possible. There is one http in stance per thread id.\n",
    "- log information are send only at the end as batch to not affect execution time of the method under investigation"
   ]
  },
  {
   "cell_type": "code",
   "execution_count": null,
   "metadata": {
    "dotnet_interactive": {
     "language": "mermaid"
    },
    "polyglot_notebook": {
     "kernelName": "mermaid"
    }
   },
   "outputs": [],
   "source": [
    "classDiagram\n",
    "    class NxtStpHttpClientsContainer~TInstanceIndexType~{\n",
    "    -httpsContainer : ConcurrentDictionary~TInstanceIndexType, INxtStpHttpClient~\n",
    "    +GetHttp~TLogType~(id : TInstanceType) TLogType\n",
    "    }\n",
    "    class INxtStpHttpClient{\n",
    "    <<interface>>\n",
    "    get; Id : Guid \n",
    "    get; set; Metrics : NxtStpHttpClientMetrics\n",
    "    EndPointPost(string) void}\n",
    "    note for INxtStpHttpClient \"NxtStpHttpClientMetrics encapsulate <br>performance measurement functionality.\"\n",
    "    note for NxtStpHttpClientsContainer \"Manage a dictionary of http clients, \n",
    "    one per thread.\n",
    "    TInstanceType can be int \n",
    "    or Guid for example.\"\n",
    "    class TLogType\n",
    "    INxtStpHttpClient <|.. TLogType\n",
    "    TLogType <.. NxtStpHttpClientsContainer : GetHttp return TLogType\n",
    "    note for TLogType \"Is a class typically derived \n",
    "    from NxtStpHttpPerformanceLogBase.\n",
    "    The derived class takes typically \n",
    "    host object as parameter that \n",
    "    provide information to log.\"\n",
    "\n",
    "    class TInstanceIndexType\n",
    "    note for TInstanceIndexType \"Is typically a simple type \n",
    "    like int (same type as \n",
    "    managed thread Id)\"\n",
    "\n",
    "    class NxtStpHttpClientFactory~TInstanceIndexType~{\n",
    "     Lazy(ref NxtStpHttpClientsContainer~TInstanceIndexType~ nxtStepHttpClientsContainer) NxtStpHttpClientsContainer~TInstanceIndexType~ \n",
    "    }\n",
    "    note for NxtStpHttpClientFactory \"Lazy method return either \n",
    "    a new instance of \n",
    "    NxtStpHttpClientsContainer \n",
    "    or the existing one.\n",
    "    \n",
    "    There is an overload Lazy method \n",
    "    that also log how long to create \n",
    "    the container and the specific \n",
    "    http client associated \n",
    "    to each thread context.\"\n",
    "\n",
    "    TInstanceIndexType <.. NxtStpHttpClientFactory : use\n",
    "    TInstanceIndexType <.. NxtStpHttpClientsContainer : use as key in httpsContainer\n",
    "    "
   ]
  },
  {
   "cell_type": "code",
   "execution_count": null,
   "metadata": {
    "dotnet_interactive": {
     "language": "csharp"
    },
    "polyglot_notebook": {
     "kernelName": "csharp"
    }
   },
   "outputs": [],
   "source": [
    "// Example 6\n",
    "// Example that illustrate the use of HttpClientFactory to create an instance of NxtStpHttpClientsContainer and log the time it take to create those instances\n",
    "\n",
    "NxtStpHttpClientsContainer<int> httpClientsContainer; \n",
    "Console.WriteLine($\"Thread # {Thread.CurrentThread.ManagedThreadId}\");\n",
    "var nxtStpHttpPerformanceLogBase = NxtStpHttpClientFactory<int>.Lazy(ref httpClientsContainer, IPAddress.Parse(\"127.0.0.1\"), false, \"Polyglot notebook context\", \"context not use\").GetHttp<NxtStpHttpPerformanceLogBase>(Thread.CurrentThread.ManagedThreadId);\n",
    "nxtStpHttpPerformanceLogBase.BeginLog(1);\n",
    "Thread.Sleep(1000);\n",
    "nxtStpHttpPerformanceLogBase.EndLog(1, \"path 1\");\n",
    "var dict = nxtStpHttpPerformanceLogBase.MessagesDictionary;\n",
    "var log =  nxtStpHttpPerformanceLogBase.DictToJsonString(dict);\n",
    "Console.WriteLine(log); // the dictionary contains two kind keys:\n",
    "// - Execution path # \n",
    "// - Path execution duration [s] #. \n",
    "// These two set of keys translates into two columns. The first column provide a description of the path 1 and the second column provide the execution duration of this path.\n",
    "var http = new NxtStpHttpClient();\n",
    "\n",
    "// log information about execution path 1\n",
    "http.EndPointPost(log);\n",
    "\n",
    "//Log metrics about container and nxtStpHttpPerformanceLogBase creation.\n",
    "var metricsDictionary = nxtStpHttpPerformanceLogBase.Metrics.MetricsDictionary;\n",
    "log =  nxtStpHttpPerformanceLogBase.DictToJsonString(metricsDictionary);\n",
    "Console.WriteLine(log);\n",
    "http.EndPointPost(log);\n",
    "\n"
   ]
  },
  {
   "cell_type": "code",
   "execution_count": null,
   "metadata": {
    "dotnet_interactive": {
     "language": "csharp"
    },
    "polyglot_notebook": {
     "kernelName": "csharp"
    }
   },
   "outputs": [],
   "source": [
    "// Example 7\n",
    "\n",
    "// Example that illustrate the instantiation of a class derived from NxtStpHttpPerformanceLogBase using the a factoring. This class encapsulate a NxtStpHttpClient and \n",
    "// also takes an object that is specific to the host as paramter in the BeginLog method so that information of thtat class can be logged.\n",
    "\n",
    "public class NotebookSpecficObject \n",
    "{\n",
    "    public string Info => \"Notebook specific information\";\n",
    "}\n",
    "\n",
    "var notebook = new NotebookSpecficObject();\n",
    "\n",
    "public class NxtStpHttpPerformanceNotebookLog: NxtStpHttpPerformanceLog\n",
    "{\n",
    "    /// <summary>\n",
    "    /// \n",
    "    /// </summary>\n",
    "    public override void BeginLog(params object[] objects)\n",
    "    {\n",
    "        base.BeginLog(objects); // log starting time, and store it to M0\n",
    "        this.MessagesDictionary.Add(\"Notebook\", ((NotebookSpecficObject)objects[0]).Info);\n",
    "    }\n",
    "}\n",
    "\n",
    "NxtStpHttpClientsContainer<int> httpClientsContainer; \n",
    "Console.WriteLine($\"Thread # {Thread.CurrentThread.ManagedThreadId}\");\n",
    "var nxtStpHttpPerformanceNotebookLog = NxtStpHttpClientFactory<int>.Lazy(ref httpClientsContainer).GetHttp<NxtStpHttpPerformanceNotebookLog>(Thread.CurrentThread.ManagedThreadId);\n",
    "\n",
    "nxtStpHttpPerformanceNotebookLog.BeginLog(notebook);\n",
    "Thread.Sleep(1000);\n",
    "nxtStpHttpPerformanceNotebookLog.EndLog();"
   ]
  },
  {
   "cell_type": "code",
   "execution_count": null,
   "metadata": {
    "dotnet_interactive": {
     "language": "csharp"
    },
    "polyglot_notebook": {
     "kernelName": "csharp"
    }
   },
   "outputs": [],
   "source": [
    "// Example 8\n",
    "// exemple of tasks run in parallele for which we would like to measure for each the execution time \n",
    "\n",
    "using System;\n",
    "using System.Linq;\n",
    "using System.Threading;\n",
    "using System.Threading.Tasks;\n",
    "\n",
    "   const int workItemNumber = 100;\n",
    "   const int maximunDurationOfWorkItemExecution = 100; //milliseconds\n",
    "\n",
    "    public static async Task CreateAndExecuteThreads()\n",
    "    {\n",
    "        // Create a list of 10 work items\n",
    "        var workItemIndexes = Enumerable.Range(1, workItemNumber).ToList();\n",
    "\n",
    "        // Use Parallel.ForEach to create and run tasks\n",
    "        await Task.WhenAll(workItemIndexes.Select(itemIndex => PerformTaskAsync(itemIndex)));\n",
    "    }\n",
    "\n",
    "    private static async Task PerformTaskAsync(int itemIndex)\n",
    "    {\n",
    "        // Create a random number generator\n",
    "        Random random = new Random();\n",
    "\n",
    "        // Generate a random number of milliseconds (less than 1000 ms)\n",
    "        int delay = random.Next(maximunDurationOfWorkItemExecution);\n",
    "\n",
    "        // Wait for the random number of milliseconds\n",
    "        await Task.Delay(delay);\n",
    "\n",
    "        // Log the item, delay, and thread ID\n",
    "        Console.WriteLine($\"Item index: {itemIndex}, Delay: {delay} ms, Thread ID: {Thread.CurrentThread.ManagedThreadId}\");\n",
    "    }\n",
    "\n",
    "    await CreateAndExecuteThreads();\n",
    "\n"
   ]
  },
  {
   "cell_type": "code",
   "execution_count": null,
   "metadata": {},
   "outputs": [
    {
     "name": "stdout",
     "output_type": "stream",
     "text": [
      "Work item index: 79, Delay: 5 ms, Thread ID: 25\n",
      "Work item index: 16, Delay: 7 ms, Thread ID: 21\n",
      "Work item index: 43, Delay: 6 ms, Thread ID: 25\n",
      "Work item index: 41, Delay: 8 ms, Thread ID: 21\n",
      "Work item index: 11, Delay: 4 ms, Thread ID: 25\n",
      "Work item index: 1, Delay: 4 ms, Thread ID: 34\n",
      "Work item index: 59, Delay: 7 ms, Thread ID: 26\n",
      "Work item index: 8, Delay: 30 ms, Thread ID: 25\n",
      "Work item index: 49, Delay: 5 ms, Thread ID: 5\n",
      "Work item index: 9, Delay: 82 ms, Thread ID: 34\n",
      "Work item index: 13, Delay: 55 ms, Thread ID: 34\n",
      "Work item index: 14, Delay: 56 ms, Thread ID: 34\n",
      "Work item index: 15, Delay: 57 ms, Thread ID: 34\n",
      "Work item index: 17, Delay: 75 ms, Thread ID: 34\n",
      "Work item index: 10, Delay: 82 ms, Thread ID: 5\n",
      "Work item index: 19, Delay: 35 ms, Thread ID: 34\n",
      "Work item index: 20, Delay: 15 ms, Thread ID: 5\n",
      "Work item index: 21, Delay: 15 ms, Thread ID: 34\n",
      "Work item index: 22, Delay: 45 ms, Thread ID: 5\n",
      "Work item index: 24, Delay: 87 ms, Thread ID: 5\n",
      "Work item index: 25, Delay: 52 ms, Thread ID: 5\n",
      "Work item index: 26, Delay: 15 ms, Thread ID: 5\n",
      "Work item index: 23, Delay: 79 ms, Thread ID: 34\n",
      "Work item index: 28, Delay: 83 ms, Thread ID: 34\n",
      "Work item index: 27, Delay: 55 ms, Thread ID: 5\n",
      "Work item index: 29, Delay: 32 ms, Thread ID: 34\n",
      "Work item index: 18, Delay: 57 ms, Thread ID: 26\n",
      "Work item index: 31, Delay: 52 ms, Thread ID: 5\n",
      "Work item index: 32, Delay: 30 ms, Thread ID: 26\n",
      "Work item index: 33, Delay: 31 ms, Thread ID: 5\n",
      "Work item index: 34, Delay: 83 ms, Thread ID: 26\n",
      "Work item index: 35, Delay: 26 ms, Thread ID: 5\n",
      "Work item index: 30, Delay: 68 ms, Thread ID: 34\n",
      "Work item index: 37, Delay: 82 ms, Thread ID: 5\n",
      "Work item index: 36, Delay: 34 ms, Thread ID: 26\n",
      "Work item index: 39, Delay: 62 ms, Thread ID: 5\n",
      "Work item index: 38, Delay: 93 ms, Thread ID: 34\n",
      "Work item index: 2, Delay: 48 ms, Thread ID: 34\n",
      "Work item index: 40, Delay: 82 ms, Thread ID: 26\n",
      "Work item index: 42, Delay: 40 ms, Thread ID: 34\n",
      "Work item index: 44, Delay: 58 ms, Thread ID: 26\n",
      "Work item index: 46, Delay: 64 ms, Thread ID: 34\n",
      "Work item index: 12, Delay: 94 ms, Thread ID: 5\n",
      "Work item index: 48, Delay: 90 ms, Thread ID: 5\n",
      "Work item index: 50, Delay: 11 ms, Thread ID: 5\n",
      "Work item index: 51, Delay: 67 ms, Thread ID: 34\n",
      "Work item index: 52, Delay: 27 ms, Thread ID: 5\n",
      "Work item index: 53, Delay: 68 ms, Thread ID: 34\n",
      "Work item index: 54, Delay: 11 ms, Thread ID: 5\n",
      "Work item index: 55, Delay: 52 ms, Thread ID: 5\n",
      "Work item index: 57, Delay: 43 ms, Thread ID: 5\n",
      "Work item index: 56, Delay: 53 ms, Thread ID: 34\n",
      "Work item index: 58, Delay: 80 ms, Thread ID: 5\n",
      "Work item index: 47, Delay: 97 ms, Thread ID: 25\n",
      "Work item index: 60, Delay: 13 ms, Thread ID: 5\n",
      "Work item index: 61, Delay: 61 ms, Thread ID: 5\n",
      "Work item index: 63, Delay: 54 ms, Thread ID: 34\n",
      "Work item index: 65, Delay: 88 ms, Thread ID: 25\n",
      "Work item index: 45, Delay: 86 ms, Thread ID: 26\n",
      "Work item index: 64, Delay: 66 ms, Thread ID: 5\n",
      "Work item index: 67, Delay: 62 ms, Thread ID: 5\n",
      "Work item index: 70, Delay: 59 ms, Thread ID: 5\n",
      "Work item index: 71, Delay: 62 ms, Thread ID: 5\n",
      "Work item index: 72, Delay: 70 ms, Thread ID: 5\n",
      "Work item index: 73, Delay: 46 ms, Thread ID: 25\n",
      "Work item index: 66, Delay: 88 ms, Thread ID: 34\n",
      "Work item index: 68, Delay: 50 ms, Thread ID: 26\n",
      "Work item index: 74, Delay: 55 ms, Thread ID: 25\n",
      "Work item index: 75, Delay: 64 ms, Thread ID: 34\n",
      "Work item index: 76, Delay: 69 ms, Thread ID: 5\n",
      "Work item index: 77, Delay: 15 ms, Thread ID: 25\n",
      "Work item index: 80, Delay: 71 ms, Thread ID: 5\n",
      "Work item index: 78, Delay: 68 ms, Thread ID: 34\n",
      "Work item index: 81, Delay: 70 ms, Thread ID: 5\n",
      "Work item index: 82, Delay: 73 ms, Thread ID: 25\n",
      "Work item index: 83, Delay: 41 ms, Thread ID: 5\n",
      "Work item index: 84, Delay: 87 ms, Thread ID: 34\n",
      "Work item index: 86, Delay: 78 ms, Thread ID: 5\n",
      "Work item index: 87, Delay: 13 ms, Thread ID: 34\n",
      "Work item index: 88, Delay: 76 ms, Thread ID: 25\n",
      "Work item index: 89, Delay: 55 ms, Thread ID: 26\n",
      "Work item index: 90, Delay: 41 ms, Thread ID: 5\n",
      "Work item index: 92, Delay: 10 ms, Thread ID: 34\n",
      "Work item index: 94, Delay: 16 ms, Thread ID: 5\n",
      "Work item index: 91, Delay: 74 ms, Thread ID: 25\n",
      "Work item index: 95, Delay: 34 ms, Thread ID: 34\n",
      "Work item index: 97, Delay: 58 ms, Thread ID: 5\n",
      "Work item index: 93, Delay: 28 ms, Thread ID: 26\n",
      "Work item index: 98, Delay: 60 ms, Thread ID: 34\n",
      "Work item index: 96, Delay: 84 ms, Thread ID: 25\n",
      "Work item index: 99, Delay: 55 ms, Thread ID: 5\n",
      "Work item index: 100, Delay: 57 ms, Thread ID: 25\n",
      "Work item index: 69, Delay: 96 ms, Thread ID: 34\n",
      "Work item index: 3, Delay: 56 ms, Thread ID: 25\n",
      "Work item index: 4, Delay: 55 ms, Thread ID: 25\n",
      "Work item index: 5, Delay: 71 ms, Thread ID: 25\n",
      "Work item index: 6, Delay: 49 ms, Thread ID: 34\n",
      "Work item index: 62, Delay: 94 ms, Thread ID: 5\n",
      "Work item index: 7, Delay: 52 ms, Thread ID: 34\n",
      "Work item index: 85, Delay: 95 ms, Thread ID: 26\n",
      "Elapsed Time: 00:00:01.07\n"
     ]
    }
   ],
   "source": [
    "// Example 9\n",
    "\n",
    "var example_9 = new Example_9();\n",
    "Stopwatch stopwatch = new Stopwatch();\n",
    "stopwatch.Start();\n",
    "await example_9.RunAsync(); // execute 100 tasks in a parallele for each look that \n",
    "                            // take up to 100 ms seconds each. \n",
    "stopwatch.Stop();\n",
    "TimeSpan ts = stopwatch.Elapsed;\n",
    "LogEnlapsedTimeInConsole(ts);\n",
    "\n",
    "private static void LogEnlapsedTimeInConsole(TimeSpan ts)\n",
    "{\n",
    "    Console.WriteLine(\"Elapsed Time: {0:00}:{1:00}:{2:00}.{3:00}\", ts.Hours, ts.Minutes, ts.Seconds, ts.Milliseconds / 10);\n",
    "}\n",
    "\n",
    "public class Example_9\n",
    "{\n",
    "    private const int workItemNumber = 100;\n",
    "\n",
    "    private const int maximunDurationOfWorkItemExecution = 100; //milliseconds\n",
    "\n",
    "    private static readonly object LockHttpFactory = new object();\n",
    "\n",
    "    private static readonly object ConsoleLock = new object();\n",
    "\n",
    "    private NotebookSpecficObject notebook = new NotebookSpecficObject();\n",
    "\n",
    "    private NxtStpHttpClientsContainer<int> httpClientsContainer = null;\n",
    "\n",
    "    internal async Task RunAsync()\n",
    "    {\n",
    "        // Example 9\n",
    "        // exemple of tasks run in parallele for which we would like to measure for each the execution time   \n",
    "\n",
    "        await CreateAndExecuteThreads();\n",
    "    }\n",
    "\n",
    "    private async Task CreateAndExecuteThreads()\n",
    "    {\n",
    "        // Create a list of 10 work items\n",
    "        var workItemIndexes = Enumerable.Range(1, workItemNumber).ToList();\n",
    "\n",
    "        // Use Parallel.ForEach to create and run tasks\n",
    "        await Task.WhenAll(workItemIndexes.Select(itemIndex => PerformTaskAsync(itemIndex)));\n",
    "    }\n",
    "\n",
    "    private async Task PerformTaskAsync(int workItemIndex)\n",
    "    {\n",
    "        int delay;\n",
    "        lock (LockHttpFactory)\n",
    "        {\n",
    "            // Create a random number generator\n",
    "            Random random = new Random();\n",
    "            // Generate a random number of milliseconds (less than 1000 ms) \n",
    "            delay = random.Next(maximunDurationOfWorkItemExecution);\n",
    "            notebook.ItemIndex = workItemIndex;\n",
    "            notebook.Delay = delay;\n",
    "            notebook.ThreadId = Thread.CurrentThread.ManagedThreadId;\n",
    "            NxtStpHttpClientFactory<int>.Lazy(ref httpClientsContainer).GetHttp<NxtStpHttpPerformanceNotebookLog>(workItemIndex).BeginLog(notebook);\n",
    "        }\n",
    "\n",
    "        // Wait for the random number of milliseconds\n",
    "        await Task.Delay(delay);\n",
    "            \n",
    "        lock (LockHttpFactory)\n",
    "        {\n",
    "            NxtStpHttpClientFactory<int>.Lazy(ref httpClientsContainer).GetHttp<NxtStpHttpPerformanceNotebookLog>(workItemIndex).EndLog(Thread.CurrentThread.ManagedThreadId);\n",
    "        }\n",
    "\n",
    "        // Log the item, delay, and thread ID\n",
    "        lock (ConsoleLock)\n",
    "        {\n",
    "            Console.WriteLine($\"Work item index: {workItemIndex}, Delay: {delay} ms, Thread ID: {Thread.CurrentThread.ManagedThreadId}\");\n",
    "        }\n",
    "    }\n",
    "\n",
    "}\n"
   ]
  },
  {
   "cell_type": "code",
   "execution_count": null,
   "metadata": {},
   "outputs": [],
   "source": [
    "// Example 10\n",
    "\n",
    "Stopwatch stopwatch2 = new Stopwatch();\n",
    "var example_10 = new Example_10();\n",
    "stopwatch2.Start();\n",
    "example_10.Run();\n",
    "stopwatch2.Stop();\n",
    "TimeSpan ts2 = stopwatch2.Elapsed;\n",
    "LogEnlapsedTimeInConsole(ts2);\n",
    "\n",
    "private static void LogEnlapsedTimeInConsole(TimeSpan ts)\n",
    "{\n",
    "    Console.WriteLine(\"Elapsed Time: {0:00}:{1:00}:{2:00}.{3:00}\", ts.Hours, ts.Minutes, ts.Seconds, ts.Milliseconds / 10);\n",
    "}\n",
    "\n",
    "private class Example_10\n",
    "{\n",
    "    private const int workItemNumber = 100;\n",
    "\n",
    "    private const int maximunDurationOfWorkItemExecution = 100; //milliseconds\n",
    "\n",
    "    private static readonly object LockHttpFactory = new object();\n",
    "\n",
    "    private static readonly object ConsoleLock = new object();\n",
    "\n",
    "    private NotebookSpecficObject notebook = new NotebookSpecficObject();\n",
    "\n",
    "    private NxtStpHttpClientsContainer<int> httpClientsContainer = null;\n",
    "\n",
    "    internal void Run()\n",
    "    {\n",
    "        var workItemIndexes = Enumerable.Range(1, workItemNumber).ToList();\n",
    "        Parallel.ForEach(workItemIndexes, workItemIndex =>\n",
    "        {\n",
    "            ExecuteMethod(workItemIndex);\n",
    "        });\n",
    "    }\n",
    "\n",
    "    void ExecuteMethod(int workItemIndex)\n",
    "    {\n",
    "        int delay;\n",
    "        lock (LockHttpFactory)\n",
    "        {\n",
    "            // Create a random number generator\n",
    "            Random random = new Random();\n",
    "            // Generate a random number of milliseconds (less than 1000 ms) \n",
    "            delay = random.Next(maximunDurationOfWorkItemExecution);\n",
    "            notebook.ItemIndex = workItemIndex;\n",
    "            notebook.Delay = delay;\n",
    "            notebook.ThreadId = Thread.CurrentThread.ManagedThreadId;\n",
    "            NxtStpHttpClientFactory<int>.Lazy(ref httpClientsContainer).GetHttp<NxtStpHttpPerformanceNotebookLog>(workItemIndex).BeginLog(notebook);\n",
    "        }\n",
    "\n",
    "        Thread.Sleep(delay);\n",
    "\n",
    "        lock (LockHttpFactory)\n",
    "        {\n",
    "            NxtStpHttpClientFactory<int>.Lazy(ref httpClientsContainer).GetHttp<NxtStpHttpPerformanceNotebookLog>(workItemIndex).EndLog(Thread.CurrentThread.ManagedThreadId);\n",
    "        }\n",
    "\n",
    "        lock (ConsoleLock)\n",
    "        {\n",
    "            Console.WriteLine($\"Work item index: {workItemIndex}, Delay: {delay} ms, Thread Id: {Thread.CurrentThread.ManagedThreadId}\");\n",
    "        }\n",
    "    }\n",
    "}\n",
    "\n"
   ]
  }
 ],
 "metadata": {
  "kernelspec": {
   "display_name": ".NET (C#)",
   "language": "C#",
   "name": ".net-csharp"
  },
  "polyglot_notebook": {
   "kernelInfo": {
    "defaultKernelName": "csharp",
    "items": [
     {
      "aliases": [],
      "languageName": "csharp",
      "name": "csharp"
     }
    ]
   }
  }
 },
 "nbformat": 4,
 "nbformat_minor": 2
}
