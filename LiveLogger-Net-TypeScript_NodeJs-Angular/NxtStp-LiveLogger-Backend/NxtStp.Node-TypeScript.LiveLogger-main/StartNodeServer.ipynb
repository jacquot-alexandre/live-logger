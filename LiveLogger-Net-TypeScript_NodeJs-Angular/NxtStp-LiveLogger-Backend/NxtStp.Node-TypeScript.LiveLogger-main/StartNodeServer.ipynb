{
 "cells": [
  {
   "cell_type": "markdown",
   "metadata": {},
   "source": [
    "# Initialization\n",
    "### >Go to root directory\n",
    "**Needed**\n",
    "+ When kernel did start or restart.\n",
    "+ Before starting the node js server."
   ]
  },
  {
   "cell_type": "code",
   "execution_count": null,
   "metadata": {
    "dotnet_interactive": {
     "language": "pwsh"
    },
    "polyglot_notebook": {
     "kernelName": "pwsh"
    }
   },
   "outputs": [
    {
     "name": "stdout",
     "output_type": "stream",
     "text": [
      "Directory change from... \n",
      " C:\\Users\\Ich\\Documents\\0000_Github\\live-logger\\LiveLogger-Net-TypeScript_NodeJs-Angular\\NxtStp-LiveLogger-Backend\\NxtStp.Node-TypeScript.LiveLogger-main\n",
      "to... \n",
      " C:\\Users\\Ich\\Documents\\0000_Github\\live-logger\\LiveLogger-Net-TypeScript_NodeJs-Angular\\NxtStp-LiveLogger-Backend\\NxtStp.Node-TypeScript.LiveLogger-main\n"
     ]
    }
   ],
   "source": [
    "# Define the path to the XML file\n",
    "$xmlFilePath = \"path.xml\"\n",
    "\n",
    "# Load the XML file\n",
    "$xml = [xml](Get-Content $xmlFilePath)\n",
    "\n",
    "# Extract the path value\n",
    "$rootDir = $xml.root.path\n",
    "\n",
    "echo \"Directory change from... `n $pwd\"\n",
    "\n",
    "cd $rootdir\n",
    "echo \"to... `n $pwd\""
   ]
  },
  {
   "cell_type": "markdown",
   "metadata": {},
   "source": [
    "# Node server\n",
    "### Node> Clean & build\n",
    "- delete the dist directory\n",
    "- compile the typescript files, copy the index.htm from src into the dist directory.\n"
   ]
  },
  {
   "cell_type": "code",
   "execution_count": null,
   "metadata": {
    "dotnet_interactive": {
     "language": "pwsh"
    },
    "polyglot_notebook": {
     "kernelName": "pwsh"
    }
   },
   "outputs": [
    {
     "name": "stdout",
     "output_type": "stream",
     "text": [
      "\n",
      "> NxtStp.Node-TypeScript.LiveLogger@1.0.0 clean\n",
      "> rimraf dist\n",
      "\n",
      "\n",
      "> NxtStp.Node-TypeScript.LiveLogger@1.0.0 build\n",
      "> npx tsc && npx copyfiles -u 1 src/static/index.html dist\n",
      "\n"
     ]
    }
   ],
   "source": [
    "cd $rootdir\n",
    "npm run clean\n",
    "npm run build"
   ]
  },
  {
   "cell_type": "markdown",
   "metadata": {},
   "source": [
    "### Node> Start\n",
    "- start the node server.\n",
    "- simple html page can be acesssed from http://localhost:3000"
   ]
  },
  {
   "cell_type": "code",
   "execution_count": null,
   "metadata": {
    "dotnet_interactive": {
     "language": "pwsh"
    },
    "polyglot_notebook": {
     "kernelName": "pwsh"
    }
   },
   "outputs": [
    {
     "name": "stdout",
     "output_type": "stream",
     "text": [
      "\n",
      "> NxtStp.Node-TypeScript.LiveLogger@1.0.0 start\n",
      "> node dist/main.js\n",
      "\n",
      "Server is listening on port 3000\n",
      "{ Label: 'Test2', Value1: '1.0', Value2: '1.0' }\n",
      "Hello world!\n",
      "Metric low level API: 2.02666\n",
      "{\n",
      "  'Execution path 1': 'The execution path description',\n",
      "  'Path execution duration [s] 1': '2.037353'\n",
      "}\n",
      "{\n",
      "  'Execution path 2': 'Path 2 executed',\n",
      "  'Path execution duration [s] 2': '2.002179',\n",
      "  'Execution path 1': 'Execution path not executed',\n",
      "  'Path execution duration [s] 1': 'Execution path not executed',\n",
      "  'Execution path 3': 'Execution path not executed',\n",
      "  'Path execution duration [s] 3': 'Execution path not executed'\n",
      "}\n",
      "{\n",
      "  'Execution path 1': 'path 1',\n",
      "  'Path execution duration [s] 1': '1.011587'\n",
      "}\n",
      "{\n",
      "  'Logger created in': 'Polyglot notebook context',\n",
      "  'Id of the instance containing the logger': 'context not use',\n",
      "  'logger Id': '10',\n",
      "  'logger obtaining method': 'new instance',\n",
      "  'logger instantiation execution time [s]': '0.003079',\n",
      "  ' NxtStpHttpClientsContainer instantiation duration': '0.001592'\n",
      "}\n",
      "{\n",
      "  'Managed thread Id': '1',\n",
      "  'Time stamp at BeginLog': '2025-01-09 21:21:21.266',\n",
      "  Notebook: 'Notebook specific information',\n",
      "  'Time stamp at EndLog': '2025-01-09 21:21:22.328',\n",
      "  'Execution duration [s]': '1.062389'\n",
      "}\n",
      "{\n",
      "  'Managed thread Id': '10',\n",
      "  'Time stamp at BeginLog': '2025-01-09 21:22:46.988',\n",
      "  Notebook: 'Notebook specific information',\n",
      "  'Time stamp at EndLog': '2025-01-09 21:22:48.004',\n",
      "  'Execution duration [s]': '1.016097'\n",
      "}\n"
     ]
    }
   ],
   "source": [
    "cd $rootdir\n",
    "npm run start"
   ]
  },
  {
   "cell_type": "markdown",
   "metadata": {},
   "source": [
    "### Node> Stop\n",
    "**WARNING**<br>\n",
    "To stop the Node js server, first restart the notebook kernel and then kill the process by executing the code below."
   ]
  },
  {
   "cell_type": "code",
   "execution_count": null,
   "metadata": {
    "dotnet_interactive": {
     "language": "pwsh"
    },
    "polyglot_notebook": {
     "kernelName": "pwsh"
    }
   },
   "outputs": [
    {
     "name": "stdout",
     "output_type": "stream",
     "text": [
      "Process with PID 1732 running on port 3000 has been stopped.\r\n"
     ]
    }
   ],
   "source": [
    "# Find the PID of the process using port 3000\n",
    "$nodepid = (Get-NetTCPConnection -LocalPort 3000).OwningProcess\n",
    "\n",
    "# Check if a process was found\n",
    "if ($nodepid) {\n",
    "    # Stop the process\n",
    "    Stop-Process -Id $nodepid -Force\n",
    "    Write-Output \"Process with PID $pid running on port 3000 has been stopped.\"\n",
    "} else {\n",
    "    Write-Output \"No process found running on port 3000.\"\n",
    "}\n"
   ]
  }
 ],
 "metadata": {
  "kernelspec": {
   "display_name": ".NET (C#)",
   "language": "C#",
   "name": ".net-csharp"
  },
  "polyglot_notebook": {
   "kernelInfo": {
    "defaultKernelName": "csharp",
    "items": [
     {
      "aliases": [],
      "name": "csharp"
     },
     {
      "aliases": [],
      "languageName": "pwsh",
      "name": "pwsh"
     }
    ]
   }
  }
 },
 "nbformat": 4,
 "nbformat_minor": 2
}
