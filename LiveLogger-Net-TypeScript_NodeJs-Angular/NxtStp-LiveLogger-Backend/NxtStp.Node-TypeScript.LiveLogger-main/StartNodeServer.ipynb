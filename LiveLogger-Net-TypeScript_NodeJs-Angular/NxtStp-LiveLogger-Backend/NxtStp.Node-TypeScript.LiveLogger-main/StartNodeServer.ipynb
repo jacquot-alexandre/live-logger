{
 "cells": [
  {
   "cell_type": "markdown",
   "metadata": {},
   "source": [
    "# Initialization\n",
    "### >Go to root directory\n",
    "**Needed**\n",
    "+ When kernel did start or restart.\n",
    "+ Before starting the node js server."
   ]
  },
  {
   "cell_type": "code",
   "execution_count": null,
   "metadata": {
    "dotnet_interactive": {
     "language": "pwsh"
    },
    "polyglot_notebook": {
     "kernelName": "pwsh"
    }
   },
   "outputs": [
    {
     "name": "stdout",
     "output_type": "stream",
     "text": [
      "Directory change from... \n",
      " C:\\Users\\Ich\\Documents\\0000_Github\\live-logger\\LiveLogger-Net-TypeScript_NodeJs-Angular\\NxtStp-LiveLogger-Backend\\NxtStp.Node-TypeScript.LiveLogger-main\n",
      "to... \n",
      " C:\\Users\\Ich\\Documents\\0000_Github\\live-logger\\LiveLogger-Net-TypeScript_NodeJs-Angular\\NxtStp-LiveLogger-Backend\\NxtStp.Node-TypeScript.LiveLogger-main\n"
     ]
    }
   ],
   "source": [
    "# Define the path to the XML file\n",
    "$xmlFilePath = \"path.xml\"\n",
    "\n",
    "# Load the XML file\n",
    "$xml = [xml](Get-Content $xmlFilePath)\n",
    "\n",
    "# Extract the path value\n",
    "$rootDir = $xml.root.path\n",
    "\n",
    "echo \"Directory change from... `n $pwd\"\n",
    "\n",
    "cd $rootdir\n",
    "echo \"to... `n $pwd\""
   ]
  },
  {
   "cell_type": "markdown",
   "metadata": {},
   "source": [
    "# Node server\n",
    "### Node> Clean & build\n",
    "- delete the dist directory\n",
    "- compile the typescript files, copy the index.htm from src into the dist directory.\n"
   ]
  },
  {
   "cell_type": "code",
   "execution_count": null,
   "metadata": {
    "dotnet_interactive": {
     "language": "pwsh"
    },
    "polyglot_notebook": {
     "kernelName": "pwsh"
    }
   },
   "outputs": [
    {
     "name": "stdout",
     "output_type": "stream",
     "text": [
      "\n",
      "> NxtStp.Node-TypeScript.LiveLogger@1.0.0 clean\n",
      "> rimraf dist\n",
      "\n",
      "\n",
      "> NxtStp.Node-TypeScript.LiveLogger@1.0.0 build\n",
      "> npx tsc && npx copyfiles -u 1 src/static/index.html dist\n",
      "\n"
     ]
    }
   ],
   "source": [
    "cd $rootdir\n",
    "npm run clean\n",
    "npm run build"
   ]
  },
  {
   "cell_type": "markdown",
   "metadata": {},
   "source": [
    "### Node> Start\n",
    "- start the node server.\n",
    "- simple html page can be acesssed from http://localhost:3000"
   ]
  },
  {
   "cell_type": "code",
   "execution_count": null,
   "metadata": {
    "dotnet_interactive": {
     "language": "pwsh"
    },
    "polyglot_notebook": {
     "kernelName": "pwsh"
    }
   },
   "outputs": [
    {
     "name": "stdout",
     "output_type": "stream",
     "text": [
      "\n",
      "> NxtStp.Node-TypeScript.LiveLogger@1.0.0 start\n",
      "> node dist/main.js\n",
      "\n",
      "Server is listening on port 3000\n",
      "Hello from client\n",
      "{ Label: 'Test2', Value1: '1.0', Value2: '1.0' }\n",
      "Hello from client\n",
      "{ Label: 'Test2', Value1: '1.0', Value2: '1.0' }\n"
     ]
    }
   ],
   "source": [
    "cd $rootdir\n",
    "npm run start"
   ]
  },
  {
   "cell_type": "markdown",
   "metadata": {},
   "source": [
    "### Node> Stop\n",
    "**WARNING**<br>\n",
    "To stop the Node js server, first restart the notebook kernel and then kill the process by executing the code below."
   ]
  },
  {
   "cell_type": "code",
   "execution_count": null,
   "metadata": {
    "dotnet_interactive": {
     "language": "pwsh"
    },
    "polyglot_notebook": {
     "kernelName": "pwsh"
    }
   },
   "outputs": [
    {
     "name": "stdout",
     "output_type": "stream",
     "text": [
      "No process found running on port 3000.\r\n"
     ]
    }
   ],
   "source": [
    "# Find the PID of the process using port 3000\n",
    "$nodepid = (Get-NetTCPConnection -LocalPort 3000).OwningProcess\n",
    "\n",
    "# Check if a process was found\n",
    "if ($nodepid) {\n",
    "    # Stop the process\n",
    "    Stop-Process -Id $nodepid -Force\n",
    "    Write-Output \"Process with PID $pid running on port 3000 has been stopped.\"\n",
    "} else {\n",
    "    Write-Output \"No process found running on port 3000.\"\n",
    "}\n"
   ]
  }
 ],
 "metadata": {
  "kernelspec": {
   "display_name": ".NET (C#)",
   "language": "C#",
   "name": ".net-csharp"
  },
  "polyglot_notebook": {
   "kernelInfo": {
    "defaultKernelName": "csharp",
    "items": [
     {
      "aliases": [],
      "name": "csharp"
     },
     {
      "aliases": [],
      "languageName": "pwsh",
      "name": "pwsh"
     }
    ]
   }
  }
 },
 "nbformat": 4,
 "nbformat_minor": 2
}
