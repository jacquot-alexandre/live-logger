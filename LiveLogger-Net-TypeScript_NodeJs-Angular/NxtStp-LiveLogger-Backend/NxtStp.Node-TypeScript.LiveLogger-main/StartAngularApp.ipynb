{
 "cells": [
  {
   "cell_type": "markdown",
   "metadata": {},
   "source": [
    "# Initialization\n",
    "### >Go to root directory\n",
    "**Needed**\n",
    "+ When kernel did start or restart.\n",
    "+ Before starting the Angular app.\n"
   ]
  },
  {
   "cell_type": "code",
   "execution_count": 1,
   "metadata": {
    "dotnet_interactive": {
     "language": "pwsh"
    },
    "polyglot_notebook": {
     "kernelName": "pwsh"
    },
    "vscode": {
     "languageId": "polyglot-notebook"
    }
   },
   "outputs": [
    {
     "name": "stdout",
     "output_type": "stream",
     "text": [
      "Directory change from... \n",
      " C:\\Users\\Ich\\Documents\\0000_Github\\live-logger\\LiveLogger-Net-TypeScript_NodeJs-Angular\\NxtStp-LiveLogger-Backend\\NxtStp.Node-TypeScript.LiveLogger-main\n",
      "to... \n",
      " C:\\Users\\Ich\\Documents\\0000_Github\\live-logger\\LiveLogger-Net-TypeScript_NodeJs-Angular\\NxtStp-LiveLogger-Backend\\NxtStp.Node-TypeScript.LiveLogger-main\n"
     ]
    }
   ],
   "source": [
    "# Define the path to the XML file\n",
    "$xmlFilePath = \"path.xml\"\n",
    "\n",
    "# Load the XML file\n",
    "$xml = [xml](Get-Content $xmlFilePath)\n",
    "\n",
    "# Extract the path value\n",
    "$rootDir = $xml.root.path\n",
    "\n",
    "echo \"Directory change from... `n $pwd\"\n",
    "\n",
    "cd $rootdir\n",
    "echo \"to... `n $pwd\""
   ]
  },
  {
   "cell_type": "markdown",
   "metadata": {},
   "source": [
    "# Angular web application\n",
    "### ANGULAR WEB APP> build in memory and start the web app. The app can be accessed at http://localhost:4200"
   ]
  },
  {
   "cell_type": "code",
   "execution_count": null,
   "metadata": {
    "dotnet_interactive": {
     "language": "pwsh"
    },
    "polyglot_notebook": {
     "kernelName": "pwsh"
    },
    "vscode": {
     "languageId": "polyglot-notebook"
    }
   },
   "outputs": [
    {
     "name": "stdout",
     "output_type": "stream",
     "text": [
      "Directory change from... \n",
      " C:\\Users\\Ich\\Documents\\0000_Github\\live-logger\\LiveLogger-Net-TypeScript_NodeJs-Angular\\NxtStp-LiveLogger-Backend\\NxtStp.Node-TypeScript.LiveLogger-main\n",
      "to... \n",
      " C:\\Users\\Ich\\Documents\\0000_Github\\live-logger\\LiveLogger-Net-TypeScript_NodeJs-Angular\\NxtStp-LiveLogger-Frontend\n",
      "\u001b[31;1m- Building...\u001b[0m\n",
      "\u001b[31;1m\u001b[0m\n",
      "\n",
      "Initial Chunk Files | Names         |  Raw Size\n",
      "styles.css          | styles        | 355.38 kB |\n",
      "scripts.js          | scripts       | 202.25 kB |\n",
      "main.js             | main          | 135.91 kB |\n",
      "polyfills.js        | polyfills     |  86.16 kB |\n",
      "\n",
      "                    | Initial Total | 779.70 kB\n",
      "\n",
      "Application bundle generation complete. [6.975 seconds]\n",
      "Watch mode enabled. Watching for file changes...\n",
      "  ➜  Local:   http://localhost:4200/\n"
     ]
    }
   ],
   "source": [
    "cd $rootdir\n",
    "echo \"Directory change from... `n $pwd\"\n",
    "cd \"../../NxtStp-LiveLogger-Frontend\"\n",
    "echo \"to... `n $pwd\"\n",
    "ng serve"
   ]
  },
  {
   "cell_type": "markdown",
   "metadata": {},
   "source": [
    "# Angular web application\n",
    "### ANGULAR WEB APP> build and deploy in dist directory"
   ]
  },
  {
   "cell_type": "code",
   "execution_count": 4,
   "metadata": {
    "dotnet_interactive": {
     "language": "pwsh"
    },
    "polyglot_notebook": {
     "kernelName": "pwsh"
    },
    "vscode": {
     "languageId": "polyglot-notebook"
    }
   },
   "outputs": [
    {
     "name": "stdout",
     "output_type": "stream",
     "text": [
      "Directory change from... \n",
      " C:\\Users\\Ich\\Documents\\0000_Github\\live-logger\\LiveLogger-Net-TypeScript_NodeJs-Angular\\NxtStp-LiveLogger-Backend\\NxtStp.Node-TypeScript.LiveLogger-main\n",
      "to... \n",
      " C:\\Users\\Ich\\Documents\\0000_Github\\live-logger\\LiveLogger-Net-TypeScript_NodeJs-Angular\\NxtStp-LiveLogger-Frontend\n",
      "\u001b[31;1m- Building...\u001b[0m\n",
      "\u001b[31;1m\u001b[0m\n",
      "\n",
      "Initial Chunk Files   | Names         |  Raw Size | Estimated Transfer Size\n",
      "main-QYRPHIBO.js      | main          | 435.60 kB |                81.92 kB\n",
      "styles-DC7TAXKB.css   | styles        | 302.44 kB |                29.35 kB\n",
      "scripts-5WHRHU35.js   | scripts       | 144.24 kB |                42.11 kB\n",
      "chunk-FS2YS5PO.js     | -             | 142.37 kB |                41.21 kB\n",
      "polyfills-3ITNT4UF.js | polyfills     |  34.28 kB |                11.14 kB\n",
      "\n",
      "                      | Initial Total |   1.03 MB |               205.72 kB\n",
      "\n",
      "Lazy Chunk Files      | Names         |  Raw Size | Estimated Transfer Size\n",
      "chunk-UIZUONUK.js     | browser       |  62.20 kB |                16.51 kB\n",
      "\n",
      "Application bundle generation complete. [28.308 seconds]\n",
      "\u001b[31;1m▲ [WARNING] bundle initial exceeded maximum budget. Budget 500.00 kB was not met by 558.93 kB with a total of 1.03 MB.\u001b[0m\n",
      "\u001b[31;1m\u001b[0m\n",
      "\u001b[31;1m\u001b[0m\n",
      "\u001b[31;1m▲ [WARNING] 2 rules skipped due to selector errors:\u001b[0m\n",
      "\u001b[31;1m  .form-floating>~label -> Did not expect successive traversals.\u001b[0m\n",
      "\u001b[31;1m  .form-floating>~label -> Did not expect successive traversals.\u001b[0m\n",
      "\u001b[31;1m\u001b[0m\n",
      "\u001b[31;1m\u001b[0m\n"
     ]
    }
   ],
   "source": [
    "cd $rootdir\n",
    "echo \"Directory change from... `n $pwd\"\n",
    "cd \"../../NxtStp-LiveLogger-Frontend\"\n",
    "echo \"to... `n $pwd\"\n",
    "ng build"
   ]
  },
  {
   "cell_type": "markdown",
   "metadata": {},
   "source": [
    "### ANGULAR WEB APP> Stop\n",
    "\n",
    "**WARNING**<br>\n",
    "To stop the web app, first restart the notebook kernel and then kill the process by executing the code below.\n"
   ]
  },
  {
   "cell_type": "code",
   "execution_count": 2,
   "metadata": {
    "dotnet_interactive": {
     "language": "pwsh"
    },
    "polyglot_notebook": {
     "kernelName": "pwsh"
    },
    "vscode": {
     "languageId": "polyglot-notebook"
    }
   },
   "outputs": [
    {
     "name": "stdout",
     "output_type": "stream",
     "text": [
      "Process with PID 18136 running on port 4200 has been stopped.\r\n"
     ]
    }
   ],
   "source": [
    "# Find the PID of the process using port 3000\n",
    "$nodepid = (Get-NetTCPConnection -LocalPort 4200).OwningProcess\n",
    "\n",
    "# Check if a process was found\n",
    "if ($nodepid) {\n",
    "    # Stop the process\n",
    "    Stop-Process -Id $nodepid -Force\n",
    "    Write-Output \"Process with PID $pid running on port 4200 has been stopped.\"\n",
    "} else {\n",
    "    Write-Output \"No process found running on port 4200.\"\n",
    "}\n"
   ]
  }
 ],
 "metadata": {
  "kernelspec": {
   "display_name": ".NET (C#)",
   "language": "C#",
   "name": ".net-csharp"
  },
  "language_info": {
   "name": "python"
  },
  "polyglot_notebook": {
   "kernelInfo": {
    "defaultKernelName": "csharp",
    "items": [
     {
      "aliases": [],
      "name": "csharp"
     }
    ]
   }
  }
 },
 "nbformat": 4,
 "nbformat_minor": 2
}
